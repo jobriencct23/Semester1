{
 "cells": [
  {
   "cell_type": "code",
   "execution_count": 119,
   "metadata": {},
   "outputs": [],
   "source": [
    "import pandas as pd"
   ]
  },
  {
   "attachments": {},
   "cell_type": "markdown",
   "metadata": {},
   "source": [
    "# Data Understanding / Preparation  "
   ]
  },
  {
   "attachments": {},
   "cell_type": "markdown",
   "metadata": {},
   "source": [
    "# Section 1. Exploring Datasets"
   ]
  },
  {
   "cell_type": "code",
   "execution_count": 120,
   "metadata": {},
   "outputs": [
    {
     "name": "stdout",
     "output_type": "stream",
     "text": [
      "<_io.TextIOWrapper name='data/ProdVolumeQuarters.csv' mode='r' encoding='UTF-8'>\n"
     ]
    }
   ],
   "source": [
    "# Using an example dataset determine file encoding format to ensure we can read this date into a dataframe\n",
    "with open(\"data/ProdVolumeQuarters.csv\") as file:\n",
    "    print(file)"
   ]
  },
  {
   "cell_type": "code",
   "execution_count": 121,
   "metadata": {},
   "outputs": [
    {
     "data": {
      "text/plain": [
       "(4, 59)"
      ]
     },
     "execution_count": 121,
     "metadata": {},
     "output_type": "execute_result"
    }
   ],
   "source": [
    "# Reviewing this datafile to view observations and features\n",
    "df = pd.read_csv (\"data/ProdVolumeQuarters.csv\")\n",
    "df.shape"
   ]
  },
  {
   "cell_type": "code",
   "execution_count": 122,
   "metadata": {},
   "outputs": [
    {
     "name": "stdout",
     "output_type": "stream",
     "text": [
      "['freq' 'indic_bt' 'nace_r2' 's_adj' 'unit' 'geo\\\\TIME_PERIOD' '2010-Q1 '\n",
      " '2010-Q2 ' '2010-Q3 ' '2010-Q4 ' '2011-Q1 ' '2011-Q2 ' '2011-Q3 '\n",
      " '2011-Q4 ' '2012-Q1 ' '2012-Q2 ' '2012-Q3 ' '2012-Q4 ' '2013-Q1 '\n",
      " '2013-Q2 ' '2013-Q3 ' '2013-Q4 ' '2014-Q1 ' '2014-Q2 ' '2014-Q3 '\n",
      " '2014-Q4 ' '2015-Q1 ' '2015-Q2 ' '2015-Q3 ' '2015-Q4 ' '2016-Q1 '\n",
      " '2016-Q2 ' '2016-Q3 ' '2016-Q4 ' '2017-Q1 ' '2017-Q2 ' '2017-Q3 '\n",
      " '2017-Q4 ' '2018-Q1 ' '2018-Q2 ' '2018-Q3 ' '2018-Q4 ' '2019-Q1 '\n",
      " '2019-Q2 ' '2019-Q3 ' '2019-Q4 ' '2020-Q1 ' '2020-Q2 ' '2020-Q3 '\n",
      " '2020-Q4 ' '2021-Q1 ' '2021-Q2 ' '2021-Q3 ' '2021-Q4 ' '2022-Q1 '\n",
      " '2022-Q2 ' '2022-Q3 ' '2022-Q4 ' '2023-Q1 ']\n"
     ]
    }
   ],
   "source": [
    "# list all the features of the datset\n",
    "print (df.columns.values)"
   ]
  },
  {
   "cell_type": "code",
   "execution_count": 123,
   "metadata": {
    "scrolled": true
   },
   "outputs": [
    {
     "name": "stdout",
     "output_type": "stream",
     "text": [
      "['geo\\\\TIME_PERIOD', '2010-Q1 ', '2010-Q2 ', '2010-Q3 ', '2010-Q4 ', '2011-Q1 ', '2011-Q2 ', '2011-Q3 ', '2011-Q4 ', '2012-Q1 ', '2012-Q2 ', '2012-Q3 ', '2012-Q4 ', '2013-Q1 ', '2013-Q2 ', '2013-Q3 ', '2013-Q4 ', '2014-Q1 ', '2014-Q2 ', '2014-Q3 ', '2014-Q4 ', '2015-Q1 ', '2015-Q2 ', '2015-Q3 ', '2015-Q4 ', '2016-Q1 ', '2016-Q2 ', '2016-Q3 ', '2016-Q4 ', '2017-Q1 ', '2017-Q2 ', '2017-Q3 ', '2017-Q4 ', '2018-Q1 ', '2018-Q2 ', '2018-Q3 ', '2018-Q4 ', '2019-Q1 ', '2019-Q2 ', '2019-Q3 ', '2019-Q4 ', '2020-Q1 ', '2020-Q2 ', '2020-Q3 ', '2020-Q4 ', '2021-Q1 ', '2021-Q2 ', '2021-Q3 ', '2021-Q4 ', '2022-Q1 ', '2022-Q2 ', '2022-Q3 ', '2022-Q4 ', '2023-Q1 ']\n"
     ]
    }
   ],
   "source": [
    "# Drop features unneeded as part of cleaning the dataset\n",
    "df = df.drop(['freq', 'indic_bt', 'nace_r2', 's_adj', 'unit'], axis = 1)\n",
    "print(list(df.columns))"
   ]
  },
  {
   "cell_type": "code",
   "execution_count": 124,
   "metadata": {},
   "outputs": [],
   "source": [
    "# It was observed that column headers included whitespace, clean column headers by stripping trailing whitespace\n",
    "df = df.rename(columns=lambda x: x.strip())"
   ]
  },
  {
   "cell_type": "code",
   "execution_count": 125,
   "metadata": {},
   "outputs": [
    {
     "name": "stdout",
     "output_type": "stream",
     "text": [
      "['geo\\\\TIME_PERIOD', '2010-Q1', '2010-Q2', '2010-Q3', '2010-Q4', '2011-Q1', '2011-Q2', '2011-Q3', '2011-Q4', '2012-Q1', '2012-Q2', '2012-Q3', '2012-Q4', '2013-Q1', '2013-Q2', '2013-Q3', '2013-Q4', '2014-Q1', '2014-Q2', '2014-Q3', '2014-Q4', '2015-Q1', '2015-Q2', '2015-Q3', '2015-Q4', '2016-Q1', '2016-Q2', '2016-Q3', '2016-Q4', '2017-Q1', '2017-Q2', '2017-Q3', '2017-Q4', '2018-Q1', '2018-Q2', '2018-Q3', '2018-Q4', '2019-Q1', '2019-Q2', '2019-Q3', '2019-Q4', '2020-Q1', '2020-Q2', '2020-Q3', '2020-Q4', '2021-Q1', '2021-Q2', '2021-Q3', '2021-Q4', '2022-Q1', '2022-Q2', '2022-Q3', '2022-Q4', '2023-Q1']\n"
     ]
    }
   ],
   "source": [
    "# list all the features of the datset\n",
    "print(list(df.columns))"
   ]
  },
  {
   "cell_type": "code",
   "execution_count": 126,
   "metadata": {},
   "outputs": [
    {
     "name": "stdout",
     "output_type": "stream",
     "text": [
      "['GEO', '2010Q1', '2010Q2', '2010-Q3', '2010-Q4', '2011-Q1', '2011-Q2', '2011-Q3', '2011-Q4', '2012-Q1', '2012-Q2', '2012-Q3', '2012-Q4', '2013-Q1', '2013-Q2', '2013-Q3', '2013-Q4', '2014-Q1', '2014-Q2', '2014-Q3', '2014-Q4', '2015-Q1', '2015-Q2', '2015-Q3', '2015-Q4', '2016-Q1', '2016-Q2', '2016-Q3', '2016-Q4', '2017-Q1', '2017-Q2', '2017-Q3', '2017-Q4', '2018-Q1', '2018-Q2', '2018-Q3', '2018-Q4', '2019-Q1', '2019-Q2', '2019-Q3', '2019-Q4', '2020-Q1', '2020-Q2', '2020-Q3', '2020-Q4', '2021-Q1', '2021-Q2', '2021-Q3', '2021-Q4', '2022-Q1', '2022-Q2', '2022-Q3', '2022-Q4', '2023-Q1']\n"
     ]
    },
    {
     "data": {
      "text/html": [
       "<div>\n",
       "<style scoped>\n",
       "    .dataframe tbody tr th:only-of-type {\n",
       "        vertical-align: middle;\n",
       "    }\n",
       "\n",
       "    .dataframe tbody tr th {\n",
       "        vertical-align: top;\n",
       "    }\n",
       "\n",
       "    .dataframe thead th {\n",
       "        text-align: right;\n",
       "    }\n",
       "</style>\n",
       "<table border=\"1\" class=\"dataframe\">\n",
       "  <thead>\n",
       "    <tr style=\"text-align: right;\">\n",
       "      <th></th>\n",
       "      <th>GEO</th>\n",
       "      <th>2010Q1</th>\n",
       "      <th>2010Q2</th>\n",
       "      <th>2010-Q3</th>\n",
       "      <th>2010-Q4</th>\n",
       "      <th>2011-Q1</th>\n",
       "      <th>2011-Q2</th>\n",
       "      <th>2011-Q3</th>\n",
       "      <th>2011-Q4</th>\n",
       "      <th>2012-Q1</th>\n",
       "      <th>...</th>\n",
       "      <th>2020-Q4</th>\n",
       "      <th>2021-Q1</th>\n",
       "      <th>2021-Q2</th>\n",
       "      <th>2021-Q3</th>\n",
       "      <th>2021-Q4</th>\n",
       "      <th>2022-Q1</th>\n",
       "      <th>2022-Q2</th>\n",
       "      <th>2022-Q3</th>\n",
       "      <th>2022-Q4</th>\n",
       "      <th>2023-Q1</th>\n",
       "    </tr>\n",
       "  </thead>\n",
       "  <tbody>\n",
       "    <tr>\n",
       "      <th>0</th>\n",
       "      <td>AT</td>\n",
       "      <td>97.8</td>\n",
       "      <td>98.9</td>\n",
       "      <td>97.1</td>\n",
       "      <td>96.0</td>\n",
       "      <td>96.8</td>\n",
       "      <td>99.9</td>\n",
       "      <td>98.5</td>\n",
       "      <td>101.3</td>\n",
       "      <td>98.7</td>\n",
       "      <td>...</td>\n",
       "      <td>123.2</td>\n",
       "      <td>126.7</td>\n",
       "      <td>127.7</td>\n",
       "      <td>125.9</td>\n",
       "      <td>126.6</td>\n",
       "      <td>131.8</td>\n",
       "      <td>132.6</td>\n",
       "      <td>129.4</td>\n",
       "      <td>130.6</td>\n",
       "      <td>:</td>\n",
       "    </tr>\n",
       "    <tr>\n",
       "      <th>1</th>\n",
       "      <td>BE</td>\n",
       "      <td>101.0</td>\n",
       "      <td>102.7</td>\n",
       "      <td>102.9</td>\n",
       "      <td>97.5</td>\n",
       "      <td>106.5</td>\n",
       "      <td>106.0</td>\n",
       "      <td>106.2</td>\n",
       "      <td>106.7</td>\n",
       "      <td>105.6</td>\n",
       "      <td>...</td>\n",
       "      <td>96.2</td>\n",
       "      <td>99.8</td>\n",
       "      <td>98.2</td>\n",
       "      <td>97.8</td>\n",
       "      <td>96.9</td>\n",
       "      <td>99.3</td>\n",
       "      <td>99.0</td>\n",
       "      <td>99.3</td>\n",
       "      <td>99.3</td>\n",
       "      <td>:</td>\n",
       "    </tr>\n",
       "    <tr>\n",
       "      <th>2</th>\n",
       "      <td>IE</td>\n",
       "      <td>99.8</td>\n",
       "      <td>98.9</td>\n",
       "      <td>93.0</td>\n",
       "      <td>85.0</td>\n",
       "      <td>79.0</td>\n",
       "      <td>76.3</td>\n",
       "      <td>78.3</td>\n",
       "      <td>81.1</td>\n",
       "      <td>77.4</td>\n",
       "      <td>...</td>\n",
       "      <td>140.3</td>\n",
       "      <td>110.0</td>\n",
       "      <td>123.1</td>\n",
       "      <td>131.8</td>\n",
       "      <td>140.6</td>\n",
       "      <td>135.5</td>\n",
       "      <td>131.5</td>\n",
       "      <td>129.1</td>\n",
       "      <td>125.1 p</td>\n",
       "      <td>:</td>\n",
       "    </tr>\n",
       "    <tr>\n",
       "      <th>3</th>\n",
       "      <td>NO</td>\n",
       "      <td>78.5</td>\n",
       "      <td>79.8</td>\n",
       "      <td>80.1</td>\n",
       "      <td>79.3</td>\n",
       "      <td>79.6</td>\n",
       "      <td>81.3</td>\n",
       "      <td>80.2</td>\n",
       "      <td>85.2</td>\n",
       "      <td>86.3</td>\n",
       "      <td>...</td>\n",
       "      <td>116.7</td>\n",
       "      <td>117.8</td>\n",
       "      <td>116.8</td>\n",
       "      <td>118.2</td>\n",
       "      <td>121.3</td>\n",
       "      <td>123.2</td>\n",
       "      <td>124.1</td>\n",
       "      <td>123.0</td>\n",
       "      <td>123.9</td>\n",
       "      <td>123.7</td>\n",
       "    </tr>\n",
       "  </tbody>\n",
       "</table>\n",
       "<p>4 rows × 54 columns</p>\n",
       "</div>"
      ],
      "text/plain": [
       "  GEO  2010Q1  2010Q2  2010-Q3  2010-Q4  2011-Q1  2011-Q2  2011-Q3  2011-Q4  \\\n",
       "0  AT    97.8    98.9     97.1     96.0     96.8     99.9     98.5    101.3   \n",
       "1  BE   101.0   102.7    102.9     97.5    106.5    106.0    106.2    106.7   \n",
       "2  IE    99.8    98.9     93.0     85.0     79.0     76.3     78.3     81.1   \n",
       "3  NO    78.5    79.8     80.1     79.3     79.6     81.3     80.2     85.2   \n",
       "\n",
       "   2012-Q1  ...  2020-Q4  2021-Q1  2021-Q2  2021-Q3  2021-Q4  2022-Q1  \\\n",
       "0     98.7  ...    123.2    126.7    127.7    125.9    126.6    131.8   \n",
       "1    105.6  ...     96.2     99.8     98.2     97.8     96.9     99.3   \n",
       "2     77.4  ...    140.3    110.0    123.1    131.8    140.6    135.5   \n",
       "3     86.3  ...    116.7    117.8    116.8    118.2    121.3    123.2   \n",
       "\n",
       "   2022-Q2  2022-Q3  2022-Q4  2023-Q1  \n",
       "0    132.6    129.4    130.6       :   \n",
       "1     99.0     99.3     99.3       :   \n",
       "2    131.5    129.1  125.1 p       :   \n",
       "3    124.1    123.0    123.9    123.7  \n",
       "\n",
       "[4 rows x 54 columns]"
      ]
     },
     "execution_count": 126,
     "metadata": {},
     "output_type": "execute_result"
    }
   ],
   "source": [
    "# Rename some column names to ease further manipulation\n",
    "df = df.rename (columns={'geo\\TIME_PERIOD': 'GEO', '2010-Q1': '2010Q1', '2010-Q2': '2010Q2'})\n",
    "print(list(df.columns))\n",
    "df.head()"
   ]
  },
  {
   "cell_type": "code",
   "execution_count": 127,
   "metadata": {},
   "outputs": [
    {
     "data": {
      "text/html": [
       "<div>\n",
       "<style scoped>\n",
       "    .dataframe tbody tr th:only-of-type {\n",
       "        vertical-align: middle;\n",
       "    }\n",
       "\n",
       "    .dataframe tbody tr th {\n",
       "        vertical-align: top;\n",
       "    }\n",
       "\n",
       "    .dataframe thead th {\n",
       "        text-align: right;\n",
       "    }\n",
       "</style>\n",
       "<table border=\"1\" class=\"dataframe\">\n",
       "  <thead>\n",
       "    <tr style=\"text-align: right;\">\n",
       "      <th></th>\n",
       "      <th>GEO</th>\n",
       "      <th>PERIOD</th>\n",
       "      <th>ProductionVolume</th>\n",
       "    </tr>\n",
       "  </thead>\n",
       "  <tbody>\n",
       "    <tr>\n",
       "      <th>0</th>\n",
       "      <td>AT</td>\n",
       "      <td>2010Q1</td>\n",
       "      <td>97.8</td>\n",
       "    </tr>\n",
       "    <tr>\n",
       "      <th>1</th>\n",
       "      <td>BE</td>\n",
       "      <td>2010Q1</td>\n",
       "      <td>101.0</td>\n",
       "    </tr>\n",
       "    <tr>\n",
       "      <th>2</th>\n",
       "      <td>IE</td>\n",
       "      <td>2010Q1</td>\n",
       "      <td>99.8</td>\n",
       "    </tr>\n",
       "    <tr>\n",
       "      <th>3</th>\n",
       "      <td>NO</td>\n",
       "      <td>2010Q1</td>\n",
       "      <td>78.5</td>\n",
       "    </tr>\n",
       "    <tr>\n",
       "      <th>4</th>\n",
       "      <td>AT</td>\n",
       "      <td>2010Q2</td>\n",
       "      <td>98.9</td>\n",
       "    </tr>\n",
       "    <tr>\n",
       "      <th>5</th>\n",
       "      <td>BE</td>\n",
       "      <td>2010Q2</td>\n",
       "      <td>102.7</td>\n",
       "    </tr>\n",
       "    <tr>\n",
       "      <th>6</th>\n",
       "      <td>IE</td>\n",
       "      <td>2010Q2</td>\n",
       "      <td>98.9</td>\n",
       "    </tr>\n",
       "    <tr>\n",
       "      <th>7</th>\n",
       "      <td>NO</td>\n",
       "      <td>2010Q2</td>\n",
       "      <td>79.8</td>\n",
       "    </tr>\n",
       "  </tbody>\n",
       "</table>\n",
       "</div>"
      ],
      "text/plain": [
       "  GEO  PERIOD  ProductionVolume\n",
       "0  AT  2010Q1              97.8\n",
       "1  BE  2010Q1             101.0\n",
       "2  IE  2010Q1              99.8\n",
       "3  NO  2010Q1              78.5\n",
       "4  AT  2010Q2              98.9\n",
       "5  BE  2010Q2             102.7\n",
       "6  IE  2010Q2              98.9\n",
       "7  NO  2010Q2              79.8"
      ]
     },
     "execution_count": 127,
     "metadata": {},
     "output_type": "execute_result"
    }
   ],
   "source": [
    "# Demonstrate how the data will be manipulated by moving from wide format to long format\n",
    "melted = pd.melt(df, id_vars=['GEO'], value_vars=['2010Q1', '2010Q2'], var_name='PERIOD', value_name='ProductionVolume')\n",
    "melted.head(10)"
   ]
  },
  {
   "attachments": {},
   "cell_type": "markdown",
   "metadata": {},
   "source": [
    "# Section 2. Cleaning Datasets"
   ]
  },
  {
   "cell_type": "code",
   "execution_count": 128,
   "metadata": {},
   "outputs": [],
   "source": [
    "# Create an array to store all of the datasets that will be cleaned \n",
    "datafiles = [\n",
    "    'data/BuildPermitsQuarters.csv', \n",
    "    'data/HousePriceIndxQuarters.csv', \n",
    "    'data/LabourInputQuarters.csv', \n",
    "    'data/ProdCostsQuarters.csv',\n",
    "    'data/ProdVolumeQuarters.csv',\n",
    "    'data/SentimentIndicatorsQuarters.csv'\n",
    "    ]\n",
    "\n",
    "\n",
    "# Define a function that cleans the original datasets into the format that has been demonstrated above\n",
    "def cleancolumns(datafiles):\n",
    "\n",
    "    cleaned = []\n",
    "\n",
    "    for datafile in datafiles:\n",
    "        formatdata = pd.read_csv(datafile) # Read a dataset from the datafiles array\n",
    "        columns = [c.strip() for c in formatdata.columns] # Remove trailing whitespaces\n",
    "        correctformat = [c.replace('-', '') if '-' in c else c for c in columns]  # Strip out - character from column headers\n",
    "        \n",
    "    \n",
    "        if 'geo\\TIME_PERIOD' in correctformat: # Rename the 'geo\\TIME_PERIOD' column to 'GEO'\n",
    "            geocolumn = correctformat.index('geo\\TIME_PERIOD')\n",
    "            correctformat[geocolumn] = 'GEO'\n",
    "\n",
    "        formatdata.columns = correctformat\n",
    "        cleaned.append(formatdata)\n",
    "\n",
    "    return cleaned\n",
    "\n",
    "# Call the cleancolumns function and apply to the datasets stored in the datafiles array \n",
    "formatteddata = cleancolumns(datafiles)\n",
    "\n",
    "\n",
    "# Use a loop to drop unneeded column featurs from each datafile\n",
    "\n",
    "for data in formatteddata:\n",
    "    allcolumns = data.columns.tolist() #list all current columns\n",
    "\n",
    "    for column in allcolumns: # Use a for loop to drop columns according to specific criteria\n",
    "         if not column.startswith('2') and column != 'GEO':\n",
    "            data.drop(columns=[column], inplace=True)\n",
    "\n"
   ]
  },
  {
   "attachments": {},
   "cell_type": "markdown",
   "metadata": {},
   "source": [
    "# Section 3. Feature Engineering"
   ]
  },
  {
   "attachments": {},
   "cell_type": "markdown",
   "metadata": {},
   "source": [
    "Modify the dataset for Permits"
   ]
  },
  {
   "cell_type": "code",
   "execution_count": 129,
   "metadata": {},
   "outputs": [
    {
     "data": {
      "text/html": [
       "<div>\n",
       "<style scoped>\n",
       "    .dataframe tbody tr th:only-of-type {\n",
       "        vertical-align: middle;\n",
       "    }\n",
       "\n",
       "    .dataframe tbody tr th {\n",
       "        vertical-align: top;\n",
       "    }\n",
       "\n",
       "    .dataframe thead th {\n",
       "        text-align: right;\n",
       "    }\n",
       "</style>\n",
       "<table border=\"1\" class=\"dataframe\">\n",
       "  <thead>\n",
       "    <tr style=\"text-align: right;\">\n",
       "      <th></th>\n",
       "      <th>GEO_PERIOD</th>\n",
       "      <th>Permits</th>\n",
       "    </tr>\n",
       "  </thead>\n",
       "  <tbody>\n",
       "    <tr>\n",
       "      <th>0</th>\n",
       "      <td>AT 2010Q1</td>\n",
       "      <td>72.4</td>\n",
       "    </tr>\n",
       "    <tr>\n",
       "      <th>1</th>\n",
       "      <td>BE 2010Q1</td>\n",
       "      <td>116.2</td>\n",
       "    </tr>\n",
       "    <tr>\n",
       "      <th>2</th>\n",
       "      <td>IE 2010Q1</td>\n",
       "      <td>115.7</td>\n",
       "    </tr>\n",
       "    <tr>\n",
       "      <th>3</th>\n",
       "      <td>NO 2010Q1</td>\n",
       "      <td>91.3</td>\n",
       "    </tr>\n",
       "    <tr>\n",
       "      <th>4</th>\n",
       "      <td>AT 2010Q2</td>\n",
       "      <td>98.1</td>\n",
       "    </tr>\n",
       "  </tbody>\n",
       "</table>\n",
       "</div>"
      ],
      "text/plain": [
       "  GEO_PERIOD Permits\n",
       "0  AT 2010Q1   72.4 \n",
       "1  BE 2010Q1  116.2 \n",
       "2  IE 2010Q1   115.7\n",
       "3  NO 2010Q1    91.3\n",
       "4  AT 2010Q2   98.1 "
      ]
     },
     "execution_count": 129,
     "metadata": {},
     "output_type": "execute_result"
    }
   ],
   "source": [
    "# Assign list entries to individual dataframes for future use\n",
    "df_permits = formatteddata[0]\n",
    "\n",
    "# move data from wide format to long format\n",
    "permits = [c for c in df_permits.columns if c.startswith('2')]\n",
    "df_permits = pd.melt(df_permits, id_vars=['GEO'], value_vars=permits, var_name='PERIOD', value_name='Permits')\n",
    "\n",
    "# Create a new feature that will be used to uniquely identify each row\n",
    "df_permits['GEO_PERIOD'] = df_permits['GEO'].astype(str) + ' ' + df_permits['PERIOD'].astype(str)\n",
    "df_permits = df_permits[['GEO_PERIOD', 'Permits']]\n",
    "\n",
    "\n",
    "# Use a function to remove any letters from the Permits column\n",
    "def stripletters(s):\n",
    "    return ''.join(filter(lambda x: not x.isalpha(), s)) # Use isalpha method to remove letters from each row https://www.w3schools.com/python/ref_string_isalpha.asp\n",
    "\n",
    "df_permits['Permits'] = df_permits['Permits'].apply(stripletters)\n",
    "\n",
    "df_permits.head()\n"
   ]
  },
  {
   "attachments": {},
   "cell_type": "markdown",
   "metadata": {},
   "source": [
    "Modify the dataset for PriceIndex"
   ]
  },
  {
   "cell_type": "code",
   "execution_count": 130,
   "metadata": {},
   "outputs": [
    {
     "data": {
      "text/html": [
       "<div>\n",
       "<style scoped>\n",
       "    .dataframe tbody tr th:only-of-type {\n",
       "        vertical-align: middle;\n",
       "    }\n",
       "\n",
       "    .dataframe tbody tr th {\n",
       "        vertical-align: top;\n",
       "    }\n",
       "\n",
       "    .dataframe thead th {\n",
       "        text-align: right;\n",
       "    }\n",
       "</style>\n",
       "<table border=\"1\" class=\"dataframe\">\n",
       "  <thead>\n",
       "    <tr style=\"text-align: right;\">\n",
       "      <th></th>\n",
       "      <th>GEO_PERIOD</th>\n",
       "      <th>PriceIndex</th>\n",
       "    </tr>\n",
       "  </thead>\n",
       "  <tbody>\n",
       "    <tr>\n",
       "      <th>0</th>\n",
       "      <td>AT 2010Q1</td>\n",
       "      <td>74.05</td>\n",
       "    </tr>\n",
       "    <tr>\n",
       "      <th>1</th>\n",
       "      <td>BE 2010Q1</td>\n",
       "      <td>90.28</td>\n",
       "    </tr>\n",
       "    <tr>\n",
       "      <th>2</th>\n",
       "      <td>IE 2010Q1</td>\n",
       "      <td>111.53</td>\n",
       "    </tr>\n",
       "    <tr>\n",
       "      <th>3</th>\n",
       "      <td>NO 2010Q1</td>\n",
       "      <td>73.93</td>\n",
       "    </tr>\n",
       "    <tr>\n",
       "      <th>4</th>\n",
       "      <td>AT 2010Q2</td>\n",
       "      <td>76.54</td>\n",
       "    </tr>\n",
       "  </tbody>\n",
       "</table>\n",
       "</div>"
      ],
      "text/plain": [
       "  GEO_PERIOD PriceIndex\n",
       "0  AT 2010Q1      74.05\n",
       "1  BE 2010Q1      90.28\n",
       "2  IE 2010Q1     111.53\n",
       "3  NO 2010Q1      73.93\n",
       "4  AT 2010Q2      76.54"
      ]
     },
     "execution_count": 130,
     "metadata": {},
     "output_type": "execute_result"
    }
   ],
   "source": [
    "# Assign list entries to individual dataframes for future use\n",
    "df_priceIndx = formatteddata[1]\n",
    "\n",
    "# move data from wide format to long format\n",
    "prices = [c for c in df_priceIndx.columns if c.startswith('2')]\n",
    "df_priceIndx = pd.melt(df_priceIndx, id_vars=['GEO'], value_vars=prices, var_name='PERIOD', value_name='PriceIndex')\n",
    "\n",
    "# Create a new feature that will be used to uniquely identify each row\n",
    "df_priceIndx['GEO_PERIOD'] = df_priceIndx['GEO'].astype(str) + ' ' + df_priceIndx['PERIOD'].astype(str)\n",
    "df_priceIndx = df_priceIndx[['GEO_PERIOD', 'PriceIndex']]\n",
    "\n",
    "\n",
    "\n",
    "df_priceIndx.head()\n"
   ]
  },
  {
   "attachments": {},
   "cell_type": "markdown",
   "metadata": {},
   "source": [
    "Modify the dataset for LabourInput"
   ]
  },
  {
   "cell_type": "code",
   "execution_count": 131,
   "metadata": {},
   "outputs": [
    {
     "data": {
      "text/html": [
       "<div>\n",
       "<style scoped>\n",
       "    .dataframe tbody tr th:only-of-type {\n",
       "        vertical-align: middle;\n",
       "    }\n",
       "\n",
       "    .dataframe tbody tr th {\n",
       "        vertical-align: top;\n",
       "    }\n",
       "\n",
       "    .dataframe thead th {\n",
       "        text-align: right;\n",
       "    }\n",
       "</style>\n",
       "<table border=\"1\" class=\"dataframe\">\n",
       "  <thead>\n",
       "    <tr style=\"text-align: right;\">\n",
       "      <th></th>\n",
       "      <th>GEO_PERIOD</th>\n",
       "      <th>LabourInput</th>\n",
       "    </tr>\n",
       "  </thead>\n",
       "  <tbody>\n",
       "    <tr>\n",
       "      <th>0</th>\n",
       "      <td>AT 2010Q1</td>\n",
       "      <td>87.3</td>\n",
       "    </tr>\n",
       "    <tr>\n",
       "      <th>1</th>\n",
       "      <td>BE 2010Q1</td>\n",
       "      <td>98.8</td>\n",
       "    </tr>\n",
       "    <tr>\n",
       "      <th>2</th>\n",
       "      <td>IE 2010Q1</td>\n",
       "      <td>98.0</td>\n",
       "    </tr>\n",
       "    <tr>\n",
       "      <th>3</th>\n",
       "      <td>NO 2010Q1</td>\n",
       "      <td>83.1</td>\n",
       "    </tr>\n",
       "    <tr>\n",
       "      <th>4</th>\n",
       "      <td>AT 2010Q2</td>\n",
       "      <td>102.6</td>\n",
       "    </tr>\n",
       "  </tbody>\n",
       "</table>\n",
       "</div>"
      ],
      "text/plain": [
       "  GEO_PERIOD LabourInput\n",
       "0  AT 2010Q1        87.3\n",
       "1  BE 2010Q1        98.8\n",
       "2  IE 2010Q1        98.0\n",
       "3  NO 2010Q1        83.1\n",
       "4  AT 2010Q2       102.6"
      ]
     },
     "execution_count": 131,
     "metadata": {},
     "output_type": "execute_result"
    }
   ],
   "source": [
    "# Assign list entries to individual dataframes for future use\n",
    "df_labourInput = formatteddata[2]\n",
    "\n",
    "# move data from wide format to long format\n",
    "labour = [c for c in df_labourInput.columns if c.startswith('2')]\n",
    "df_labourInput = pd.melt(df_labourInput, id_vars=['GEO'], value_vars=labour, var_name='PERIOD', value_name='LabourInput')\n",
    "\n",
    "# Create a new feature that will be used to uniquely identify each row\n",
    "df_labourInput['GEO_PERIOD'] = df_labourInput['GEO'].astype(str) + ' ' + df_labourInput['PERIOD'].astype(str)\n",
    "df_labourInput = df_labourInput[['GEO_PERIOD', 'LabourInput']]\n",
    "\n",
    "\n",
    "\n",
    "df_labourInput.head()\n"
   ]
  },
  {
   "attachments": {},
   "cell_type": "markdown",
   "metadata": {},
   "source": [
    "Modify the dataset for ProductionCost"
   ]
  },
  {
   "cell_type": "code",
   "execution_count": 132,
   "metadata": {},
   "outputs": [
    {
     "data": {
      "text/html": [
       "<div>\n",
       "<style scoped>\n",
       "    .dataframe tbody tr th:only-of-type {\n",
       "        vertical-align: middle;\n",
       "    }\n",
       "\n",
       "    .dataframe tbody tr th {\n",
       "        vertical-align: top;\n",
       "    }\n",
       "\n",
       "    .dataframe thead th {\n",
       "        text-align: right;\n",
       "    }\n",
       "</style>\n",
       "<table border=\"1\" class=\"dataframe\">\n",
       "  <thead>\n",
       "    <tr style=\"text-align: right;\">\n",
       "      <th></th>\n",
       "      <th>GEO_PERIOD</th>\n",
       "      <th>ProductionCost</th>\n",
       "    </tr>\n",
       "  </thead>\n",
       "  <tbody>\n",
       "    <tr>\n",
       "      <th>0</th>\n",
       "      <td>AT 2010Q1</td>\n",
       "      <td>88.3</td>\n",
       "    </tr>\n",
       "    <tr>\n",
       "      <th>1</th>\n",
       "      <td>BE 2010Q1</td>\n",
       "      <td>91.1</td>\n",
       "    </tr>\n",
       "    <tr>\n",
       "      <th>2</th>\n",
       "      <td>IE 2010Q1</td>\n",
       "      <td>97.8</td>\n",
       "    </tr>\n",
       "    <tr>\n",
       "      <th>3</th>\n",
       "      <td>NO 2010Q1</td>\n",
       "      <td>84.6</td>\n",
       "    </tr>\n",
       "    <tr>\n",
       "      <th>4</th>\n",
       "      <td>AT 2010Q2</td>\n",
       "      <td>88.8</td>\n",
       "    </tr>\n",
       "  </tbody>\n",
       "</table>\n",
       "</div>"
      ],
      "text/plain": [
       "  GEO_PERIOD ProductionCost\n",
       "0  AT 2010Q1           88.3\n",
       "1  BE 2010Q1           91.1\n",
       "2  IE 2010Q1           97.8\n",
       "3  NO 2010Q1          84.6 \n",
       "4  AT 2010Q2           88.8"
      ]
     },
     "execution_count": 132,
     "metadata": {},
     "output_type": "execute_result"
    }
   ],
   "source": [
    "# Assign list entries to individual dataframes for future use\n",
    "df_prodCost = formatteddata[3]\n",
    "\n",
    "# move data from wide format to long format\n",
    "production = [c for c in df_prodCost.columns if c.startswith('2')]\n",
    "df_prodCost = pd.melt(df_prodCost, id_vars=['GEO'], value_vars=production, var_name='PERIOD', value_name='ProductionCost')\n",
    "\n",
    "# Create a new feature that will be used to uniquely identify each row\n",
    "df_prodCost['GEO_PERIOD'] = df_prodCost['GEO'].astype(str) + ' ' + df_prodCost['PERIOD'].astype(str)\n",
    "df_prodCost = df_prodCost[['GEO_PERIOD', 'ProductionCost']]\n",
    "\n",
    "\n",
    "# Use a function to remove any letters from the ProductionCost column\n",
    "def stripletters(s):\n",
    "    return ''.join(filter(lambda x: not x.isalpha(), s)) # Use isalpha method to remove letters from each row https://www.w3schools.com/python/ref_string_isalpha.asp\n",
    "\n",
    "df_prodCost['ProductionCost'] = df_prodCost['ProductionCost'].apply(stripletters)\n",
    "\n",
    "df_prodCost.head()\n"
   ]
  },
  {
   "attachments": {},
   "cell_type": "markdown",
   "metadata": {},
   "source": [
    "Modify the dataset for ProductionVolume"
   ]
  },
  {
   "cell_type": "code",
   "execution_count": 133,
   "metadata": {},
   "outputs": [
    {
     "data": {
      "text/html": [
       "<div>\n",
       "<style scoped>\n",
       "    .dataframe tbody tr th:only-of-type {\n",
       "        vertical-align: middle;\n",
       "    }\n",
       "\n",
       "    .dataframe tbody tr th {\n",
       "        vertical-align: top;\n",
       "    }\n",
       "\n",
       "    .dataframe thead th {\n",
       "        text-align: right;\n",
       "    }\n",
       "</style>\n",
       "<table border=\"1\" class=\"dataframe\">\n",
       "  <thead>\n",
       "    <tr style=\"text-align: right;\">\n",
       "      <th></th>\n",
       "      <th>GEO_PERIOD</th>\n",
       "      <th>ProductionVolume</th>\n",
       "    </tr>\n",
       "  </thead>\n",
       "  <tbody>\n",
       "    <tr>\n",
       "      <th>0</th>\n",
       "      <td>AT 2010Q1</td>\n",
       "      <td>97.8</td>\n",
       "    </tr>\n",
       "    <tr>\n",
       "      <th>1</th>\n",
       "      <td>BE 2010Q1</td>\n",
       "      <td>101.0</td>\n",
       "    </tr>\n",
       "    <tr>\n",
       "      <th>2</th>\n",
       "      <td>IE 2010Q1</td>\n",
       "      <td>99.8</td>\n",
       "    </tr>\n",
       "    <tr>\n",
       "      <th>3</th>\n",
       "      <td>NO 2010Q1</td>\n",
       "      <td>78.5</td>\n",
       "    </tr>\n",
       "    <tr>\n",
       "      <th>4</th>\n",
       "      <td>AT 2010Q2</td>\n",
       "      <td>98.9</td>\n",
       "    </tr>\n",
       "  </tbody>\n",
       "</table>\n",
       "</div>"
      ],
      "text/plain": [
       "  GEO_PERIOD ProductionVolume\n",
       "0  AT 2010Q1             97.8\n",
       "1  BE 2010Q1            101.0\n",
       "2  IE 2010Q1             99.8\n",
       "3  NO 2010Q1             78.5\n",
       "4  AT 2010Q2             98.9"
      ]
     },
     "execution_count": 133,
     "metadata": {},
     "output_type": "execute_result"
    }
   ],
   "source": [
    "# Assign list entries to individual dataframes for future use\n",
    "df_prodVolume = formatteddata[4]\n",
    "\n",
    "# move data from wide format to long format\n",
    "volume = [c for c in df_prodVolume.columns if c.startswith('2')]\n",
    "df_prodVolume = pd.melt(df_prodVolume, id_vars=['GEO'], value_vars=volume, var_name='PERIOD', value_name='ProductionVolume')\n",
    "\n",
    "# Create a new feature that will be used to uniquely identify each row\n",
    "df_prodVolume['GEO_PERIOD'] = df_prodVolume['GEO'].astype(str) + ' ' + df_prodVolume['PERIOD'].astype(str)\n",
    "df_prodVolume = df_prodVolume[['GEO_PERIOD', 'ProductionVolume']]\n",
    "\n",
    "\n",
    "df_prodVolume.head()\n"
   ]
  },
  {
   "attachments": {},
   "cell_type": "markdown",
   "metadata": {},
   "source": [
    "Modify the dataset for Sentiment"
   ]
  },
  {
   "cell_type": "code",
   "execution_count": 134,
   "metadata": {},
   "outputs": [
    {
     "data": {
      "text/html": [
       "<div>\n",
       "<style scoped>\n",
       "    .dataframe tbody tr th:only-of-type {\n",
       "        vertical-align: middle;\n",
       "    }\n",
       "\n",
       "    .dataframe tbody tr th {\n",
       "        vertical-align: top;\n",
       "    }\n",
       "\n",
       "    .dataframe thead th {\n",
       "        text-align: right;\n",
       "    }\n",
       "</style>\n",
       "<table border=\"1\" class=\"dataframe\">\n",
       "  <thead>\n",
       "    <tr style=\"text-align: right;\">\n",
       "      <th></th>\n",
       "      <th>GEO_PERIOD</th>\n",
       "      <th>SentimentScore</th>\n",
       "    </tr>\n",
       "  </thead>\n",
       "  <tbody>\n",
       "    <tr>\n",
       "      <th>0</th>\n",
       "      <td>AT 201001</td>\n",
       "      <td>93.5</td>\n",
       "    </tr>\n",
       "    <tr>\n",
       "      <th>1</th>\n",
       "      <td>BE 201001</td>\n",
       "      <td>96.1</td>\n",
       "    </tr>\n",
       "    <tr>\n",
       "      <th>2</th>\n",
       "      <td>IE 201001</td>\n",
       "      <td>89.1</td>\n",
       "    </tr>\n",
       "    <tr>\n",
       "      <th>3</th>\n",
       "      <td>AT 201002</td>\n",
       "      <td>94.9</td>\n",
       "    </tr>\n",
       "    <tr>\n",
       "      <th>4</th>\n",
       "      <td>BE 201002</td>\n",
       "      <td>93.3</td>\n",
       "    </tr>\n",
       "  </tbody>\n",
       "</table>\n",
       "</div>"
      ],
      "text/plain": [
       "  GEO_PERIOD  SentimentScore\n",
       "0  AT 201001            93.5\n",
       "1  BE 201001            96.1\n",
       "2  IE 201001            89.1\n",
       "3  AT 201002            94.9\n",
       "4  BE 201002            93.3"
      ]
     },
     "execution_count": 134,
     "metadata": {},
     "output_type": "execute_result"
    }
   ],
   "source": [
    "# Assign list entries to individual dataframes for future use\n",
    "df_Sentiment = formatteddata[5]\n",
    "\n",
    "# move data from wide format to long format\n",
    "sentiment = [c for c in df_Sentiment.columns if c.startswith('2')]\n",
    "df_Sentiment = pd.melt(df_Sentiment, id_vars=['GEO'], value_vars=sentiment, var_name='PERIOD', value_name='SentimentScore')\n",
    "\n",
    "# Create a new feature that will be used to uniquely identify each row\n",
    "df_Sentiment['GEO_PERIOD'] = df_Sentiment['GEO'].astype(str) + ' ' + df_Sentiment['PERIOD'].astype(str)\n",
    "df_Sentiment = df_Sentiment[['GEO_PERIOD', 'SentimentScore']]\n",
    "\n",
    "\n",
    "df_Sentiment.head()\n"
   ]
  },
  {
   "cell_type": "code",
   "execution_count": 135,
   "metadata": {},
   "outputs": [
    {
     "data": {
      "text/html": [
       "<div>\n",
       "<style scoped>\n",
       "    .dataframe tbody tr th:only-of-type {\n",
       "        vertical-align: middle;\n",
       "    }\n",
       "\n",
       "    .dataframe tbody tr th {\n",
       "        vertical-align: top;\n",
       "    }\n",
       "\n",
       "    .dataframe thead th {\n",
       "        text-align: right;\n",
       "    }\n",
       "</style>\n",
       "<table border=\"1\" class=\"dataframe\">\n",
       "  <thead>\n",
       "    <tr style=\"text-align: right;\">\n",
       "      <th></th>\n",
       "      <th>GEO_PERIOD</th>\n",
       "      <th>Permits</th>\n",
       "      <th>LabourInput</th>\n",
       "      <th>ProductionCost</th>\n",
       "      <th>PriceIndex</th>\n",
       "      <th>ProductionVolume</th>\n",
       "    </tr>\n",
       "  </thead>\n",
       "  <tbody>\n",
       "    <tr>\n",
       "      <th>0</th>\n",
       "      <td>AT 2010Q1</td>\n",
       "      <td>72.4</td>\n",
       "      <td>87.3</td>\n",
       "      <td>88.3</td>\n",
       "      <td>74.05</td>\n",
       "      <td>97.8</td>\n",
       "    </tr>\n",
       "    <tr>\n",
       "      <th>1</th>\n",
       "      <td>BE 2010Q1</td>\n",
       "      <td>116.2</td>\n",
       "      <td>98.8</td>\n",
       "      <td>91.1</td>\n",
       "      <td>90.28</td>\n",
       "      <td>101.0</td>\n",
       "    </tr>\n",
       "    <tr>\n",
       "      <th>2</th>\n",
       "      <td>IE 2010Q1</td>\n",
       "      <td>115.7</td>\n",
       "      <td>98.0</td>\n",
       "      <td>97.8</td>\n",
       "      <td>111.53</td>\n",
       "      <td>99.8</td>\n",
       "    </tr>\n",
       "    <tr>\n",
       "      <th>3</th>\n",
       "      <td>NO 2010Q1</td>\n",
       "      <td>91.3</td>\n",
       "      <td>83.1</td>\n",
       "      <td>84.6</td>\n",
       "      <td>73.93</td>\n",
       "      <td>78.5</td>\n",
       "    </tr>\n",
       "    <tr>\n",
       "      <th>4</th>\n",
       "      <td>AT 2010Q2</td>\n",
       "      <td>98.1</td>\n",
       "      <td>102.6</td>\n",
       "      <td>88.8</td>\n",
       "      <td>76.54</td>\n",
       "      <td>98.9</td>\n",
       "    </tr>\n",
       "  </tbody>\n",
       "</table>\n",
       "</div>"
      ],
      "text/plain": [
       "  GEO_PERIOD Permits LabourInput ProductionCost PriceIndex ProductionVolume\n",
       "0  AT 2010Q1   72.4         87.3           88.3      74.05             97.8\n",
       "1  BE 2010Q1  116.2         98.8           91.1      90.28            101.0\n",
       "2  IE 2010Q1   115.7        98.0           97.8     111.53             99.8\n",
       "3  NO 2010Q1    91.3        83.1          84.6       73.93             78.5\n",
       "4  AT 2010Q2   98.1        102.6           88.8      76.54             98.9"
      ]
     },
     "execution_count": 135,
     "metadata": {},
     "output_type": "execute_result"
    }
   ],
   "source": [
    "# Define the final dataset for construction metrics to be used in visualisations, dashboards, and machine learning models\n",
    "df_constats = pd.merge(df_prodCost, df_prodVolume, on='GEO_PERIOD', how='left')\n",
    "df_constats = pd.merge(df_constats, df_priceIndx, on='GEO_PERIOD', how='left')\n",
    "df_constats = pd.merge(df_constats, df_permits, on='GEO_PERIOD', how='left')\n",
    "df_constats = pd.merge(df_constats, df_labourInput, on='GEO_PERIOD', how='left')\n",
    "df_constats = df_constats.reindex(columns=['GEO_PERIOD', 'Permits', 'LabourInput', 'ProductionCost', 'PriceIndex', 'ProductionVolume'])\n",
    "df_constats.head()"
   ]
  },
  {
   "attachments": {},
   "cell_type": "markdown",
   "metadata": {},
   "source": [
    "# Visualising Data"
   ]
  }
 ],
 "metadata": {
  "kernelspec": {
   "display_name": "Python 3 (ipykernel)",
   "language": "python",
   "name": "python3"
  },
  "language_info": {
   "codemirror_mode": {
    "name": "ipython",
    "version": 3
   },
   "file_extension": ".py",
   "mimetype": "text/x-python",
   "name": "python",
   "nbconvert_exporter": "python",
   "pygments_lexer": "ipython3",
   "version": "3.10.9"
  }
 },
 "nbformat": 4,
 "nbformat_minor": 2
}

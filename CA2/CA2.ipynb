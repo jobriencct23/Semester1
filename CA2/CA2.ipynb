{
 "cells": [
  {
   "cell_type": "code",
   "execution_count": 11,
   "metadata": {},
   "outputs": [],
   "source": [
    "import pandas as pd"
   ]
  },
  {
   "cell_type": "code",
   "execution_count": 12,
   "metadata": {},
   "outputs": [
    {
     "name": "stdout",
     "output_type": "stream",
     "text": [
      "<_io.TextIOWrapper name='data/ProdVolumeQuarters.csv' mode='r' encoding='UTF-8'>\n"
     ]
    }
   ],
   "source": [
    "# Determine file encoding format to ensure we can read this date into a dataframe\n",
    "with open(\"data/ProdVolumeQuarters.csv\") as file:\n",
    "    print(file)"
   ]
  },
  {
   "cell_type": "code",
   "execution_count": 13,
   "metadata": {},
   "outputs": [
    {
     "data": {
      "text/plain": [
       "(4, 59)"
      ]
     },
     "execution_count": 13,
     "metadata": {},
     "output_type": "execute_result"
    }
   ],
   "source": [
    "# observing this datafile we view observations and features\n",
    "df = pd.read_csv (\"data/ProdVolumeQuarters.csv\")\n",
    "df.shape"
   ]
  },
  {
   "cell_type": "code",
   "execution_count": 14,
   "metadata": {},
   "outputs": [
    {
     "name": "stdout",
     "output_type": "stream",
     "text": [
      "['freq' 'indic_bt' 'nace_r2' 's_adj' 'unit' 'geo\\\\TIME_PERIOD' '2010-Q1 '\n",
      " '2010-Q2 ' '2010-Q3 ' '2010-Q4 ' '2011-Q1 ' '2011-Q2 ' '2011-Q3 '\n",
      " '2011-Q4 ' '2012-Q1 ' '2012-Q2 ' '2012-Q3 ' '2012-Q4 ' '2013-Q1 '\n",
      " '2013-Q2 ' '2013-Q3 ' '2013-Q4 ' '2014-Q1 ' '2014-Q2 ' '2014-Q3 '\n",
      " '2014-Q4 ' '2015-Q1 ' '2015-Q2 ' '2015-Q3 ' '2015-Q4 ' '2016-Q1 '\n",
      " '2016-Q2 ' '2016-Q3 ' '2016-Q4 ' '2017-Q1 ' '2017-Q2 ' '2017-Q3 '\n",
      " '2017-Q4 ' '2018-Q1 ' '2018-Q2 ' '2018-Q3 ' '2018-Q4 ' '2019-Q1 '\n",
      " '2019-Q2 ' '2019-Q3 ' '2019-Q4 ' '2020-Q1 ' '2020-Q2 ' '2020-Q3 '\n",
      " '2020-Q4 ' '2021-Q1 ' '2021-Q2 ' '2021-Q3 ' '2021-Q4 ' '2022-Q1 '\n",
      " '2022-Q2 ' '2022-Q3 ' '2022-Q4 ' '2023-Q1 ']\n"
     ]
    }
   ],
   "source": [
    "# list all the features of the datset\n",
    "print (df.columns.values)"
   ]
  },
  {
   "cell_type": "code",
   "execution_count": 15,
   "metadata": {
    "scrolled": true
   },
   "outputs": [
    {
     "data": {
      "text/html": [
       "<div>\n",
       "<style scoped>\n",
       "    .dataframe tbody tr th:only-of-type {\n",
       "        vertical-align: middle;\n",
       "    }\n",
       "\n",
       "    .dataframe tbody tr th {\n",
       "        vertical-align: top;\n",
       "    }\n",
       "\n",
       "    .dataframe thead th {\n",
       "        text-align: right;\n",
       "    }\n",
       "</style>\n",
       "<table border=\"1\" class=\"dataframe\">\n",
       "  <thead>\n",
       "    <tr style=\"text-align: right;\">\n",
       "      <th></th>\n",
       "      <th>geo\\TIME_PERIOD</th>\n",
       "      <th>2010-Q1</th>\n",
       "      <th>2010-Q2</th>\n",
       "      <th>2010-Q3</th>\n",
       "      <th>2010-Q4</th>\n",
       "      <th>2011-Q1</th>\n",
       "      <th>2011-Q2</th>\n",
       "      <th>2011-Q3</th>\n",
       "      <th>2011-Q4</th>\n",
       "      <th>2012-Q1</th>\n",
       "      <th>...</th>\n",
       "      <th>2020-Q4</th>\n",
       "      <th>2021-Q1</th>\n",
       "      <th>2021-Q2</th>\n",
       "      <th>2021-Q3</th>\n",
       "      <th>2021-Q4</th>\n",
       "      <th>2022-Q1</th>\n",
       "      <th>2022-Q2</th>\n",
       "      <th>2022-Q3</th>\n",
       "      <th>2022-Q4</th>\n",
       "      <th>2023-Q1</th>\n",
       "    </tr>\n",
       "  </thead>\n",
       "  <tbody>\n",
       "    <tr>\n",
       "      <th>0</th>\n",
       "      <td>AT</td>\n",
       "      <td>97.8</td>\n",
       "      <td>98.9</td>\n",
       "      <td>97.1</td>\n",
       "      <td>96.0</td>\n",
       "      <td>96.8</td>\n",
       "      <td>99.9</td>\n",
       "      <td>98.5</td>\n",
       "      <td>101.3</td>\n",
       "      <td>98.7</td>\n",
       "      <td>...</td>\n",
       "      <td>123.2</td>\n",
       "      <td>126.7</td>\n",
       "      <td>127.7</td>\n",
       "      <td>125.9</td>\n",
       "      <td>126.6</td>\n",
       "      <td>131.8</td>\n",
       "      <td>132.6</td>\n",
       "      <td>129.4</td>\n",
       "      <td>130.6</td>\n",
       "      <td>:</td>\n",
       "    </tr>\n",
       "    <tr>\n",
       "      <th>1</th>\n",
       "      <td>BE</td>\n",
       "      <td>101.0</td>\n",
       "      <td>102.7</td>\n",
       "      <td>102.9</td>\n",
       "      <td>97.5</td>\n",
       "      <td>106.5</td>\n",
       "      <td>106.0</td>\n",
       "      <td>106.2</td>\n",
       "      <td>106.7</td>\n",
       "      <td>105.6</td>\n",
       "      <td>...</td>\n",
       "      <td>96.2</td>\n",
       "      <td>99.8</td>\n",
       "      <td>98.2</td>\n",
       "      <td>97.8</td>\n",
       "      <td>96.9</td>\n",
       "      <td>99.3</td>\n",
       "      <td>99.0</td>\n",
       "      <td>99.3</td>\n",
       "      <td>99.3</td>\n",
       "      <td>:</td>\n",
       "    </tr>\n",
       "    <tr>\n",
       "      <th>2</th>\n",
       "      <td>IE</td>\n",
       "      <td>99.8</td>\n",
       "      <td>98.9</td>\n",
       "      <td>93.0</td>\n",
       "      <td>85.0</td>\n",
       "      <td>79.0</td>\n",
       "      <td>76.3</td>\n",
       "      <td>78.3</td>\n",
       "      <td>81.1</td>\n",
       "      <td>77.4</td>\n",
       "      <td>...</td>\n",
       "      <td>140.3</td>\n",
       "      <td>110.0</td>\n",
       "      <td>123.1</td>\n",
       "      <td>131.8</td>\n",
       "      <td>140.6</td>\n",
       "      <td>135.5</td>\n",
       "      <td>131.5</td>\n",
       "      <td>129.1</td>\n",
       "      <td>125.1 p</td>\n",
       "      <td>:</td>\n",
       "    </tr>\n",
       "    <tr>\n",
       "      <th>3</th>\n",
       "      <td>NO</td>\n",
       "      <td>78.5</td>\n",
       "      <td>79.8</td>\n",
       "      <td>80.1</td>\n",
       "      <td>79.3</td>\n",
       "      <td>79.6</td>\n",
       "      <td>81.3</td>\n",
       "      <td>80.2</td>\n",
       "      <td>85.2</td>\n",
       "      <td>86.3</td>\n",
       "      <td>...</td>\n",
       "      <td>116.7</td>\n",
       "      <td>117.8</td>\n",
       "      <td>116.8</td>\n",
       "      <td>118.2</td>\n",
       "      <td>121.3</td>\n",
       "      <td>123.2</td>\n",
       "      <td>124.1</td>\n",
       "      <td>123.0</td>\n",
       "      <td>123.9</td>\n",
       "      <td>123.7</td>\n",
       "    </tr>\n",
       "  </tbody>\n",
       "</table>\n",
       "<p>4 rows × 54 columns</p>\n",
       "</div>"
      ],
      "text/plain": [
       "  geo\\TIME_PERIOD  2010-Q1   2010-Q2   2010-Q3   2010-Q4   2011-Q1   2011-Q2   \\\n",
       "0              AT      97.8      98.9      97.1      96.0      96.8      99.9   \n",
       "1              BE     101.0     102.7     102.9      97.5     106.5     106.0   \n",
       "2              IE      99.8      98.9      93.0      85.0      79.0      76.3   \n",
       "3              NO      78.5      79.8      80.1      79.3      79.6      81.3   \n",
       "\n",
       "   2011-Q3   2011-Q4   2012-Q1   ...  2020-Q4   2021-Q1   2021-Q2   2021-Q3   \\\n",
       "0      98.5     101.3      98.7  ...     123.2     126.7     127.7     125.9   \n",
       "1     106.2     106.7     105.6  ...      96.2      99.8      98.2      97.8   \n",
       "2      78.3      81.1      77.4  ...     140.3     110.0     123.1     131.8   \n",
       "3      80.2      85.2      86.3  ...     116.7     117.8     116.8     118.2   \n",
       "\n",
       "   2021-Q4   2022-Q1   2022-Q2   2022-Q3   2022-Q4   2023-Q1   \n",
       "0     126.6     131.8     132.6     129.4     130.6        :   \n",
       "1      96.9      99.3      99.0      99.3      99.3        :   \n",
       "2     140.6     135.5     131.5     129.1   125.1 p        :   \n",
       "3     121.3     123.2     124.1     123.0     123.9     123.7  \n",
       "\n",
       "[4 rows x 54 columns]"
      ]
     },
     "execution_count": 15,
     "metadata": {},
     "output_type": "execute_result"
    }
   ],
   "source": [
    "# Drop features we are not interested in for this exercise\n",
    "df = df.drop(['freq', 'indic_bt', 'nace_r2', 's_adj', 'unit'], axis = 1)\n",
    "df.head()"
   ]
  },
  {
   "cell_type": "code",
   "execution_count": 21,
   "metadata": {},
   "outputs": [],
   "source": [
    "df = df.rename(columns=lambda x: x.strip())"
   ]
  },
  {
   "cell_type": "code",
   "execution_count": 22,
   "metadata": {},
   "outputs": [
    {
     "name": "stdout",
     "output_type": "stream",
     "text": [
      "['GEO', '2010Q1', '2010-Q2', '2010-Q3', '2010-Q4', '2011-Q1', '2011-Q2', '2011-Q3', '2011-Q4', '2012-Q1', '2012-Q2', '2012-Q3', '2012-Q4', '2013-Q1', '2013-Q2', '2013-Q3', '2013-Q4', '2014-Q1', '2014-Q2', '2014-Q3', '2014-Q4', '2015-Q1', '2015-Q2', '2015-Q3', '2015-Q4', '2016-Q1', '2016-Q2', '2016-Q3', '2016-Q4', '2017-Q1', '2017-Q2', '2017-Q3', '2017-Q4', '2018-Q1', '2018-Q2', '2018-Q3', '2018-Q4', '2019-Q1', '2019-Q2', '2019-Q3', '2019-Q4', '2020-Q1', '2020-Q2', '2020-Q3', '2020-Q4', '2021-Q1', '2021-Q2', '2021-Q3', '2021-Q4', '2022-Q1', '2022-Q2', '2022-Q3', '2022-Q4', '2023-Q1']\n"
     ]
    }
   ],
   "source": [
    "# list all the features of the datset\n",
    "print(list(df.columns))"
   ]
  },
  {
   "cell_type": "code",
   "execution_count": 28,
   "metadata": {},
   "outputs": [
    {
     "name": "stdout",
     "output_type": "stream",
     "text": [
      "['GEO', '2010Q1', '2010Q2', '2010-Q3', '2010-Q4', '2011-Q1', '2011-Q2', '2011-Q3', '2011-Q4', '2012-Q1', '2012-Q2', '2012-Q3', '2012-Q4', '2013-Q1', '2013-Q2', '2013-Q3', '2013-Q4', '2014-Q1', '2014-Q2', '2014-Q3', '2014-Q4', '2015-Q1', '2015-Q2', '2015-Q3', '2015-Q4', '2016-Q1', '2016-Q2', '2016-Q3', '2016-Q4', '2017-Q1', '2017-Q2', '2017-Q3', '2017-Q4', '2018-Q1', '2018-Q2', '2018-Q3', '2018-Q4', '2019-Q1', '2019-Q2', '2019-Q3', '2019-Q4', '2020-Q1', '2020-Q2', '2020-Q3', '2020-Q4', '2021-Q1', '2021-Q2', '2021-Q3', '2021-Q4', '2022-Q1', '2022-Q2', '2022-Q3', '2022-Q4', '2023-Q1']\n"
     ]
    }
   ],
   "source": [
    "df = df.rename (columns={'geo\\TIME_PERIOD': 'GEO', '2010-Q1 ': '2010Q1', '2010-Q2': '2010Q2'})\n",
    "print(list(df.columns))\n",
    "#df.head()"
   ]
  },
  {
   "cell_type": "code",
   "execution_count": 29,
   "metadata": {},
   "outputs": [
    {
     "data": {
      "text/html": [
       "<div>\n",
       "<style scoped>\n",
       "    .dataframe tbody tr th:only-of-type {\n",
       "        vertical-align: middle;\n",
       "    }\n",
       "\n",
       "    .dataframe tbody tr th {\n",
       "        vertical-align: top;\n",
       "    }\n",
       "\n",
       "    .dataframe thead th {\n",
       "        text-align: right;\n",
       "    }\n",
       "</style>\n",
       "<table border=\"1\" class=\"dataframe\">\n",
       "  <thead>\n",
       "    <tr style=\"text-align: right;\">\n",
       "      <th></th>\n",
       "      <th>GEO</th>\n",
       "      <th>PERIOD</th>\n",
       "      <th>ProductionVolume</th>\n",
       "    </tr>\n",
       "  </thead>\n",
       "  <tbody>\n",
       "    <tr>\n",
       "      <th>0</th>\n",
       "      <td>AT</td>\n",
       "      <td>2010Q1</td>\n",
       "      <td>97.8</td>\n",
       "    </tr>\n",
       "    <tr>\n",
       "      <th>1</th>\n",
       "      <td>BE</td>\n",
       "      <td>2010Q1</td>\n",
       "      <td>101.0</td>\n",
       "    </tr>\n",
       "    <tr>\n",
       "      <th>2</th>\n",
       "      <td>IE</td>\n",
       "      <td>2010Q1</td>\n",
       "      <td>99.8</td>\n",
       "    </tr>\n",
       "    <tr>\n",
       "      <th>3</th>\n",
       "      <td>NO</td>\n",
       "      <td>2010Q1</td>\n",
       "      <td>78.5</td>\n",
       "    </tr>\n",
       "    <tr>\n",
       "      <th>4</th>\n",
       "      <td>AT</td>\n",
       "      <td>2010Q2</td>\n",
       "      <td>98.9</td>\n",
       "    </tr>\n",
       "    <tr>\n",
       "      <th>5</th>\n",
       "      <td>BE</td>\n",
       "      <td>2010Q2</td>\n",
       "      <td>102.7</td>\n",
       "    </tr>\n",
       "    <tr>\n",
       "      <th>6</th>\n",
       "      <td>IE</td>\n",
       "      <td>2010Q2</td>\n",
       "      <td>98.9</td>\n",
       "    </tr>\n",
       "    <tr>\n",
       "      <th>7</th>\n",
       "      <td>NO</td>\n",
       "      <td>2010Q2</td>\n",
       "      <td>79.8</td>\n",
       "    </tr>\n",
       "  </tbody>\n",
       "</table>\n",
       "</div>"
      ],
      "text/plain": [
       "  GEO  PERIOD  ProductionVolume\n",
       "0  AT  2010Q1              97.8\n",
       "1  BE  2010Q1             101.0\n",
       "2  IE  2010Q1              99.8\n",
       "3  NO  2010Q1              78.5\n",
       "4  AT  2010Q2              98.9\n",
       "5  BE  2010Q2             102.7\n",
       "6  IE  2010Q2              98.9\n",
       "7  NO  2010Q2              79.8"
      ]
     },
     "execution_count": 29,
     "metadata": {},
     "output_type": "execute_result"
    }
   ],
   "source": [
    "melted_df = pd.melt(df, id_vars=['GEO'], value_vars=['2010Q1', '2010Q2'], var_name='PERIOD', value_name='ProductionVolume')\n",
    "melted_df.head(10)"
   ]
  },
  {
   "cell_type": "code",
   "execution_count": null,
   "metadata": {},
   "outputs": [],
   "source": []
  }
 ],
 "metadata": {
  "kernelspec": {
   "display_name": "Python 3 (ipykernel)",
   "language": "python",
   "name": "python3"
  },
  "language_info": {
   "codemirror_mode": {
    "name": "ipython",
    "version": 3
   },
   "file_extension": ".py",
   "mimetype": "text/x-python",
   "name": "python",
   "nbconvert_exporter": "python",
   "pygments_lexer": "ipython3",
   "version": "3.10.9"
  }
 },
 "nbformat": 4,
 "nbformat_minor": 2
}

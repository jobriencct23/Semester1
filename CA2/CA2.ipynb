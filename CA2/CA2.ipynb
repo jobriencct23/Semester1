{
 "cells": [
  {
   "cell_type": "code",
   "execution_count": 1,
   "metadata": {},
   "outputs": [
    {
     "name": "stderr",
     "output_type": "stream",
     "text": [
      "C:\\Users\\johno\\AppData\\Local\\Temp\\ipykernel_20844\\1061061958.py:10: UserWarning: \n",
      "The dash_core_components package is deprecated. Please replace\n",
      "`import dash_core_components as dcc` with `from dash import dcc`\n",
      "  import dash_core_components as dcc\n",
      "C:\\Users\\johno\\AppData\\Local\\Temp\\ipykernel_20844\\1061061958.py:11: UserWarning: \n",
      "The dash_html_components package is deprecated. Please replace\n",
      "`import dash_html_components as html` with `from dash import html`\n",
      "  import dash_html_components as html\n"
     ]
    }
   ],
   "source": [
    "# Import modules and extensions\n",
    "# Please note that various installs have been deactivated through commenting below, \n",
    "# If not present they will need to be installed (this was done to improve notebook running time)\n",
    "import numpy as np\n",
    "import pandas as pd\n",
    "import seaborn as sns\n",
    "import matplotlib.pyplot as plt\n",
    "import plotly.express as px\n",
    "from jupyter_dash import JupyterDash\n",
    "import dash_core_components as dcc\n",
    "import dash_html_components as html\n",
    "from dash.dependencies import Input, Output\n",
    "from scipy.stats import t\n",
    "#!pip install pingouin #remove comments to install if not present\n",
    "import pingouin\n",
    "#!pip install PdfReader #remove comments to install if not present\n",
    "import PyPDF2\n",
    "from PyPDF2 import PdfReader\n",
    "#!pip install nltk #remove comments to install if not present\n",
    "from nltk.sentiment import SentimentIntensityAnalyzer\n",
    "#!pip install prettytable #remove comments to install if not present\n",
    "import json\n",
    "from prettytable import PrettyTable\n",
    "import sklearn\n",
    "from sklearn.model_selection import train_test_split\n",
    "from sklearn.model_selection import cross_val_score, KFold\n",
    "from sklearn.linear_model import LinearRegression\n",
    "from sklearn.linear_model import Lasso\n",
    "from sklearn.metrics import mean_squared_error\n",
    "#!pip install jupyter_contrib_nbextensions #remove comments to install if not present\n"
   ]
  },
  {
   "attachments": {},
   "cell_type": "markdown",
   "metadata": {},
   "source": [
    "# Data Understanding / Preparation  "
   ]
  },
  {
   "attachments": {},
   "cell_type": "markdown",
   "metadata": {},
   "source": [
    "# Section 1. Exploring Datasets"
   ]
  },
  {
   "cell_type": "code",
   "execution_count": 2,
   "metadata": {},
   "outputs": [
    {
     "name": "stdout",
     "output_type": "stream",
     "text": [
      "<_io.TextIOWrapper name='data/ProdVolumeQuarters.csv' mode='r' encoding='UTF-8'>\n"
     ]
    }
   ],
   "source": [
    "# Using an example dataset determine file encoding format to ensure we can read this date into a dataframe\n",
    "with open(\"data/ProdVolumeQuarters.csv\") as file:\n",
    "    print(file)"
   ]
  },
  {
   "cell_type": "code",
   "execution_count": 3,
   "metadata": {},
   "outputs": [
    {
     "data": {
      "text/plain": [
       "(4, 59)"
      ]
     },
     "execution_count": 3,
     "metadata": {},
     "output_type": "execute_result"
    }
   ],
   "source": [
    "# Reviewing this datafile to view observations and features\n",
    "df = pd.read_csv (\"data/ProdVolumeQuarters.csv\")\n",
    "df.shape"
   ]
  },
  {
   "cell_type": "code",
   "execution_count": 4,
   "metadata": {},
   "outputs": [
    {
     "name": "stdout",
     "output_type": "stream",
     "text": [
      "['freq' 'indic_bt' 'nace_r2' 's_adj' 'unit' 'geo\\\\TIME_PERIOD' '2010-Q1 '\n",
      " '2010-Q2 ' '2010-Q3 ' '2010-Q4 ' '2011-Q1 ' '2011-Q2 ' '2011-Q3 '\n",
      " '2011-Q4 ' '2012-Q1 ' '2012-Q2 ' '2012-Q3 ' '2012-Q4 ' '2013-Q1 '\n",
      " '2013-Q2 ' '2013-Q3 ' '2013-Q4 ' '2014-Q1 ' '2014-Q2 ' '2014-Q3 '\n",
      " '2014-Q4 ' '2015-Q1 ' '2015-Q2 ' '2015-Q3 ' '2015-Q4 ' '2016-Q1 '\n",
      " '2016-Q2 ' '2016-Q3 ' '2016-Q4 ' '2017-Q1 ' '2017-Q2 ' '2017-Q3 '\n",
      " '2017-Q4 ' '2018-Q1 ' '2018-Q2 ' '2018-Q3 ' '2018-Q4 ' '2019-Q1 '\n",
      " '2019-Q2 ' '2019-Q3 ' '2019-Q4 ' '2020-Q1 ' '2020-Q2 ' '2020-Q3 '\n",
      " '2020-Q4 ' '2021-Q1 ' '2021-Q2 ' '2021-Q3 ' '2021-Q4 ' '2022-Q1 '\n",
      " '2022-Q2 ' '2022-Q3 ' '2022-Q4 ' '2023-Q1 ']\n"
     ]
    }
   ],
   "source": [
    "# list all the features of the datset\n",
    "print (df.columns.values)"
   ]
  },
  {
   "cell_type": "code",
   "execution_count": 5,
   "metadata": {
    "scrolled": true
   },
   "outputs": [
    {
     "name": "stdout",
     "output_type": "stream",
     "text": [
      "['geo\\\\TIME_PERIOD', '2010-Q1 ', '2010-Q2 ', '2010-Q3 ', '2010-Q4 ', '2011-Q1 ', '2011-Q2 ', '2011-Q3 ', '2011-Q4 ', '2012-Q1 ', '2012-Q2 ', '2012-Q3 ', '2012-Q4 ', '2013-Q1 ', '2013-Q2 ', '2013-Q3 ', '2013-Q4 ', '2014-Q1 ', '2014-Q2 ', '2014-Q3 ', '2014-Q4 ', '2015-Q1 ', '2015-Q2 ', '2015-Q3 ', '2015-Q4 ', '2016-Q1 ', '2016-Q2 ', '2016-Q3 ', '2016-Q4 ', '2017-Q1 ', '2017-Q2 ', '2017-Q3 ', '2017-Q4 ', '2018-Q1 ', '2018-Q2 ', '2018-Q3 ', '2018-Q4 ', '2019-Q1 ', '2019-Q2 ', '2019-Q3 ', '2019-Q4 ', '2020-Q1 ', '2020-Q2 ', '2020-Q3 ', '2020-Q4 ', '2021-Q1 ', '2021-Q2 ', '2021-Q3 ', '2021-Q4 ', '2022-Q1 ', '2022-Q2 ', '2022-Q3 ', '2022-Q4 ', '2023-Q1 ']\n"
     ]
    }
   ],
   "source": [
    "# Drop features unneeded as part of cleaning the dataset\n",
    "df = df.drop(['freq', 'indic_bt', 'nace_r2', 's_adj', 'unit'], axis = 1)\n",
    "print(list(df.columns))"
   ]
  },
  {
   "cell_type": "code",
   "execution_count": 6,
   "metadata": {},
   "outputs": [],
   "source": [
    "# It was observed that column headers included whitespace, clean column headers by stripping trailing whitespace\n",
    "df = df.rename(columns=lambda x: x.strip())"
   ]
  },
  {
   "cell_type": "code",
   "execution_count": 7,
   "metadata": {},
   "outputs": [
    {
     "name": "stdout",
     "output_type": "stream",
     "text": [
      "['geo\\\\TIME_PERIOD', '2010-Q1', '2010-Q2', '2010-Q3', '2010-Q4', '2011-Q1', '2011-Q2', '2011-Q3', '2011-Q4', '2012-Q1', '2012-Q2', '2012-Q3', '2012-Q4', '2013-Q1', '2013-Q2', '2013-Q3', '2013-Q4', '2014-Q1', '2014-Q2', '2014-Q3', '2014-Q4', '2015-Q1', '2015-Q2', '2015-Q3', '2015-Q4', '2016-Q1', '2016-Q2', '2016-Q3', '2016-Q4', '2017-Q1', '2017-Q2', '2017-Q3', '2017-Q4', '2018-Q1', '2018-Q2', '2018-Q3', '2018-Q4', '2019-Q1', '2019-Q2', '2019-Q3', '2019-Q4', '2020-Q1', '2020-Q2', '2020-Q3', '2020-Q4', '2021-Q1', '2021-Q2', '2021-Q3', '2021-Q4', '2022-Q1', '2022-Q2', '2022-Q3', '2022-Q4', '2023-Q1']\n"
     ]
    }
   ],
   "source": [
    "# list all the features of the datset\n",
    "print(list(df.columns))"
   ]
  },
  {
   "cell_type": "code",
   "execution_count": 8,
   "metadata": {},
   "outputs": [
    {
     "name": "stdout",
     "output_type": "stream",
     "text": [
      "['GEO', '2010Q1', '2010Q2', '2010-Q3', '2010-Q4', '2011-Q1', '2011-Q2', '2011-Q3', '2011-Q4', '2012-Q1', '2012-Q2', '2012-Q3', '2012-Q4', '2013-Q1', '2013-Q2', '2013-Q3', '2013-Q4', '2014-Q1', '2014-Q2', '2014-Q3', '2014-Q4', '2015-Q1', '2015-Q2', '2015-Q3', '2015-Q4', '2016-Q1', '2016-Q2', '2016-Q3', '2016-Q4', '2017-Q1', '2017-Q2', '2017-Q3', '2017-Q4', '2018-Q1', '2018-Q2', '2018-Q3', '2018-Q4', '2019-Q1', '2019-Q2', '2019-Q3', '2019-Q4', '2020-Q1', '2020-Q2', '2020-Q3', '2020-Q4', '2021-Q1', '2021-Q2', '2021-Q3', '2021-Q4', '2022-Q1', '2022-Q2', '2022-Q3', '2022-Q4', '2023-Q1']\n"
     ]
    },
    {
     "data": {
      "text/html": [
       "<div>\n",
       "<style scoped>\n",
       "    .dataframe tbody tr th:only-of-type {\n",
       "        vertical-align: middle;\n",
       "    }\n",
       "\n",
       "    .dataframe tbody tr th {\n",
       "        vertical-align: top;\n",
       "    }\n",
       "\n",
       "    .dataframe thead th {\n",
       "        text-align: right;\n",
       "    }\n",
       "</style>\n",
       "<table border=\"1\" class=\"dataframe\">\n",
       "  <thead>\n",
       "    <tr style=\"text-align: right;\">\n",
       "      <th></th>\n",
       "      <th>GEO</th>\n",
       "      <th>2010Q1</th>\n",
       "      <th>2010Q2</th>\n",
       "      <th>2010-Q3</th>\n",
       "      <th>2010-Q4</th>\n",
       "      <th>2011-Q1</th>\n",
       "      <th>2011-Q2</th>\n",
       "      <th>2011-Q3</th>\n",
       "      <th>2011-Q4</th>\n",
       "      <th>2012-Q1</th>\n",
       "      <th>...</th>\n",
       "      <th>2020-Q4</th>\n",
       "      <th>2021-Q1</th>\n",
       "      <th>2021-Q2</th>\n",
       "      <th>2021-Q3</th>\n",
       "      <th>2021-Q4</th>\n",
       "      <th>2022-Q1</th>\n",
       "      <th>2022-Q2</th>\n",
       "      <th>2022-Q3</th>\n",
       "      <th>2022-Q4</th>\n",
       "      <th>2023-Q1</th>\n",
       "    </tr>\n",
       "  </thead>\n",
       "  <tbody>\n",
       "    <tr>\n",
       "      <th>0</th>\n",
       "      <td>AT</td>\n",
       "      <td>97.8</td>\n",
       "      <td>98.9</td>\n",
       "      <td>97.1</td>\n",
       "      <td>96.0</td>\n",
       "      <td>96.8</td>\n",
       "      <td>99.9</td>\n",
       "      <td>98.5</td>\n",
       "      <td>101.3</td>\n",
       "      <td>98.7</td>\n",
       "      <td>...</td>\n",
       "      <td>123.2</td>\n",
       "      <td>126.7</td>\n",
       "      <td>127.7</td>\n",
       "      <td>125.9</td>\n",
       "      <td>126.6</td>\n",
       "      <td>131.8</td>\n",
       "      <td>132.6</td>\n",
       "      <td>129.4</td>\n",
       "      <td>130.6</td>\n",
       "      <td>:</td>\n",
       "    </tr>\n",
       "    <tr>\n",
       "      <th>1</th>\n",
       "      <td>BE</td>\n",
       "      <td>101.0</td>\n",
       "      <td>102.7</td>\n",
       "      <td>102.9</td>\n",
       "      <td>97.5</td>\n",
       "      <td>106.5</td>\n",
       "      <td>106.0</td>\n",
       "      <td>106.2</td>\n",
       "      <td>106.7</td>\n",
       "      <td>105.6</td>\n",
       "      <td>...</td>\n",
       "      <td>96.2</td>\n",
       "      <td>99.8</td>\n",
       "      <td>98.2</td>\n",
       "      <td>97.8</td>\n",
       "      <td>96.9</td>\n",
       "      <td>99.3</td>\n",
       "      <td>99.0</td>\n",
       "      <td>99.3</td>\n",
       "      <td>99.3</td>\n",
       "      <td>:</td>\n",
       "    </tr>\n",
       "    <tr>\n",
       "      <th>2</th>\n",
       "      <td>IE</td>\n",
       "      <td>99.8</td>\n",
       "      <td>98.9</td>\n",
       "      <td>93.0</td>\n",
       "      <td>85.0</td>\n",
       "      <td>79.0</td>\n",
       "      <td>76.3</td>\n",
       "      <td>78.3</td>\n",
       "      <td>81.1</td>\n",
       "      <td>77.4</td>\n",
       "      <td>...</td>\n",
       "      <td>140.3</td>\n",
       "      <td>110.0</td>\n",
       "      <td>123.1</td>\n",
       "      <td>131.8</td>\n",
       "      <td>140.6</td>\n",
       "      <td>135.5</td>\n",
       "      <td>131.5</td>\n",
       "      <td>129.1</td>\n",
       "      <td>125.1 p</td>\n",
       "      <td>:</td>\n",
       "    </tr>\n",
       "    <tr>\n",
       "      <th>3</th>\n",
       "      <td>NO</td>\n",
       "      <td>78.5</td>\n",
       "      <td>79.8</td>\n",
       "      <td>80.1</td>\n",
       "      <td>79.3</td>\n",
       "      <td>79.6</td>\n",
       "      <td>81.3</td>\n",
       "      <td>80.2</td>\n",
       "      <td>85.2</td>\n",
       "      <td>86.3</td>\n",
       "      <td>...</td>\n",
       "      <td>116.7</td>\n",
       "      <td>117.8</td>\n",
       "      <td>116.8</td>\n",
       "      <td>118.2</td>\n",
       "      <td>121.3</td>\n",
       "      <td>123.2</td>\n",
       "      <td>124.1</td>\n",
       "      <td>123.0</td>\n",
       "      <td>123.9</td>\n",
       "      <td>123.7</td>\n",
       "    </tr>\n",
       "  </tbody>\n",
       "</table>\n",
       "<p>4 rows × 54 columns</p>\n",
       "</div>"
      ],
      "text/plain": [
       "  GEO  2010Q1  2010Q2  2010-Q3  2010-Q4  2011-Q1  2011-Q2  2011-Q3  2011-Q4  \\\n",
       "0  AT    97.8    98.9     97.1     96.0     96.8     99.9     98.5    101.3   \n",
       "1  BE   101.0   102.7    102.9     97.5    106.5    106.0    106.2    106.7   \n",
       "2  IE    99.8    98.9     93.0     85.0     79.0     76.3     78.3     81.1   \n",
       "3  NO    78.5    79.8     80.1     79.3     79.6     81.3     80.2     85.2   \n",
       "\n",
       "   2012-Q1  ...  2020-Q4  2021-Q1  2021-Q2  2021-Q3  2021-Q4  2022-Q1  \\\n",
       "0     98.7  ...    123.2    126.7    127.7    125.9    126.6    131.8   \n",
       "1    105.6  ...     96.2     99.8     98.2     97.8     96.9     99.3   \n",
       "2     77.4  ...    140.3    110.0    123.1    131.8    140.6    135.5   \n",
       "3     86.3  ...    116.7    117.8    116.8    118.2    121.3    123.2   \n",
       "\n",
       "   2022-Q2  2022-Q3  2022-Q4  2023-Q1  \n",
       "0    132.6    129.4    130.6       :   \n",
       "1     99.0     99.3     99.3       :   \n",
       "2    131.5    129.1  125.1 p       :   \n",
       "3    124.1    123.0    123.9    123.7  \n",
       "\n",
       "[4 rows x 54 columns]"
      ]
     },
     "execution_count": 8,
     "metadata": {},
     "output_type": "execute_result"
    }
   ],
   "source": [
    "# Rename some column names to ease further manipulation\n",
    "df = df.rename (columns={'geo\\TIME_PERIOD': 'GEO', '2010-Q1': '2010Q1', '2010-Q2': '2010Q2'})\n",
    "print(list(df.columns))\n",
    "df.head()"
   ]
  },
  {
   "cell_type": "code",
   "execution_count": 9,
   "metadata": {},
   "outputs": [
    {
     "data": {
      "text/html": [
       "<div>\n",
       "<style scoped>\n",
       "    .dataframe tbody tr th:only-of-type {\n",
       "        vertical-align: middle;\n",
       "    }\n",
       "\n",
       "    .dataframe tbody tr th {\n",
       "        vertical-align: top;\n",
       "    }\n",
       "\n",
       "    .dataframe thead th {\n",
       "        text-align: right;\n",
       "    }\n",
       "</style>\n",
       "<table border=\"1\" class=\"dataframe\">\n",
       "  <thead>\n",
       "    <tr style=\"text-align: right;\">\n",
       "      <th></th>\n",
       "      <th>GEO</th>\n",
       "      <th>PERIOD</th>\n",
       "      <th>ProductionVolume</th>\n",
       "    </tr>\n",
       "  </thead>\n",
       "  <tbody>\n",
       "    <tr>\n",
       "      <th>0</th>\n",
       "      <td>AT</td>\n",
       "      <td>2010Q1</td>\n",
       "      <td>97.8</td>\n",
       "    </tr>\n",
       "    <tr>\n",
       "      <th>1</th>\n",
       "      <td>BE</td>\n",
       "      <td>2010Q1</td>\n",
       "      <td>101.0</td>\n",
       "    </tr>\n",
       "    <tr>\n",
       "      <th>2</th>\n",
       "      <td>IE</td>\n",
       "      <td>2010Q1</td>\n",
       "      <td>99.8</td>\n",
       "    </tr>\n",
       "    <tr>\n",
       "      <th>3</th>\n",
       "      <td>NO</td>\n",
       "      <td>2010Q1</td>\n",
       "      <td>78.5</td>\n",
       "    </tr>\n",
       "    <tr>\n",
       "      <th>4</th>\n",
       "      <td>AT</td>\n",
       "      <td>2010Q2</td>\n",
       "      <td>98.9</td>\n",
       "    </tr>\n",
       "    <tr>\n",
       "      <th>5</th>\n",
       "      <td>BE</td>\n",
       "      <td>2010Q2</td>\n",
       "      <td>102.7</td>\n",
       "    </tr>\n",
       "    <tr>\n",
       "      <th>6</th>\n",
       "      <td>IE</td>\n",
       "      <td>2010Q2</td>\n",
       "      <td>98.9</td>\n",
       "    </tr>\n",
       "    <tr>\n",
       "      <th>7</th>\n",
       "      <td>NO</td>\n",
       "      <td>2010Q2</td>\n",
       "      <td>79.8</td>\n",
       "    </tr>\n",
       "  </tbody>\n",
       "</table>\n",
       "</div>"
      ],
      "text/plain": [
       "  GEO  PERIOD  ProductionVolume\n",
       "0  AT  2010Q1              97.8\n",
       "1  BE  2010Q1             101.0\n",
       "2  IE  2010Q1              99.8\n",
       "3  NO  2010Q1              78.5\n",
       "4  AT  2010Q2              98.9\n",
       "5  BE  2010Q2             102.7\n",
       "6  IE  2010Q2              98.9\n",
       "7  NO  2010Q2              79.8"
      ]
     },
     "execution_count": 9,
     "metadata": {},
     "output_type": "execute_result"
    }
   ],
   "source": [
    "# Demonstrate how the data will be manipulated by moving from wide format to long format\n",
    "melted = pd.melt(df, id_vars=['GEO'], value_vars=['2010Q1', '2010Q2'], var_name='PERIOD', value_name='ProductionVolume')\n",
    "melted.head(10)"
   ]
  },
  {
   "attachments": {},
   "cell_type": "markdown",
   "metadata": {},
   "source": [
    "# Section 2. Cleaning Datasets"
   ]
  },
  {
   "cell_type": "code",
   "execution_count": 10,
   "metadata": {},
   "outputs": [],
   "source": [
    "# Create an array to store all of the datasets that will be cleaned \n",
    "datafiles = [\n",
    "    'data/BuildPermitsQuarters.csv', \n",
    "    'data/HousePriceIndxQuarters.csv', \n",
    "    'data/LabourInputQuarters.csv', \n",
    "    'data/ProdCostsQuarters.csv',\n",
    "    'data/ProdVolumeQuarters.csv',\n",
    "    'data/SentimentIndicatorsQuarters.csv'\n",
    "    ]\n",
    "\n",
    "\n",
    "# Define a function that cleans the original datasets into the format that has been demonstrated above\n",
    "def cleancolumns(datafiles):\n",
    "\n",
    "    cleaned = []\n",
    "\n",
    "    for datafile in datafiles:\n",
    "        formatdata = pd.read_csv(datafile) # Read a dataset from the datafiles array\n",
    "        columns = [c.strip() for c in formatdata.columns] # Remove trailing whitespaces\n",
    "        correctformat = [c.replace('-', '') if '-' in c else c for c in columns]  # Strip out - character from column headers\n",
    "        \n",
    "    \n",
    "        if 'geo\\TIME_PERIOD' in correctformat: # Rename the 'geo\\TIME_PERIOD' column to 'GEO'\n",
    "            geocolumn = correctformat.index('geo\\TIME_PERIOD')\n",
    "            correctformat[geocolumn] = 'GEO'\n",
    "\n",
    "        formatdata.columns = correctformat\n",
    "        cleaned.append(formatdata)\n",
    "\n",
    "    return cleaned\n",
    "\n",
    "# Call the cleancolumns function and apply to the datasets stored in the datafiles array \n",
    "formatteddata = cleancolumns(datafiles)\n",
    "\n",
    "\n",
    "# Use a loop to drop unneeded column featurs from each datafile\n",
    "\n",
    "for data in formatteddata:\n",
    "    allcolumns = data.columns.tolist() #list all current columns\n",
    "\n",
    "    for column in allcolumns: # Use a for loop to drop columns according to specific criteria\n",
    "         if not column.startswith('2') and column != 'GEO':\n",
    "            data.drop(columns=[column], inplace=True)"
   ]
  },
  {
   "attachments": {},
   "cell_type": "markdown",
   "metadata": {},
   "source": [
    "# Section 3. Feature Engineering"
   ]
  },
  {
   "attachments": {},
   "cell_type": "markdown",
   "metadata": {},
   "source": [
    "Modify the dataset for Permits"
   ]
  },
  {
   "cell_type": "code",
   "execution_count": 11,
   "metadata": {},
   "outputs": [
    {
     "data": {
      "text/html": [
       "<div>\n",
       "<style scoped>\n",
       "    .dataframe tbody tr th:only-of-type {\n",
       "        vertical-align: middle;\n",
       "    }\n",
       "\n",
       "    .dataframe tbody tr th {\n",
       "        vertical-align: top;\n",
       "    }\n",
       "\n",
       "    .dataframe thead th {\n",
       "        text-align: right;\n",
       "    }\n",
       "</style>\n",
       "<table border=\"1\" class=\"dataframe\">\n",
       "  <thead>\n",
       "    <tr style=\"text-align: right;\">\n",
       "      <th></th>\n",
       "      <th>GEO_PERIOD</th>\n",
       "      <th>Permits</th>\n",
       "    </tr>\n",
       "  </thead>\n",
       "  <tbody>\n",
       "    <tr>\n",
       "      <th>0</th>\n",
       "      <td>AT 2010Q1</td>\n",
       "      <td>72.4</td>\n",
       "    </tr>\n",
       "    <tr>\n",
       "      <th>1</th>\n",
       "      <td>BE 2010Q1</td>\n",
       "      <td>116.2</td>\n",
       "    </tr>\n",
       "    <tr>\n",
       "      <th>2</th>\n",
       "      <td>IE 2010Q1</td>\n",
       "      <td>115.7</td>\n",
       "    </tr>\n",
       "    <tr>\n",
       "      <th>3</th>\n",
       "      <td>NO 2010Q1</td>\n",
       "      <td>91.3</td>\n",
       "    </tr>\n",
       "    <tr>\n",
       "      <th>4</th>\n",
       "      <td>AT 2010Q2</td>\n",
       "      <td>98.1</td>\n",
       "    </tr>\n",
       "  </tbody>\n",
       "</table>\n",
       "</div>"
      ],
      "text/plain": [
       "  GEO_PERIOD Permits\n",
       "0  AT 2010Q1   72.4 \n",
       "1  BE 2010Q1  116.2 \n",
       "2  IE 2010Q1   115.7\n",
       "3  NO 2010Q1    91.3\n",
       "4  AT 2010Q2   98.1 "
      ]
     },
     "execution_count": 11,
     "metadata": {},
     "output_type": "execute_result"
    }
   ],
   "source": [
    "# Assign list entries to individual dataframes for future use\n",
    "df_permits = formatteddata[0]\n",
    "\n",
    "# move data from wide format to long format\n",
    "permits = [c for c in df_permits.columns if c.startswith('2')]\n",
    "df_permits = pd.melt(df_permits, id_vars=['GEO'], value_vars=permits, var_name='PERIOD', value_name='Permits')\n",
    "\n",
    "# Create a new feature that will be used to uniquely identify each row\n",
    "df_permits['GEO_PERIOD'] = df_permits['GEO'].astype(str) + ' ' + df_permits['PERIOD'].astype(str)\n",
    "df_permits = df_permits[['GEO_PERIOD', 'Permits']]\n",
    "\n",
    "\n",
    "# Use a function to remove any letters from the Permits column\n",
    "def stripletters(s):\n",
    "    return ''.join(filter(lambda x: not x.isalpha(), s)) # Use isalpha method to remove letters from each row https://www.w3schools.com/python/ref_string_isalpha.asp\n",
    "\n",
    "df_permits['Permits'] = df_permits['Permits'].apply(stripletters)\n",
    "\n",
    "df_permits.head()\n"
   ]
  },
  {
   "attachments": {},
   "cell_type": "markdown",
   "metadata": {},
   "source": [
    "Modify the dataset for PriceIndex"
   ]
  },
  {
   "cell_type": "code",
   "execution_count": 12,
   "metadata": {},
   "outputs": [
    {
     "data": {
      "text/html": [
       "<div>\n",
       "<style scoped>\n",
       "    .dataframe tbody tr th:only-of-type {\n",
       "        vertical-align: middle;\n",
       "    }\n",
       "\n",
       "    .dataframe tbody tr th {\n",
       "        vertical-align: top;\n",
       "    }\n",
       "\n",
       "    .dataframe thead th {\n",
       "        text-align: right;\n",
       "    }\n",
       "</style>\n",
       "<table border=\"1\" class=\"dataframe\">\n",
       "  <thead>\n",
       "    <tr style=\"text-align: right;\">\n",
       "      <th></th>\n",
       "      <th>GEO_PERIOD</th>\n",
       "      <th>PriceIndex</th>\n",
       "    </tr>\n",
       "  </thead>\n",
       "  <tbody>\n",
       "    <tr>\n",
       "      <th>0</th>\n",
       "      <td>AT 2010Q1</td>\n",
       "      <td>74.05</td>\n",
       "    </tr>\n",
       "    <tr>\n",
       "      <th>1</th>\n",
       "      <td>BE 2010Q1</td>\n",
       "      <td>90.28</td>\n",
       "    </tr>\n",
       "    <tr>\n",
       "      <th>2</th>\n",
       "      <td>IE 2010Q1</td>\n",
       "      <td>111.53</td>\n",
       "    </tr>\n",
       "    <tr>\n",
       "      <th>3</th>\n",
       "      <td>NO 2010Q1</td>\n",
       "      <td>73.93</td>\n",
       "    </tr>\n",
       "    <tr>\n",
       "      <th>4</th>\n",
       "      <td>AT 2010Q2</td>\n",
       "      <td>76.54</td>\n",
       "    </tr>\n",
       "  </tbody>\n",
       "</table>\n",
       "</div>"
      ],
      "text/plain": [
       "  GEO_PERIOD PriceIndex\n",
       "0  AT 2010Q1      74.05\n",
       "1  BE 2010Q1      90.28\n",
       "2  IE 2010Q1     111.53\n",
       "3  NO 2010Q1      73.93\n",
       "4  AT 2010Q2      76.54"
      ]
     },
     "execution_count": 12,
     "metadata": {},
     "output_type": "execute_result"
    }
   ],
   "source": [
    "# Assign list entries to individual dataframes for future use\n",
    "df_priceIndx = formatteddata[1]\n",
    "\n",
    "# move data from wide format to long format\n",
    "prices = [c for c in df_priceIndx.columns if c.startswith('2')]\n",
    "df_priceIndx = pd.melt(df_priceIndx, id_vars=['GEO'], value_vars=prices, var_name='PERIOD', value_name='PriceIndex')\n",
    "\n",
    "# Create a new feature that will be used to uniquely identify each row\n",
    "df_priceIndx['GEO_PERIOD'] = df_priceIndx['GEO'].astype(str) + ' ' + df_priceIndx['PERIOD'].astype(str)\n",
    "df_priceIndx = df_priceIndx[['GEO_PERIOD', 'PriceIndex']]\n",
    "\n",
    "\n",
    "\n",
    "df_priceIndx.head()\n"
   ]
  },
  {
   "attachments": {},
   "cell_type": "markdown",
   "metadata": {},
   "source": [
    "Modify the dataset for LabourInput"
   ]
  },
  {
   "cell_type": "code",
   "execution_count": 13,
   "metadata": {},
   "outputs": [
    {
     "data": {
      "text/html": [
       "<div>\n",
       "<style scoped>\n",
       "    .dataframe tbody tr th:only-of-type {\n",
       "        vertical-align: middle;\n",
       "    }\n",
       "\n",
       "    .dataframe tbody tr th {\n",
       "        vertical-align: top;\n",
       "    }\n",
       "\n",
       "    .dataframe thead th {\n",
       "        text-align: right;\n",
       "    }\n",
       "</style>\n",
       "<table border=\"1\" class=\"dataframe\">\n",
       "  <thead>\n",
       "    <tr style=\"text-align: right;\">\n",
       "      <th></th>\n",
       "      <th>GEO_PERIOD</th>\n",
       "      <th>LabourInput</th>\n",
       "    </tr>\n",
       "  </thead>\n",
       "  <tbody>\n",
       "    <tr>\n",
       "      <th>0</th>\n",
       "      <td>AT 2010Q1</td>\n",
       "      <td>87.3</td>\n",
       "    </tr>\n",
       "    <tr>\n",
       "      <th>1</th>\n",
       "      <td>BE 2010Q1</td>\n",
       "      <td>98.8</td>\n",
       "    </tr>\n",
       "    <tr>\n",
       "      <th>2</th>\n",
       "      <td>IE 2010Q1</td>\n",
       "      <td>98.0</td>\n",
       "    </tr>\n",
       "    <tr>\n",
       "      <th>3</th>\n",
       "      <td>NO 2010Q1</td>\n",
       "      <td>83.1</td>\n",
       "    </tr>\n",
       "    <tr>\n",
       "      <th>4</th>\n",
       "      <td>AT 2010Q2</td>\n",
       "      <td>102.6</td>\n",
       "    </tr>\n",
       "  </tbody>\n",
       "</table>\n",
       "</div>"
      ],
      "text/plain": [
       "  GEO_PERIOD LabourInput\n",
       "0  AT 2010Q1        87.3\n",
       "1  BE 2010Q1        98.8\n",
       "2  IE 2010Q1        98.0\n",
       "3  NO 2010Q1        83.1\n",
       "4  AT 2010Q2       102.6"
      ]
     },
     "execution_count": 13,
     "metadata": {},
     "output_type": "execute_result"
    }
   ],
   "source": [
    "# Assign list entries to individual dataframes for future use\n",
    "df_labourInput = formatteddata[2]\n",
    "\n",
    "# move data from wide format to long format\n",
    "labour = [c for c in df_labourInput.columns if c.startswith('2')]\n",
    "df_labourInput = pd.melt(df_labourInput, id_vars=['GEO'], value_vars=labour, var_name='PERIOD', value_name='LabourInput')\n",
    "\n",
    "# Create a new feature that will be used to uniquely identify each row\n",
    "df_labourInput['GEO_PERIOD'] = df_labourInput['GEO'].astype(str) + ' ' + df_labourInput['PERIOD'].astype(str)\n",
    "df_labourInput = df_labourInput[['GEO_PERIOD', 'LabourInput']]\n",
    "\n",
    "\n",
    "\n",
    "df_labourInput.head()\n"
   ]
  },
  {
   "attachments": {},
   "cell_type": "markdown",
   "metadata": {},
   "source": [
    "Modify the dataset for ProductionCost"
   ]
  },
  {
   "cell_type": "code",
   "execution_count": 14,
   "metadata": {},
   "outputs": [
    {
     "data": {
      "text/html": [
       "<div>\n",
       "<style scoped>\n",
       "    .dataframe tbody tr th:only-of-type {\n",
       "        vertical-align: middle;\n",
       "    }\n",
       "\n",
       "    .dataframe tbody tr th {\n",
       "        vertical-align: top;\n",
       "    }\n",
       "\n",
       "    .dataframe thead th {\n",
       "        text-align: right;\n",
       "    }\n",
       "</style>\n",
       "<table border=\"1\" class=\"dataframe\">\n",
       "  <thead>\n",
       "    <tr style=\"text-align: right;\">\n",
       "      <th></th>\n",
       "      <th>GEO_PERIOD</th>\n",
       "      <th>ProductionCost</th>\n",
       "    </tr>\n",
       "  </thead>\n",
       "  <tbody>\n",
       "    <tr>\n",
       "      <th>0</th>\n",
       "      <td>AT 2010Q1</td>\n",
       "      <td>88.3</td>\n",
       "    </tr>\n",
       "    <tr>\n",
       "      <th>1</th>\n",
       "      <td>BE 2010Q1</td>\n",
       "      <td>91.1</td>\n",
       "    </tr>\n",
       "    <tr>\n",
       "      <th>2</th>\n",
       "      <td>IE 2010Q1</td>\n",
       "      <td>97.8</td>\n",
       "    </tr>\n",
       "    <tr>\n",
       "      <th>3</th>\n",
       "      <td>NO 2010Q1</td>\n",
       "      <td>84.6</td>\n",
       "    </tr>\n",
       "    <tr>\n",
       "      <th>4</th>\n",
       "      <td>AT 2010Q2</td>\n",
       "      <td>88.8</td>\n",
       "    </tr>\n",
       "  </tbody>\n",
       "</table>\n",
       "</div>"
      ],
      "text/plain": [
       "  GEO_PERIOD ProductionCost\n",
       "0  AT 2010Q1           88.3\n",
       "1  BE 2010Q1           91.1\n",
       "2  IE 2010Q1           97.8\n",
       "3  NO 2010Q1          84.6 \n",
       "4  AT 2010Q2           88.8"
      ]
     },
     "execution_count": 14,
     "metadata": {},
     "output_type": "execute_result"
    }
   ],
   "source": [
    "# Assign list entries to individual dataframes for future use\n",
    "df_prodCost = formatteddata[3]\n",
    "\n",
    "# move data from wide format to long format\n",
    "production = [c for c in df_prodCost.columns if c.startswith('2')]\n",
    "df_prodCost = pd.melt(df_prodCost, id_vars=['GEO'], value_vars=production, var_name='PERIOD', value_name='ProductionCost')\n",
    "\n",
    "# Create a new feature that will be used to uniquely identify each row\n",
    "df_prodCost['GEO_PERIOD'] = df_prodCost['GEO'].astype(str) + ' ' + df_prodCost['PERIOD'].astype(str)\n",
    "df_prodCost = df_prodCost[['GEO_PERIOD', 'ProductionCost']]\n",
    "\n",
    "\n",
    "# Use a function to remove any letters from the ProductionCost column\n",
    "def stripletters(s):\n",
    "    return ''.join(filter(lambda x: not x.isalpha(), s)) # Use isalpha method to remove letters from each row https://www.w3schools.com/python/ref_string_isalpha.asp\n",
    "\n",
    "df_prodCost['ProductionCost'] = df_prodCost['ProductionCost'].apply(stripletters)\n",
    "\n",
    "df_prodCost.head()\n"
   ]
  },
  {
   "attachments": {},
   "cell_type": "markdown",
   "metadata": {},
   "source": [
    "Modify the dataset for ProductionVolume"
   ]
  },
  {
   "cell_type": "code",
   "execution_count": 15,
   "metadata": {},
   "outputs": [
    {
     "data": {
      "text/html": [
       "<div>\n",
       "<style scoped>\n",
       "    .dataframe tbody tr th:only-of-type {\n",
       "        vertical-align: middle;\n",
       "    }\n",
       "\n",
       "    .dataframe tbody tr th {\n",
       "        vertical-align: top;\n",
       "    }\n",
       "\n",
       "    .dataframe thead th {\n",
       "        text-align: right;\n",
       "    }\n",
       "</style>\n",
       "<table border=\"1\" class=\"dataframe\">\n",
       "  <thead>\n",
       "    <tr style=\"text-align: right;\">\n",
       "      <th></th>\n",
       "      <th>GEO_PERIOD</th>\n",
       "      <th>ProductionVolume</th>\n",
       "    </tr>\n",
       "  </thead>\n",
       "  <tbody>\n",
       "    <tr>\n",
       "      <th>0</th>\n",
       "      <td>AT 2010Q1</td>\n",
       "      <td>97.8</td>\n",
       "    </tr>\n",
       "    <tr>\n",
       "      <th>1</th>\n",
       "      <td>BE 2010Q1</td>\n",
       "      <td>101.0</td>\n",
       "    </tr>\n",
       "    <tr>\n",
       "      <th>2</th>\n",
       "      <td>IE 2010Q1</td>\n",
       "      <td>99.8</td>\n",
       "    </tr>\n",
       "    <tr>\n",
       "      <th>3</th>\n",
       "      <td>NO 2010Q1</td>\n",
       "      <td>78.5</td>\n",
       "    </tr>\n",
       "    <tr>\n",
       "      <th>4</th>\n",
       "      <td>AT 2010Q2</td>\n",
       "      <td>98.9</td>\n",
       "    </tr>\n",
       "  </tbody>\n",
       "</table>\n",
       "</div>"
      ],
      "text/plain": [
       "  GEO_PERIOD ProductionVolume\n",
       "0  AT 2010Q1             97.8\n",
       "1  BE 2010Q1            101.0\n",
       "2  IE 2010Q1             99.8\n",
       "3  NO 2010Q1             78.5\n",
       "4  AT 2010Q2             98.9"
      ]
     },
     "execution_count": 15,
     "metadata": {},
     "output_type": "execute_result"
    }
   ],
   "source": [
    "# Assign list entries to individual dataframes for future use\n",
    "df_prodVolume = formatteddata[4]\n",
    "\n",
    "# move data from wide format to long format\n",
    "volume = [c for c in df_prodVolume.columns if c.startswith('2')]\n",
    "\n",
    "df_prodVolume = pd.melt(df_prodVolume, id_vars=['GEO'], value_vars=volume, var_name='PERIOD', value_name='ProductionVolume')\n",
    "\n",
    "# Create a new feature that will be used to uniquely identify each row\n",
    "df_prodVolume['GEO_PERIOD'] = df_prodVolume['GEO'].astype(str) + ' ' + df_prodVolume['PERIOD'].astype(str)\n",
    "df_prodVolume = df_prodVolume[['GEO_PERIOD', 'ProductionVolume']]\n",
    "\n",
    "\n",
    "df_prodVolume.head()\n"
   ]
  },
  {
   "attachments": {},
   "cell_type": "markdown",
   "metadata": {},
   "source": [
    "Modify the dataset for Sentiment"
   ]
  },
  {
   "cell_type": "code",
   "execution_count": 16,
   "metadata": {},
   "outputs": [
    {
     "data": {
      "text/html": [
       "<div>\n",
       "<style scoped>\n",
       "    .dataframe tbody tr th:only-of-type {\n",
       "        vertical-align: middle;\n",
       "    }\n",
       "\n",
       "    .dataframe tbody tr th {\n",
       "        vertical-align: top;\n",
       "    }\n",
       "\n",
       "    .dataframe thead th {\n",
       "        text-align: right;\n",
       "    }\n",
       "</style>\n",
       "<table border=\"1\" class=\"dataframe\">\n",
       "  <thead>\n",
       "    <tr style=\"text-align: right;\">\n",
       "      <th></th>\n",
       "      <th>GEO_PERIOD</th>\n",
       "      <th>SentimentScore</th>\n",
       "    </tr>\n",
       "  </thead>\n",
       "  <tbody>\n",
       "    <tr>\n",
       "      <th>0</th>\n",
       "      <td>AT 201001</td>\n",
       "      <td>93.5</td>\n",
       "    </tr>\n",
       "    <tr>\n",
       "      <th>1</th>\n",
       "      <td>BE 201001</td>\n",
       "      <td>96.1</td>\n",
       "    </tr>\n",
       "    <tr>\n",
       "      <th>2</th>\n",
       "      <td>IE 201001</td>\n",
       "      <td>89.1</td>\n",
       "    </tr>\n",
       "    <tr>\n",
       "      <th>3</th>\n",
       "      <td>AT 201002</td>\n",
       "      <td>94.9</td>\n",
       "    </tr>\n",
       "    <tr>\n",
       "      <th>4</th>\n",
       "      <td>BE 201002</td>\n",
       "      <td>93.3</td>\n",
       "    </tr>\n",
       "  </tbody>\n",
       "</table>\n",
       "</div>"
      ],
      "text/plain": [
       "  GEO_PERIOD  SentimentScore\n",
       "0  AT 201001            93.5\n",
       "1  BE 201001            96.1\n",
       "2  IE 201001            89.1\n",
       "3  AT 201002            94.9\n",
       "4  BE 201002            93.3"
      ]
     },
     "execution_count": 16,
     "metadata": {},
     "output_type": "execute_result"
    }
   ],
   "source": [
    "# Assign list entries to individual dataframes for future use\n",
    "df_Sentiment = formatteddata[5]\n",
    "\n",
    "# move data from wide format to long format\n",
    "sentiment = [c for c in df_Sentiment.columns if c.startswith('2')]\n",
    "df_Sentiment = pd.melt(df_Sentiment, id_vars=['GEO'], value_vars=sentiment, var_name='PERIOD', value_name='SentimentScore')\n",
    "\n",
    "# Create a new feature that will be used to uniquely identify each row\n",
    "df_Sentiment['GEO_PERIOD'] = df_Sentiment['GEO'].astype(str) + ' ' + df_Sentiment['PERIOD'].astype(str)\n",
    "df_Sentiment = df_Sentiment[['GEO_PERIOD', 'SentimentScore']]\n",
    "\n",
    "\n",
    "df_Sentiment.head()\n"
   ]
  },
  {
   "cell_type": "code",
   "execution_count": 17,
   "metadata": {},
   "outputs": [
    {
     "data": {
      "text/html": [
       "<div>\n",
       "<style scoped>\n",
       "    .dataframe tbody tr th:only-of-type {\n",
       "        vertical-align: middle;\n",
       "    }\n",
       "\n",
       "    .dataframe tbody tr th {\n",
       "        vertical-align: top;\n",
       "    }\n",
       "\n",
       "    .dataframe thead th {\n",
       "        text-align: right;\n",
       "    }\n",
       "</style>\n",
       "<table border=\"1\" class=\"dataframe\">\n",
       "  <thead>\n",
       "    <tr style=\"text-align: right;\">\n",
       "      <th></th>\n",
       "      <th>GEO</th>\n",
       "      <th>PERIOD</th>\n",
       "      <th>YEAR</th>\n",
       "      <th>QUARTER</th>\n",
       "      <th>Permits</th>\n",
       "      <th>LabourInput</th>\n",
       "      <th>ProductionCost</th>\n",
       "      <th>PriceIndex</th>\n",
       "      <th>ProductionVolume</th>\n",
       "    </tr>\n",
       "  </thead>\n",
       "  <tbody>\n",
       "    <tr>\n",
       "      <th>0</th>\n",
       "      <td>AT</td>\n",
       "      <td>2010Q1</td>\n",
       "      <td>2010</td>\n",
       "      <td>Q1</td>\n",
       "      <td>72.4</td>\n",
       "      <td>87.3</td>\n",
       "      <td>88.3</td>\n",
       "      <td>74.05</td>\n",
       "      <td>97.8</td>\n",
       "    </tr>\n",
       "    <tr>\n",
       "      <th>1</th>\n",
       "      <td>BE</td>\n",
       "      <td>2010Q1</td>\n",
       "      <td>2010</td>\n",
       "      <td>Q1</td>\n",
       "      <td>116.2</td>\n",
       "      <td>98.8</td>\n",
       "      <td>91.1</td>\n",
       "      <td>90.28</td>\n",
       "      <td>101.0</td>\n",
       "    </tr>\n",
       "    <tr>\n",
       "      <th>2</th>\n",
       "      <td>IE</td>\n",
       "      <td>2010Q1</td>\n",
       "      <td>2010</td>\n",
       "      <td>Q1</td>\n",
       "      <td>115.7</td>\n",
       "      <td>98.0</td>\n",
       "      <td>97.8</td>\n",
       "      <td>111.53</td>\n",
       "      <td>99.8</td>\n",
       "    </tr>\n",
       "    <tr>\n",
       "      <th>3</th>\n",
       "      <td>NO</td>\n",
       "      <td>2010Q1</td>\n",
       "      <td>2010</td>\n",
       "      <td>Q1</td>\n",
       "      <td>91.3</td>\n",
       "      <td>83.1</td>\n",
       "      <td>84.6</td>\n",
       "      <td>73.93</td>\n",
       "      <td>78.5</td>\n",
       "    </tr>\n",
       "    <tr>\n",
       "      <th>4</th>\n",
       "      <td>AT</td>\n",
       "      <td>2010Q2</td>\n",
       "      <td>2010</td>\n",
       "      <td>Q2</td>\n",
       "      <td>98.1</td>\n",
       "      <td>102.6</td>\n",
       "      <td>88.8</td>\n",
       "      <td>76.54</td>\n",
       "      <td>98.9</td>\n",
       "    </tr>\n",
       "  </tbody>\n",
       "</table>\n",
       "</div>"
      ],
      "text/plain": [
       "  GEO   PERIOD   YEAR QUARTER Permits LabourInput ProductionCost PriceIndex  \\\n",
       "0  AT   2010Q1   2010      Q1   72.4         87.3           88.3      74.05   \n",
       "1  BE   2010Q1   2010      Q1  116.2         98.8           91.1      90.28   \n",
       "2  IE   2010Q1   2010      Q1   115.7        98.0           97.8     111.53   \n",
       "3  NO   2010Q1   2010      Q1    91.3        83.1          84.6       73.93   \n",
       "4  AT   2010Q2   2010      Q2   98.1        102.6           88.8      76.54   \n",
       "\n",
       "  ProductionVolume  \n",
       "0             97.8  \n",
       "1            101.0  \n",
       "2             99.8  \n",
       "3             78.5  \n",
       "4             98.9  "
      ]
     },
     "execution_count": 17,
     "metadata": {},
     "output_type": "execute_result"
    }
   ],
   "source": [
    "# Define the final dataset for construction metrics to be used in visualisations, dashboards, and machine learning models\n",
    "df_constats = pd.merge(df_prodCost, df_prodVolume, on='GEO_PERIOD', how='left')\n",
    "df_constats = pd.merge(df_constats, df_priceIndx, on='GEO_PERIOD', how='left')\n",
    "df_constats = pd.merge(df_constats, df_permits, on='GEO_PERIOD', how='left')\n",
    "df_constats = pd.merge(df_constats, df_labourInput, on='GEO_PERIOD', how='left')\n",
    "df_constats['GEO'] = df_constats['GEO_PERIOD'].str[:2] # recreate GEO column & values\n",
    "df_constats['PERIOD'] = df_constats['GEO_PERIOD'].str[2:] # recreate period values\n",
    "df_constats[\"YEAR\"] = df_constats[\"PERIOD\"].str[:5] # create a year feature for filtering purposes\n",
    "df_constats[\"QUARTER\"] = df_constats[\"PERIOD\"].str[-2:] # create a quarter feature for filtering purposes\n",
    "df_constats = df_constats.reindex(columns=['GEO', 'PERIOD', 'YEAR', \"QUARTER\", 'Permits', 'LabourInput', 'ProductionCost', 'PriceIndex', 'ProductionVolume'])\n",
    "df_constats.head()"
   ]
  },
  {
   "attachments": {},
   "cell_type": "markdown",
   "metadata": {},
   "source": [
    "# Section 4. Visualising Data"
   ]
  },
  {
   "cell_type": "code",
   "execution_count": 18,
   "metadata": {},
   "outputs": [
    {
     "data": {
      "text/html": [
       "<div>\n",
       "<style scoped>\n",
       "    .dataframe tbody tr th:only-of-type {\n",
       "        vertical-align: middle;\n",
       "    }\n",
       "\n",
       "    .dataframe tbody tr th {\n",
       "        vertical-align: top;\n",
       "    }\n",
       "\n",
       "    .dataframe thead th {\n",
       "        text-align: right;\n",
       "    }\n",
       "</style>\n",
       "<table border=\"1\" class=\"dataframe\">\n",
       "  <thead>\n",
       "    <tr style=\"text-align: right;\">\n",
       "      <th></th>\n",
       "      <th>GEO</th>\n",
       "      <th>YEAR</th>\n",
       "      <th>ProductionVolume</th>\n",
       "      <th>PriceIndex</th>\n",
       "      <th>ProductionCost</th>\n",
       "      <th>LabourInput</th>\n",
       "      <th>Permits</th>\n",
       "    </tr>\n",
       "  </thead>\n",
       "  <tbody>\n",
       "    <tr>\n",
       "      <th>0</th>\n",
       "      <td>AT</td>\n",
       "      <td>2010</td>\n",
       "      <td>97.450</td>\n",
       "      <td>76.7975</td>\n",
       "      <td>89.075</td>\n",
       "      <td>99.050</td>\n",
       "      <td>87.800</td>\n",
       "    </tr>\n",
       "    <tr>\n",
       "      <th>1</th>\n",
       "      <td>AT</td>\n",
       "      <td>2011</td>\n",
       "      <td>99.125</td>\n",
       "      <td>81.5975</td>\n",
       "      <td>91.600</td>\n",
       "      <td>101.275</td>\n",
       "      <td>97.000</td>\n",
       "    </tr>\n",
       "    <tr>\n",
       "      <th>2</th>\n",
       "      <td>AT</td>\n",
       "      <td>2012</td>\n",
       "      <td>102.550</td>\n",
       "      <td>87.5700</td>\n",
       "      <td>93.925</td>\n",
       "      <td>103.025</td>\n",
       "      <td>83.925</td>\n",
       "    </tr>\n",
       "    <tr>\n",
       "      <th>3</th>\n",
       "      <td>AT</td>\n",
       "      <td>2013</td>\n",
       "      <td>103.150</td>\n",
       "      <td>92.1000</td>\n",
       "      <td>96.225</td>\n",
       "      <td>102.950</td>\n",
       "      <td>85.675</td>\n",
       "    </tr>\n",
       "    <tr>\n",
       "      <th>4</th>\n",
       "      <td>AT</td>\n",
       "      <td>2014</td>\n",
       "      <td>101.850</td>\n",
       "      <td>95.3300</td>\n",
       "      <td>98.425</td>\n",
       "      <td>101.425</td>\n",
       "      <td>91.525</td>\n",
       "    </tr>\n",
       "  </tbody>\n",
       "</table>\n",
       "</div>"
      ],
      "text/plain": [
       "  GEO   YEAR  ProductionVolume  PriceIndex  ProductionCost  LabourInput  \\\n",
       "0  AT   2010            97.450     76.7975          89.075       99.050   \n",
       "1  AT   2011            99.125     81.5975          91.600      101.275   \n",
       "2  AT   2012           102.550     87.5700          93.925      103.025   \n",
       "3  AT   2013           103.150     92.1000          96.225      102.950   \n",
       "4  AT   2014           101.850     95.3300          98.425      101.425   \n",
       "\n",
       "   Permits  \n",
       "0   87.800  \n",
       "1   97.000  \n",
       "2   83.925  \n",
       "3   85.675  \n",
       "4   91.525  "
      ]
     },
     "execution_count": 18,
     "metadata": {},
     "output_type": "execute_result"
    }
   ],
   "source": [
    "#Find the mean values for visualisations purposes later on\n",
    "df_constats[\"Permits\"] = pd.to_numeric(df_constats[\"Permits\"], errors=\"coerce\")\n",
    "df_constats[\"LabourInput\"] = pd.to_numeric(df_constats[\"LabourInput\"], errors=\"coerce\")\n",
    "df_constats[\"ProductionCost\"] = pd.to_numeric(df_constats[\"ProductionCost\"], errors=\"coerce\")\n",
    "df_constats[\"PriceIndex\"] = pd.to_numeric(df_constats[\"PriceIndex\"], errors=\"coerce\")\n",
    "df_constats[\"ProductionVolume\"] = pd.to_numeric(df_constats[\"ProductionVolume\"], errors=\"coerce\")\n",
    "Yearlyaverage_df = df_constats.groupby([\"GEO\", \"YEAR\"]).agg({\"ProductionVolume\": \"mean\", \"PriceIndex\": \"mean\", \"ProductionCost\": \"mean\", \"LabourInput\": \"mean\", \"Permits\": \"mean\"}).reset_index()\n",
    "Yearlyaverage_df.head()"
   ]
  },
  {
   "cell_type": "code",
   "execution_count": 19,
   "metadata": {},
   "outputs": [
    {
     "data": {
      "image/png": "[encoded data removed]",
      "text/plain": [
       "<Figure size 1200x600 with 1 Axes>"
      ]
     },
     "metadata": {},
     "output_type": "display_data"
    }
   ],
   "source": [
    "# Using a line plot to show Production volume over years\n",
    "fig, ax = plt.subplots(figsize=(12, 6))\n",
    "sns.lineplot(x=\"YEAR\", y=\"ProductionVolume\", hue=\"GEO\", data=Yearlyaverage_df, ax=ax)\n",
    "ax.set_title(\"Construction Sector Output volume comparison by country: \")\n",
    "#ax.set_xticks(range(2003, 2024))\n",
    "\n",
    "plt.show()"
   ]
  },
  {
   "cell_type": "code",
   "execution_count": 20,
   "metadata": {},
   "outputs": [
    {
     "data": {
      "text/html": [
       "<div>\n",
       "<style scoped>\n",
       "    .dataframe tbody tr th:only-of-type {\n",
       "        vertical-align: middle;\n",
       "    }\n",
       "\n",
       "    .dataframe tbody tr th {\n",
       "        vertical-align: top;\n",
       "    }\n",
       "\n",
       "    .dataframe thead th {\n",
       "        text-align: right;\n",
       "    }\n",
       "</style>\n",
       "<table border=\"1\" class=\"dataframe\">\n",
       "  <thead>\n",
       "    <tr style=\"text-align: right;\">\n",
       "      <th></th>\n",
       "      <th>GEO</th>\n",
       "      <th>PERIOD</th>\n",
       "      <th>YEAR</th>\n",
       "      <th>QUARTER</th>\n",
       "      <th>Permits</th>\n",
       "      <th>LabourInput</th>\n",
       "      <th>ProductionCost</th>\n",
       "      <th>PriceIndex</th>\n",
       "      <th>ProductionVolume</th>\n",
       "    </tr>\n",
       "  </thead>\n",
       "  <tbody>\n",
       "    <tr>\n",
       "      <th>0</th>\n",
       "      <td>Austria</td>\n",
       "      <td>2010Q1</td>\n",
       "      <td>2010</td>\n",
       "      <td>Q1</td>\n",
       "      <td>72.4</td>\n",
       "      <td>87.3</td>\n",
       "      <td>88.3</td>\n",
       "      <td>74.05</td>\n",
       "      <td>97.8</td>\n",
       "    </tr>\n",
       "    <tr>\n",
       "      <th>1</th>\n",
       "      <td>Belgium</td>\n",
       "      <td>2010Q1</td>\n",
       "      <td>2010</td>\n",
       "      <td>Q1</td>\n",
       "      <td>116.2</td>\n",
       "      <td>98.8</td>\n",
       "      <td>91.1</td>\n",
       "      <td>90.28</td>\n",
       "      <td>101.0</td>\n",
       "    </tr>\n",
       "    <tr>\n",
       "      <th>2</th>\n",
       "      <td>Ireland</td>\n",
       "      <td>2010Q1</td>\n",
       "      <td>2010</td>\n",
       "      <td>Q1</td>\n",
       "      <td>115.7</td>\n",
       "      <td>98.0</td>\n",
       "      <td>97.8</td>\n",
       "      <td>111.53</td>\n",
       "      <td>99.8</td>\n",
       "    </tr>\n",
       "    <tr>\n",
       "      <th>3</th>\n",
       "      <td>Norway</td>\n",
       "      <td>2010Q1</td>\n",
       "      <td>2010</td>\n",
       "      <td>Q1</td>\n",
       "      <td>91.3</td>\n",
       "      <td>83.1</td>\n",
       "      <td>84.6</td>\n",
       "      <td>73.93</td>\n",
       "      <td>78.5</td>\n",
       "    </tr>\n",
       "    <tr>\n",
       "      <th>4</th>\n",
       "      <td>Austria</td>\n",
       "      <td>2010Q2</td>\n",
       "      <td>2010</td>\n",
       "      <td>Q2</td>\n",
       "      <td>98.1</td>\n",
       "      <td>102.6</td>\n",
       "      <td>88.8</td>\n",
       "      <td>76.54</td>\n",
       "      <td>98.9</td>\n",
       "    </tr>\n",
       "  </tbody>\n",
       "</table>\n",
       "</div>"
      ],
      "text/plain": [
       "       GEO   PERIOD   YEAR QUARTER  Permits  LabourInput  ProductionCost  \\\n",
       "0  Austria   2010Q1   2010      Q1     72.4         87.3            88.3   \n",
       "1  Belgium   2010Q1   2010      Q1    116.2         98.8            91.1   \n",
       "2  Ireland   2010Q1   2010      Q1    115.7         98.0            97.8   \n",
       "3   Norway   2010Q1   2010      Q1     91.3         83.1            84.6   \n",
       "4  Austria   2010Q2   2010      Q2     98.1        102.6            88.8   \n",
       "\n",
       "   PriceIndex  ProductionVolume  \n",
       "0       74.05              97.8  \n",
       "1       90.28             101.0  \n",
       "2      111.53              99.8  \n",
       "3       73.93              78.5  \n",
       "4       76.54              98.9  "
      ]
     },
     "execution_count": 20,
     "metadata": {},
     "output_type": "execute_result"
    }
   ],
   "source": [
    "# Check for NaN values and remove any rows containing\n",
    "df_constats = df_constats.dropna()\n",
    "\n",
    "# Create a dictionary to hold country code to country pairs\n",
    "codetocountry = {\"AT\": \"Austria\", \"BE\": \"Belgium\", \"IE\": \"Ireland\", \"NO\": \"Norway\",}\n",
    "\n",
    "# Replace country codes with country names for clarity in future visualisations\n",
    "df_constats[\"GEO\"] = df_constats[\"GEO\"].map(codetocountry)\n",
    "df_constats.head()\n"
   ]
  },
  {
   "cell_type": "code",
   "execution_count": 21,
   "metadata": {},
   "outputs": [
    {
     "name": "stdout",
     "output_type": "stream",
     "text": [
      "Dash is running on http://127.0.0.1:8050/\n",
      "\n"
     ]
    },
    {
     "data": {
      "text/html": [
       "\n",
       "        <iframe\n",
       "            width=\"100%\"\n",
       "            height=\"650\"\n",
       "            src=\"http://127.0.0.1:8050/\"\n",
       "            frameborder=\"0\"\n",
       "            allowfullscreen\n",
       "            \n",
       "        ></iframe>\n",
       "        "
      ],
      "text/plain": [
       "<IPython.lib.display.IFrame at 0x231796359c0>"
      ]
     },
     "metadata": {},
     "output_type": "display_data"
    }
   ],
   "source": [
    "# Using dash and inline capabilities to develop a dashboard based on the collected construction sector data\n",
    "# See code references used https://medium.com/plotly/introducing-jupyterdash-811f1f57c02e and https://dash.plotly.com/dash-core-components/graph \n",
    "# Build App \n",
    "app = JupyterDash(__name__)\n",
    "app.layout = html.Div([\n",
    "    html.H1(\"Construction sector data comparing volume, price, cost\"),\n",
    "    dcc.Graph(id='graph'),\n",
    "    html.Label([\n",
    "        \"Select GEO\",\n",
    "        dcc.Dropdown(\n",
    "            id='geo-dropdown',\n",
    "            clearable=False,\n",
    "            options=[{'label': geo, 'value': geo} for geo in df_constats['GEO'].unique()],\n",
    "            value=df_constats['GEO'].unique()[0]\n",
    "        )\n",
    "    ]),\n",
    "])\n",
    "\n",
    "# Define callback to update graph\n",
    "@app.callback(\n",
    "    Output('graph', 'figure'),\n",
    "    [Input(\"geo-dropdown\", \"value\")]\n",
    ")\n",
    "def update_figure(geo):\n",
    "    filtered_df = df_constats[df_constats['GEO'] == geo]\n",
    "    fig = px.scatter(\n",
    "        filtered_df, x=\"PriceIndex\", y=\"ProductionCost\", color=\"ProductionVolume\",\n",
    "        color_continuous_scale=\"oryel\",\n",
    "        render_mode=\"webgl\", title=\"Choose a country to begin, hover to show collection period.\"\n",
    "    )\n",
    "    # Add hover information for Year & Quarter information\n",
    "    fig.update_traces(hovertemplate=\"Year: %{customdata[0]}<br>Quarter: %{customdata[1]}<br>Price Index: %{x}<br>Production Cost: %{y}<br>Production Volume: %{marker.color}\",\n",
    "                      customdata=filtered_df[[\"YEAR\", \"QUARTER\"]].values) \n",
    "    return fig\n",
    "\n",
    "# Run app and display result inline in the notebook using dash\n",
    "app.run_server(mode='inline')\n"
   ]
  },
  {
   "attachments": {},
   "cell_type": "markdown",
   "metadata": {},
   "source": [
    "# Section 5. Descriptive Statistics"
   ]
  },
  {
   "cell_type": "code",
   "execution_count": 22,
   "metadata": {},
   "outputs": [
    {
     "data": {
      "text/html": [
       "<div>\n",
       "<style scoped>\n",
       "    .dataframe tbody tr th:only-of-type {\n",
       "        vertical-align: middle;\n",
       "    }\n",
       "\n",
       "    .dataframe tbody tr th {\n",
       "        vertical-align: top;\n",
       "    }\n",
       "\n",
       "    .dataframe thead th {\n",
       "        text-align: right;\n",
       "    }\n",
       "</style>\n",
       "<table border=\"1\" class=\"dataframe\">\n",
       "  <thead>\n",
       "    <tr style=\"text-align: right;\">\n",
       "      <th></th>\n",
       "      <th>ProductionVolume</th>\n",
       "      <th>PriceIndex</th>\n",
       "      <th>ProductionCost</th>\n",
       "      <th>LabourInput</th>\n",
       "      <th>Permits</th>\n",
       "    </tr>\n",
       "  </thead>\n",
       "  <tbody>\n",
       "    <tr>\n",
       "      <th>count</th>\n",
       "      <td>53.000000</td>\n",
       "      <td>52.000000</td>\n",
       "      <td>54.000000</td>\n",
       "      <td>49.000000</td>\n",
       "      <td>51.000000</td>\n",
       "    </tr>\n",
       "    <tr>\n",
       "      <th>mean</th>\n",
       "      <td>106.494025</td>\n",
       "      <td>110.101971</td>\n",
       "      <td>106.118519</td>\n",
       "      <td>106.690986</td>\n",
       "      <td>108.696078</td>\n",
       "    </tr>\n",
       "    <tr>\n",
       "      <th>std</th>\n",
       "      <td>15.293288</td>\n",
       "      <td>22.735826</td>\n",
       "      <td>13.309137</td>\n",
       "      <td>17.705821</td>\n",
       "      <td>26.669233</td>\n",
       "    </tr>\n",
       "    <tr>\n",
       "      <th>min</th>\n",
       "      <td>75.425000</td>\n",
       "      <td>75.765000</td>\n",
       "      <td>85.825000</td>\n",
       "      <td>76.050000</td>\n",
       "      <td>61.275000</td>\n",
       "    </tr>\n",
       "    <tr>\n",
       "      <th>25%</th>\n",
       "      <td>99.125000</td>\n",
       "      <td>93.328125</td>\n",
       "      <td>97.643750</td>\n",
       "      <td>99.975000</td>\n",
       "      <td>98.300000</td>\n",
       "    </tr>\n",
       "    <tr>\n",
       "      <th>50%</th>\n",
       "      <td>102.550000</td>\n",
       "      <td>106.917500</td>\n",
       "      <td>101.737500</td>\n",
       "      <td>102.950000</td>\n",
       "      <td>103.975000</td>\n",
       "    </tr>\n",
       "    <tr>\n",
       "      <th>75%</th>\n",
       "      <td>117.775000</td>\n",
       "      <td>126.230625</td>\n",
       "      <td>111.187500</td>\n",
       "      <td>113.225000</td>\n",
       "      <td>111.700000</td>\n",
       "    </tr>\n",
       "    <tr>\n",
       "      <th>max</th>\n",
       "      <td>144.425000</td>\n",
       "      <td>170.106667</td>\n",
       "      <td>143.525000</td>\n",
       "      <td>170.133333</td>\n",
       "      <td>191.575000</td>\n",
       "    </tr>\n",
       "  </tbody>\n",
       "</table>\n",
       "</div>"
      ],
      "text/plain": [
       "       ProductionVolume  PriceIndex  ProductionCost  LabourInput     Permits\n",
       "count         53.000000   52.000000       54.000000    49.000000   51.000000\n",
       "mean         106.494025  110.101971      106.118519   106.690986  108.696078\n",
       "std           15.293288   22.735826       13.309137    17.705821   26.669233\n",
       "min           75.425000   75.765000       85.825000    76.050000   61.275000\n",
       "25%           99.125000   93.328125       97.643750    99.975000   98.300000\n",
       "50%          102.550000  106.917500      101.737500   102.950000  103.975000\n",
       "75%          117.775000  126.230625      111.187500   113.225000  111.700000\n",
       "max          144.425000  170.106667      143.525000   170.133333  191.575000"
      ]
     },
     "execution_count": 22,
     "metadata": {},
     "output_type": "execute_result"
    }
   ],
   "source": [
    "# Illustrate and explore the yearly average dataframe created previously\n",
    "Yearlyaverage_df.describe()"
   ]
  },
  {
   "attachments": {},
   "cell_type": "markdown",
   "metadata": {},
   "source": [
    "Examine the relationship between production volume and other collected statistics"
   ]
  },
  {
   "cell_type": "code",
   "execution_count": 23,
   "metadata": {},
   "outputs": [
    {
     "name": "stdout",
     "output_type": "stream",
     "text": [
      "Correlation between 'Production Volume' and 'Permits': 0.6795503778844191\n",
      "Correlation between 'Production Volume' and 'LabourInput': 0.9010213308059677\n",
      "Correlation between 'Production Volume' and 'ProductionCost': 0.6323189939578644\n",
      "Correlation between 'Production Volume' and 'PriceIndex': 0.8293051494940903\n"
     ]
    }
   ],
   "source": [
    "list_columns_Yearlyaverage = ['Permits', 'LabourInput', 'ProductionCost', 'PriceIndex']\n",
    "\n",
    "# Use a for loop to generate correlation values for all dataset features\n",
    "for column in list_columns_Yearlyaverage:\n",
    "    correlation = Yearlyaverage_df[column].corr(Yearlyaverage_df['ProductionVolume'])\n",
    "    print(f\"Correlation between 'Production Volume' and '{column}': {correlation}\")"
   ]
  },
  {
   "attachments": {},
   "cell_type": "markdown",
   "metadata": {},
   "source": [
    "Plot the lowest correlation value and the highest to visualise variable relationships"
   ]
  },
  {
   "cell_type": "code",
   "execution_count": 24,
   "metadata": {},
   "outputs": [
    {
     "data": {
      "text/plain": [
       "<function matplotlib.pyplot.show(close=None, block=None)>"
      ]
     },
     "execution_count": 24,
     "metadata": {},
     "output_type": "execute_result"
    },
    {
     "data": {
      "image/png": "[encoded data removed]",
      "text/plain": [
       "<Figure size 500x500 with 1 Axes>"
      ]
     },
     "metadata": {},
     "output_type": "display_data"
    }
   ],
   "source": [
    "sns.lmplot(x=\"ProductionCost\", y=\"ProductionVolume\", data=Yearlyaverage_df, ci=None)\n",
    "plt.show"
   ]
  },
  {
   "cell_type": "code",
   "execution_count": 25,
   "metadata": {},
   "outputs": [
    {
     "data": {
      "text/plain": [
       "<function matplotlib.pyplot.show(close=None, block=None)>"
      ]
     },
     "execution_count": 25,
     "metadata": {},
     "output_type": "execute_result"
    },
    {
     "data": {
      "image/png": "[encoded data removed]",
      "text/plain": [
       "<Figure size 500x500 with 1 Axes>"
      ]
     },
     "metadata": {},
     "output_type": "display_data"
    }
   ],
   "source": [
    "sns.lmplot(x=\"LabourInput\", y=\"ProductionVolume\", data=Yearlyaverage_df, ci=None)\n",
    "plt.show\n"
   ]
  },
  {
   "attachments": {},
   "cell_type": "markdown",
   "metadata": {},
   "source": [
    "# Section 6. Inferential Statistics"
   ]
  },
  {
   "attachments": {},
   "cell_type": "markdown",
   "metadata": {},
   "source": [
    "Creating a sample of the population (all countries in the dataset and their collected construction sector data)"
   ]
  },
  {
   "cell_type": "code",
   "execution_count": 26,
   "metadata": {},
   "outputs": [
    {
     "data": {
      "image/png": "[encoded data removed]",
      "text/plain": [
       "<Figure size 640x480 with 1 Axes>"
      ]
     },
     "metadata": {},
     "output_type": "display_data"
    }
   ],
   "source": [
    "# Plot the ProductionVolume distribution\n",
    "df_constats[\"ProductionVolume\"].hist(bins=np.arange(59, 200, 10))\n",
    "plt.show()"
   ]
  },
  {
   "cell_type": "code",
   "execution_count": 27,
   "metadata": {},
   "outputs": [
    {
     "data": {
      "image/png": "[encoded data removed]",
      "text/plain": [
       "<Figure size 640x480 with 1 Axes>"
      ]
     },
     "metadata": {},
     "output_type": "display_data"
    }
   ],
   "source": [
    "# Create a simple random sample and plot to ensure the distribution is similar shape to the population\n",
    "prodvol_sample = df_constats.sample(n=100)\n",
    "prodvol_sample[\"ProductionVolume\"].hist(bins=np.arange(59, 200, 10))\n",
    "plt.show()"
   ]
  },
  {
   "attachments": {},
   "cell_type": "markdown",
   "metadata": {},
   "source": [
    "1.) T-test: \n",
    "\n",
    "Null Hypothesis \"The mean construction production volume (in our population collected data) for Austria is the same as Ireland\"\n",
    "\n",
    "Alternative Hypothesis \"The mean construction production volume (in our population collected data) for Austria is less than Ireland\""
   ]
  },
  {
   "cell_type": "code",
   "execution_count": 28,
   "metadata": {},
   "outputs": [
    {
     "data": {
      "text/plain": [
       "0.7611999372751093"
      ]
     },
     "execution_count": 28,
     "metadata": {},
     "output_type": "execute_result"
    }
   ],
   "source": [
    "# Create a new dataframe including only values from Austria and Ireland\n",
    "ttest_sample_Austria = prodvol_sample[prodvol_sample['GEO'].isin(['Austria'])]\n",
    "ttest_sample_Ireland = prodvol_sample[prodvol_sample['GEO'].isin(['Ireland'])]\n",
    "\n",
    "# Generate summary statistics for both countries and assign to variables\n",
    "xbar_Austria = ttest_sample_Austria['ProductionVolume'].mean()\n",
    "s_Austria = ttest_sample_Austria['ProductionVolume'].std()\n",
    "n_Austria = ttest_sample_Austria['ProductionVolume'].count()\n",
    "\n",
    "xbar_Ireland = ttest_sample_Ireland['ProductionVolume'].mean()\n",
    "s_Ireland = ttest_sample_Ireland['ProductionVolume'].std()\n",
    "n_Ireland = ttest_sample_Ireland['ProductionVolume'].count()\n",
    "\n",
    "# Calculate t-stat\n",
    "numerator = xbar_Austria - xbar_Ireland\n",
    "denominator = np.sqrt(s_Austria ** 2 / n_Austria + s_Ireland ** 2 / n_Ireland) \n",
    "t_stat = numerator / denominator\n",
    "#print(t_stat)\n",
    "\n",
    "# Calcualte degress of freedom\n",
    "degrees_of_freedom = n_Austria + n_Ireland -2\n",
    "#print(degrees_of_freedom)\n",
    "\n",
    "# Calculate p-value\n",
    "1 - t.cdf(t_stat, df=degrees_of_freedom)\n"
   ]
  },
  {
   "cell_type": "code",
   "execution_count": 29,
   "metadata": {},
   "outputs": [
    {
     "data": {
      "text/plain": [
       "0.9977090554079023"
      ]
     },
     "execution_count": 29,
     "metadata": {},
     "output_type": "execute_result"
    }
   ],
   "source": [
    "# Create a new dataframe including only values from Belgium and Ireland\n",
    "ttest_sample_Belgium = prodvol_sample[prodvol_sample['GEO'].isin(['Belgium'])]\n",
    "ttest_sample_Ireland = prodvol_sample[prodvol_sample['GEO'].isin(['Ireland'])]\n",
    "\n",
    "# Generate summary statistics for both countries and assign to variables\n",
    "xbar_Belgium = ttest_sample_Belgium['ProductionVolume'].mean()\n",
    "s_Belgium = ttest_sample_Belgium['ProductionVolume'].std()\n",
    "n_Belgium = ttest_sample_Belgium['ProductionVolume'].count()\n",
    "\n",
    "xbar_Ireland = ttest_sample_Ireland['ProductionVolume'].mean()\n",
    "s_Ireland = ttest_sample_Ireland['ProductionVolume'].std()\n",
    "n_Ireland = ttest_sample_Ireland['ProductionVolume'].count()\n",
    "\n",
    "# Calculate t-stat\n",
    "numerator = xbar_Belgium - xbar_Ireland\n",
    "denominator = np.sqrt(s_Belgium ** 2 / n_Belgium + s_Ireland ** 2 / n_Ireland) \n",
    "t_stat = numerator / denominator\n",
    "#print(t_stat)\n",
    "\n",
    "# Calcualte degress of freedom\n",
    "degrees_of_freedom = n_Belgium + n_Ireland -2\n",
    "#print(degrees_of_freedom)\n",
    "\n",
    "# Calculate p-value\n",
    "1 - t.cdf(t_stat, df=degrees_of_freedom)"
   ]
  },
  {
   "attachments": {},
   "cell_type": "markdown",
   "metadata": {},
   "source": [
    "2.) ANOVA:"
   ]
  },
  {
   "attachments": {},
   "cell_type": "markdown",
   "metadata": {},
   "source": [
    "Is mean labour input significantly different between quarters of a year for the construction sector in countries we have sampled?"
   ]
  },
  {
   "cell_type": "code",
   "execution_count": 59,
   "metadata": {},
   "outputs": [
    {
     "data": {
      "text/plain": [
       "<function matplotlib.pyplot.show(close=None, block=None)>"
      ]
     },
     "execution_count": 59,
     "metadata": {},
     "output_type": "execute_result"
    },
    {
     "data": {
      "image/png": "[encoded data removed]",
      "text/plain": [
       "<Figure size 640x480 with 1 Axes>"
      ]
     },
     "metadata": {},
     "output_type": "display_data"
    }
   ],
   "source": [
    "# Plot the LabourInput distribution\n",
    "df_constats[\"LabourInput\"].hist(bins=np.arange(59, 200, 10))\n",
    "plt.title('Population shape')\n",
    "plt.show"
   ]
  },
  {
   "cell_type": "code",
   "execution_count": 58,
   "metadata": {},
   "outputs": [
    {
     "data": {
      "image/png": "[encoded data removed]",
      "text/plain": [
       "<Figure size 640x480 with 1 Axes>"
      ]
     },
     "metadata": {},
     "output_type": "display_data"
    }
   ],
   "source": [
    "# Create a simple random sample and plot to ensure the distribution is similar shape to the population\n",
    "labourinput_sample = df_constats.sample(n=100)\n",
    "labourinput_sample[\"LabourInput\"].hist(bins=np.arange(59, 200, 10))\n",
    "plt.title('Random sample shape')\n",
    "plt.show()"
   ]
  },
  {
   "cell_type": "code",
   "execution_count": 32,
   "metadata": {},
   "outputs": [
    {
     "name": "stdout",
     "output_type": "stream",
     "text": [
      "QUARTER\n",
      "Q1     99.952174\n",
      "Q2    105.203846\n",
      "Q3    109.016667\n",
      "Q4    108.880952\n",
      "Name: LabourInput, dtype: float64\n"
     ]
    }
   ],
   "source": [
    "# Display summary statistics from the sample to show mean Labour Input levels per quarter\n",
    "labourinput_sample_mean = labourinput_sample.groupby(\"QUARTER\")['LabourInput'].mean()\n",
    "print(labourinput_sample_mean)"
   ]
  },
  {
   "cell_type": "code",
   "execution_count": 33,
   "metadata": {},
   "outputs": [
    {
     "name": "stdout",
     "output_type": "stream",
     "text": [
      "QUARTER\n",
      "Q1    20.084930\n",
      "Q2    14.491500\n",
      "Q3    21.780790\n",
      "Q4    17.217625\n",
      "Name: LabourInput, dtype: float64\n"
     ]
    }
   ],
   "source": [
    "# Display summary statistics from the sample to show standard deviation levels per quarter\n",
    "labourinput_sample_mean = labourinput_sample.groupby(\"QUARTER\")['LabourInput'].std()\n",
    "print(labourinput_sample_mean)"
   ]
  },
  {
   "cell_type": "code",
   "execution_count": 57,
   "metadata": {},
   "outputs": [
    {
     "data": {
      "text/plain": [
       "Text(0.5, 1.0, 'View differences in Mean by Quarter')"
      ]
     },
     "execution_count": 57,
     "metadata": {},
     "output_type": "execute_result"
    },
    {
     "data": {
      "image/png": "[encoded data removed]",
      "text/plain": [
       "<Figure size 640x480 with 1 Axes>"
      ]
     },
     "metadata": {},
     "output_type": "display_data"
    }
   ],
   "source": [
    "# Visualise differences in mean across quarters\n",
    "sns.boxplot(x=\"LabourInput\", y=\"QUARTER\", data=labourinput_sample)\n",
    "plt.show\n",
    "plt.title('View differences in Mean by Quarter')"
   ]
  },
  {
   "cell_type": "code",
   "execution_count": 35,
   "metadata": {},
   "outputs": [
    {
     "data": {
      "text/html": [
       "<div>\n",
       "<style scoped>\n",
       "    .dataframe tbody tr th:only-of-type {\n",
       "        vertical-align: middle;\n",
       "    }\n",
       "\n",
       "    .dataframe tbody tr th {\n",
       "        vertical-align: top;\n",
       "    }\n",
       "\n",
       "    .dataframe thead th {\n",
       "        text-align: right;\n",
       "    }\n",
       "</style>\n",
       "<table border=\"1\" class=\"dataframe\">\n",
       "  <thead>\n",
       "    <tr style=\"text-align: right;\">\n",
       "      <th></th>\n",
       "      <th>Source</th>\n",
       "      <th>ddof1</th>\n",
       "      <th>ddof2</th>\n",
       "      <th>F</th>\n",
       "      <th>p-unc</th>\n",
       "      <th>np2</th>\n",
       "    </tr>\n",
       "  </thead>\n",
       "  <tbody>\n",
       "    <tr>\n",
       "      <th>0</th>\n",
       "      <td>QUARTER</td>\n",
       "      <td>3</td>\n",
       "      <td>96</td>\n",
       "      <td>1.234383</td>\n",
       "      <td>0.301541</td>\n",
       "      <td>0.037142</td>\n",
       "    </tr>\n",
       "  </tbody>\n",
       "</table>\n",
       "</div>"
      ],
      "text/plain": [
       "    Source  ddof1  ddof2         F     p-unc       np2\n",
       "0  QUARTER      3     96  1.234383  0.301541  0.037142"
      ]
     },
     "execution_count": 35,
     "metadata": {},
     "output_type": "execute_result"
    }
   ],
   "source": [
    "# Use ANOVA testing to determine significant differences in LabourInput across the Quarters in a year for our sample construction data\n",
    "alpha = 0.2\n",
    "\n",
    "pingouin.anova(data=labourinput_sample, dv=\"LabourInput\", between=\"QUARTER\")"
   ]
  },
  {
   "cell_type": "code",
   "execution_count": 36,
   "metadata": {},
   "outputs": [
    {
     "data": {
      "text/html": [
       "<div>\n",
       "<style scoped>\n",
       "    .dataframe tbody tr th:only-of-type {\n",
       "        vertical-align: middle;\n",
       "    }\n",
       "\n",
       "    .dataframe tbody tr th {\n",
       "        vertical-align: top;\n",
       "    }\n",
       "\n",
       "    .dataframe thead th {\n",
       "        text-align: right;\n",
       "    }\n",
       "</style>\n",
       "<table border=\"1\" class=\"dataframe\">\n",
       "  <thead>\n",
       "    <tr style=\"text-align: right;\">\n",
       "      <th></th>\n",
       "      <th>Contrast</th>\n",
       "      <th>A</th>\n",
       "      <th>B</th>\n",
       "      <th>Paired</th>\n",
       "      <th>Parametric</th>\n",
       "      <th>T</th>\n",
       "      <th>dof</th>\n",
       "      <th>alternative</th>\n",
       "      <th>p-unc</th>\n",
       "      <th>p-corr</th>\n",
       "      <th>p-adjust</th>\n",
       "      <th>BF10</th>\n",
       "      <th>hedges</th>\n",
       "    </tr>\n",
       "  </thead>\n",
       "  <tbody>\n",
       "    <tr>\n",
       "      <th>0</th>\n",
       "      <td>QUARTER</td>\n",
       "      <td>Q1</td>\n",
       "      <td>Q2</td>\n",
       "      <td>False</td>\n",
       "      <td>True</td>\n",
       "      <td>-1.037621</td>\n",
       "      <td>39.547601</td>\n",
       "      <td>two-sided</td>\n",
       "      <td>0.305750</td>\n",
       "      <td>1.000000</td>\n",
       "      <td>bonf</td>\n",
       "      <td>0.443</td>\n",
       "      <td>-0.298077</td>\n",
       "    </tr>\n",
       "    <tr>\n",
       "      <th>1</th>\n",
       "      <td>QUARTER</td>\n",
       "      <td>Q1</td>\n",
       "      <td>Q3</td>\n",
       "      <td>False</td>\n",
       "      <td>True</td>\n",
       "      <td>-1.569559</td>\n",
       "      <td>49.208444</td>\n",
       "      <td>two-sided</td>\n",
       "      <td>0.122926</td>\n",
       "      <td>0.737558</td>\n",
       "      <td>bonf</td>\n",
       "      <td>0.761</td>\n",
       "      <td>-0.423931</td>\n",
       "    </tr>\n",
       "    <tr>\n",
       "      <th>2</th>\n",
       "      <td>QUARTER</td>\n",
       "      <td>Q1</td>\n",
       "      <td>Q4</td>\n",
       "      <td>False</td>\n",
       "      <td>True</td>\n",
       "      <td>-1.586957</td>\n",
       "      <td>41.846448</td>\n",
       "      <td>two-sided</td>\n",
       "      <td>0.120051</td>\n",
       "      <td>0.720305</td>\n",
       "      <td>bonf</td>\n",
       "      <td>0.811</td>\n",
       "      <td>-0.467043</td>\n",
       "    </tr>\n",
       "    <tr>\n",
       "      <th>3</th>\n",
       "      <td>QUARTER</td>\n",
       "      <td>Q2</td>\n",
       "      <td>Q3</td>\n",
       "      <td>False</td>\n",
       "      <td>True</td>\n",
       "      <td>-0.780070</td>\n",
       "      <td>50.812995</td>\n",
       "      <td>two-sided</td>\n",
       "      <td>0.438968</td>\n",
       "      <td>1.000000</td>\n",
       "      <td>bonf</td>\n",
       "      <td>0.349</td>\n",
       "      <td>-0.200390</td>\n",
       "    </tr>\n",
       "    <tr>\n",
       "      <th>4</th>\n",
       "      <td>QUARTER</td>\n",
       "      <td>Q2</td>\n",
       "      <td>Q4</td>\n",
       "      <td>False</td>\n",
       "      <td>True</td>\n",
       "      <td>-0.780535</td>\n",
       "      <td>39.174497</td>\n",
       "      <td>two-sided</td>\n",
       "      <td>0.439767</td>\n",
       "      <td>1.000000</td>\n",
       "      <td>bonf</td>\n",
       "      <td>0.373</td>\n",
       "      <td>-0.229388</td>\n",
       "    </tr>\n",
       "    <tr>\n",
       "      <th>5</th>\n",
       "      <td>QUARTER</td>\n",
       "      <td>Q3</td>\n",
       "      <td>Q4</td>\n",
       "      <td>False</td>\n",
       "      <td>True</td>\n",
       "      <td>0.024807</td>\n",
       "      <td>48.195801</td>\n",
       "      <td>two-sided</td>\n",
       "      <td>0.980311</td>\n",
       "      <td>1.000000</td>\n",
       "      <td>bonf</td>\n",
       "      <td>0.284</td>\n",
       "      <td>0.006667</td>\n",
       "    </tr>\n",
       "  </tbody>\n",
       "</table>\n",
       "</div>"
      ],
      "text/plain": [
       "  Contrast   A   B  Paired  Parametric         T        dof alternative  \\\n",
       "0  QUARTER  Q1  Q2   False        True -1.037621  39.547601   two-sided   \n",
       "1  QUARTER  Q1  Q3   False        True -1.569559  49.208444   two-sided   \n",
       "2  QUARTER  Q1  Q4   False        True -1.586957  41.846448   two-sided   \n",
       "3  QUARTER  Q2  Q3   False        True -0.780070  50.812995   two-sided   \n",
       "4  QUARTER  Q2  Q4   False        True -0.780535  39.174497   two-sided   \n",
       "5  QUARTER  Q3  Q4   False        True  0.024807  48.195801   two-sided   \n",
       "\n",
       "      p-unc    p-corr p-adjust   BF10    hedges  \n",
       "0  0.305750  1.000000     bonf  0.443 -0.298077  \n",
       "1  0.122926  0.737558     bonf  0.761 -0.423931  \n",
       "2  0.120051  0.720305     bonf  0.811 -0.467043  \n",
       "3  0.438968  1.000000     bonf  0.349 -0.200390  \n",
       "4  0.439767  1.000000     bonf  0.373 -0.229388  \n",
       "5  0.980311  1.000000     bonf  0.284  0.006667  "
      ]
     },
     "execution_count": 36,
     "metadata": {},
     "output_type": "execute_result"
    }
   ],
   "source": [
    "# Determine the quarters with significant differences for LabourInput\n",
    "pingouin.pairwise_tests(data=labourinput_sample, dv=\"LabourInput\", between=\"QUARTER\", padjust=\"bonf\")"
   ]
  },
  {
   "attachments": {},
   "cell_type": "markdown",
   "metadata": {},
   "source": [
    "Wilcoxon-Mann-Whitney"
   ]
  },
  {
   "attachments": {},
   "cell_type": "markdown",
   "metadata": {},
   "source": [
    "Null Hypothesis \"Austria has a higher volume of permits issued per quarter Vs Ireland\"\n",
    "\n",
    "Alternate Hypothesis \"Austria does not have a higher volume of permits issued per quarter Vs Ireland\""
   ]
  },
  {
   "cell_type": "code",
   "execution_count": 37,
   "metadata": {},
   "outputs": [
    {
     "data": {
      "text/html": [
       "<div>\n",
       "<style scoped>\n",
       "    .dataframe tbody tr th:only-of-type {\n",
       "        vertical-align: middle;\n",
       "    }\n",
       "\n",
       "    .dataframe tbody tr th {\n",
       "        vertical-align: top;\n",
       "    }\n",
       "\n",
       "    .dataframe thead th {\n",
       "        text-align: right;\n",
       "    }\n",
       "</style>\n",
       "<table border=\"1\" class=\"dataframe\">\n",
       "  <thead>\n",
       "    <tr style=\"text-align: right;\">\n",
       "      <th></th>\n",
       "      <th>GEO</th>\n",
       "      <th>PERIOD</th>\n",
       "      <th>YEAR</th>\n",
       "      <th>QUARTER</th>\n",
       "      <th>Permits</th>\n",
       "      <th>LabourInput</th>\n",
       "      <th>ProductionCost</th>\n",
       "      <th>PriceIndex</th>\n",
       "      <th>ProductionVolume</th>\n",
       "    </tr>\n",
       "  </thead>\n",
       "  <tbody>\n",
       "    <tr>\n",
       "      <th>0</th>\n",
       "      <td>Austria</td>\n",
       "      <td>2010Q1</td>\n",
       "      <td>2010</td>\n",
       "      <td>Q1</td>\n",
       "      <td>72.4</td>\n",
       "      <td>87.3</td>\n",
       "      <td>88.3</td>\n",
       "      <td>74.05</td>\n",
       "      <td>97.8</td>\n",
       "    </tr>\n",
       "    <tr>\n",
       "      <th>2</th>\n",
       "      <td>Ireland</td>\n",
       "      <td>2010Q1</td>\n",
       "      <td>2010</td>\n",
       "      <td>Q1</td>\n",
       "      <td>115.7</td>\n",
       "      <td>98.0</td>\n",
       "      <td>97.8</td>\n",
       "      <td>111.53</td>\n",
       "      <td>99.8</td>\n",
       "    </tr>\n",
       "    <tr>\n",
       "      <th>4</th>\n",
       "      <td>Austria</td>\n",
       "      <td>2010Q2</td>\n",
       "      <td>2010</td>\n",
       "      <td>Q2</td>\n",
       "      <td>98.1</td>\n",
       "      <td>102.6</td>\n",
       "      <td>88.8</td>\n",
       "      <td>76.54</td>\n",
       "      <td>98.9</td>\n",
       "    </tr>\n",
       "    <tr>\n",
       "      <th>6</th>\n",
       "      <td>Ireland</td>\n",
       "      <td>2010Q2</td>\n",
       "      <td>2010</td>\n",
       "      <td>Q2</td>\n",
       "      <td>133.8</td>\n",
       "      <td>92.6</td>\n",
       "      <td>99.4</td>\n",
       "      <td>107.73</td>\n",
       "      <td>98.9</td>\n",
       "    </tr>\n",
       "    <tr>\n",
       "      <th>8</th>\n",
       "      <td>Austria</td>\n",
       "      <td>2010Q3</td>\n",
       "      <td>2010</td>\n",
       "      <td>Q3</td>\n",
       "      <td>97.8</td>\n",
       "      <td>106.0</td>\n",
       "      <td>89.5</td>\n",
       "      <td>78.16</td>\n",
       "      <td>97.1</td>\n",
       "    </tr>\n",
       "  </tbody>\n",
       "</table>\n",
       "</div>"
      ],
      "text/plain": [
       "       GEO   PERIOD   YEAR QUARTER  Permits  LabourInput  ProductionCost  \\\n",
       "0  Austria   2010Q1   2010      Q1     72.4         87.3            88.3   \n",
       "2  Ireland   2010Q1   2010      Q1    115.7         98.0            97.8   \n",
       "4  Austria   2010Q2   2010      Q2     98.1        102.6            88.8   \n",
       "6  Ireland   2010Q2   2010      Q2    133.8         92.6            99.4   \n",
       "8  Austria   2010Q3   2010      Q3     97.8        106.0            89.5   \n",
       "\n",
       "   PriceIndex  ProductionVolume  \n",
       "0       74.05              97.8  \n",
       "2      111.53              99.8  \n",
       "4       76.54              98.9  \n",
       "6      107.73              98.9  \n",
       "8       78.16              97.1  "
      ]
     },
     "execution_count": 37,
     "metadata": {},
     "output_type": "execute_result"
    }
   ],
   "source": [
    "splitcountry_df = df_constats[df_constats['GEO'].isin(['Austria', 'Ireland'])].copy()\n",
    "splitcountry_df.head()"
   ]
  },
  {
   "cell_type": "code",
   "execution_count": 38,
   "metadata": {},
   "outputs": [
    {
     "name": "stdout",
     "output_type": "stream",
     "text": [
      "GEO  Austria  Ireland\n",
      "0       72.4      NaN\n",
      "2        NaN    115.7\n",
      "4       98.1      NaN\n",
      "6        NaN    133.8\n",
      "8       97.8      NaN\n",
      "..       ...      ...\n",
      "194      NaN    169.0\n",
      "196     90.1      NaN\n",
      "198      NaN    172.9\n",
      "200     85.7      NaN\n",
      "202      NaN    146.7\n",
      "\n",
      "[102 rows x 2 columns]\n"
     ]
    }
   ],
   "source": [
    "country_vs_permits = splitcountry_df[['Permits', 'GEO']]\n",
    "country_vs_permits_wide = country_vs_permits.pivot(columns='GEO', values='Permits') \n",
    "print (country_vs_permits_wide)"
   ]
  },
  {
   "cell_type": "code",
   "execution_count": 39,
   "metadata": {},
   "outputs": [
    {
     "data": {
      "text/html": [
       "<div>\n",
       "<style scoped>\n",
       "    .dataframe tbody tr th:only-of-type {\n",
       "        vertical-align: middle;\n",
       "    }\n",
       "\n",
       "    .dataframe tbody tr th {\n",
       "        vertical-align: top;\n",
       "    }\n",
       "\n",
       "    .dataframe thead th {\n",
       "        text-align: right;\n",
       "    }\n",
       "</style>\n",
       "<table border=\"1\" class=\"dataframe\">\n",
       "  <thead>\n",
       "    <tr style=\"text-align: right;\">\n",
       "      <th></th>\n",
       "      <th>U-val</th>\n",
       "      <th>alternative</th>\n",
       "      <th>p-val</th>\n",
       "      <th>RBC</th>\n",
       "      <th>CLES</th>\n",
       "    </tr>\n",
       "  </thead>\n",
       "  <tbody>\n",
       "    <tr>\n",
       "      <th>MWU</th>\n",
       "      <td>1631.0</td>\n",
       "      <td>greater</td>\n",
       "      <td>0.013601</td>\n",
       "      <td>-0.254133</td>\n",
       "      <td>0.627067</td>\n",
       "    </tr>\n",
       "  </tbody>\n",
       "</table>\n",
       "</div>"
      ],
      "text/plain": [
       "      U-val alternative     p-val       RBC      CLES\n",
       "MWU  1631.0     greater  0.013601 -0.254133  0.627067"
      ]
     },
     "execution_count": 39,
     "metadata": {},
     "output_type": "execute_result"
    }
   ],
   "source": [
    "alpha=0.01\n",
    "pingouin.mwu(x=country_vs_permits_wide['Ireland'], y=country_vs_permits_wide['Austria'], alternative='greater')"
   ]
  },
  {
   "attachments": {},
   "cell_type": "markdown",
   "metadata": {},
   "source": [
    "Kruskal-Wallis test\n"
   ]
  },
  {
   "cell_type": "code",
   "execution_count": 40,
   "metadata": {},
   "outputs": [
    {
     "data": {
      "text/html": [
       "<div>\n",
       "<style scoped>\n",
       "    .dataframe tbody tr th:only-of-type {\n",
       "        vertical-align: middle;\n",
       "    }\n",
       "\n",
       "    .dataframe tbody tr th {\n",
       "        vertical-align: top;\n",
       "    }\n",
       "\n",
       "    .dataframe thead th {\n",
       "        text-align: right;\n",
       "    }\n",
       "</style>\n",
       "<table border=\"1\" class=\"dataframe\">\n",
       "  <thead>\n",
       "    <tr style=\"text-align: right;\">\n",
       "      <th></th>\n",
       "      <th>Source</th>\n",
       "      <th>ddof1</th>\n",
       "      <th>H</th>\n",
       "      <th>p-unc</th>\n",
       "    </tr>\n",
       "  </thead>\n",
       "  <tbody>\n",
       "    <tr>\n",
       "      <th>Kruskal</th>\n",
       "      <td>GEO</td>\n",
       "      <td>3</td>\n",
       "      <td>17.349108</td>\n",
       "      <td>0.000599</td>\n",
       "    </tr>\n",
       "  </tbody>\n",
       "</table>\n",
       "</div>"
      ],
      "text/plain": [
       "        Source  ddof1          H     p-unc\n",
       "Kruskal    GEO      3  17.349108  0.000599"
      ]
     },
     "execution_count": 40,
     "metadata": {},
     "output_type": "execute_result"
    }
   ],
   "source": [
    "alpha=0.01\n",
    "pingouin.kruskal(data=df_constats, dv='Permits', between='GEO')"
   ]
  },
  {
   "attachments": {},
   "cell_type": "markdown",
   "metadata": {},
   "source": [
    "# Section 7. Modelling"
   ]
  },
  {
   "attachments": {},
   "cell_type": "markdown",
   "metadata": {},
   "source": [
    "Sentiment Analysis"
   ]
  },
  {
   "cell_type": "code",
   "execution_count": 41,
   "metadata": {},
   "outputs": [
    {
     "name": "stdout",
     "output_type": "stream",
     "text": [
      "+-----------+--------+\n",
      "| Sentiment | Score  |\n",
      "+-----------+--------+\n",
      "|  Positive | 0.094  |\n",
      "|  Negative | 0.027  |\n",
      "|  Neutral  | 0.879  |\n",
      "|  Compound | 0.9947 |\n",
      "+-----------+--------+\n"
     ]
    }
   ],
   "source": [
    "# Performing sentiment analysis for Ireland FIEC report\n",
    "report_path = \"FIEC_statistical_report_ireland.pdf\"\n",
    "output_file = \"sentiment_scores.json\"  # Specify the path and filename for the JSON output\n",
    "\n",
    "with open(report_path, \"rb\") as file:\n",
    "    pdf_reader = PyPDF2.PdfReader(file)\n",
    "    text = \"\"\n",
    "    for page_num in range(len(pdf_reader.pages)):\n",
    "        page = pdf_reader.pages[page_num]\n",
    "        text += page.extract_text()\n",
    "\n",
    "sia = SentimentIntensityAnalyzer()\n",
    "sentiment_scores = sia.polarity_scores(text)\n",
    "\n",
    "# Create a table\n",
    "table = PrettyTable()\n",
    "table.field_names = [\"Sentiment\", \"Score\"]\n",
    "\n",
    "# Add rows to the table\n",
    "table.add_row([\"Positive\", sentiment_scores[\"pos\"]])\n",
    "table.add_row([\"Negative\", sentiment_scores[\"neg\"]])\n",
    "table.add_row([\"Neutral\", sentiment_scores[\"neu\"]])\n",
    "table.add_row([\"Compound\", sentiment_scores[\"compound\"]])\n",
    "\n",
    "# Print the table\n",
    "print(table)\n",
    "\n",
    "# Append sentiment scores to a JSON file\n",
    "with open(output_file, \"a\") as json_file:\n",
    "    json.dump(sentiment_scores, json_file)\n",
    "    json_file.write('\\n')  # Add a newline for each entry in the file\n"
   ]
  },
  {
   "cell_type": "code",
   "execution_count": 42,
   "metadata": {},
   "outputs": [
    {
     "name": "stdout",
     "output_type": "stream",
     "text": [
      "+-----------+--------+\n",
      "| Sentiment | Score  |\n",
      "+-----------+--------+\n",
      "|  Positive | 0.127  |\n",
      "|  Negative | 0.062  |\n",
      "|  Neutral  | 0.811  |\n",
      "|  Compound | 0.9985 |\n",
      "+-----------+--------+\n"
     ]
    }
   ],
   "source": [
    "# Performing sentiment analysis for Norway FIEC report\n",
    "report_path = \"FIEC_statistical_report_norway.pdf\"\n",
    "output_file = \"sentiment_scores.json\"  # Specify the path and filename for the JSON output\n",
    "\n",
    "with open(report_path, \"rb\") as file:\n",
    "    pdf_reader = PyPDF2.PdfReader(file)\n",
    "    text = \"\"\n",
    "    for page_num in range(len(pdf_reader.pages)):\n",
    "        page = pdf_reader.pages[page_num]\n",
    "        text += page.extract_text()\n",
    "\n",
    "sia = SentimentIntensityAnalyzer()\n",
    "sentiment_scores = sia.polarity_scores(text)\n",
    "\n",
    "# Create a table\n",
    "table = PrettyTable()\n",
    "table.field_names = [\"Sentiment\", \"Score\"]\n",
    "\n",
    "# Add rows to the table\n",
    "table.add_row([\"Positive\", sentiment_scores[\"pos\"]])\n",
    "table.add_row([\"Negative\", sentiment_scores[\"neg\"]])\n",
    "table.add_row([\"Neutral\", sentiment_scores[\"neu\"]])\n",
    "table.add_row([\"Compound\", sentiment_scores[\"compound\"]])\n",
    "\n",
    "# Print the table\n",
    "print(table)\n",
    "\n",
    "# Append sentiment scores to a JSON file\n",
    "with open(output_file, \"a\") as json_file:\n",
    "    json.dump(sentiment_scores, json_file)\n",
    "    json_file.write('\\n')  # Add a newline for each entry in the file"
   ]
  },
  {
   "attachments": {},
   "cell_type": "markdown",
   "metadata": {},
   "source": [
    "Supervised Learning"
   ]
  },
  {
   "attachments": {},
   "cell_type": "markdown",
   "metadata": {},
   "source": [
    "1.) Multiple Linear Regression"
   ]
  },
  {
   "cell_type": "code",
   "execution_count": 43,
   "metadata": {},
   "outputs": [
    {
     "data": {
      "text/html": [
       "<div>\n",
       "<style scoped>\n",
       "    .dataframe tbody tr th:only-of-type {\n",
       "        vertical-align: middle;\n",
       "    }\n",
       "\n",
       "    .dataframe tbody tr th {\n",
       "        vertical-align: top;\n",
       "    }\n",
       "\n",
       "    .dataframe thead th {\n",
       "        text-align: right;\n",
       "    }\n",
       "</style>\n",
       "<table border=\"1\" class=\"dataframe\">\n",
       "  <thead>\n",
       "    <tr style=\"text-align: right;\">\n",
       "      <th></th>\n",
       "      <th>Permits</th>\n",
       "      <th>LabourInput</th>\n",
       "      <th>ProductionCost</th>\n",
       "      <th>PriceIndex</th>\n",
       "      <th>ProductionVolume</th>\n",
       "    </tr>\n",
       "  </thead>\n",
       "  <tbody>\n",
       "    <tr>\n",
       "      <th>0</th>\n",
       "      <td>72.4</td>\n",
       "      <td>87.3</td>\n",
       "      <td>88.3</td>\n",
       "      <td>74.05</td>\n",
       "      <td>97.8</td>\n",
       "    </tr>\n",
       "    <tr>\n",
       "      <th>1</th>\n",
       "      <td>116.2</td>\n",
       "      <td>98.8</td>\n",
       "      <td>91.1</td>\n",
       "      <td>90.28</td>\n",
       "      <td>101.0</td>\n",
       "    </tr>\n",
       "    <tr>\n",
       "      <th>2</th>\n",
       "      <td>115.7</td>\n",
       "      <td>98.0</td>\n",
       "      <td>97.8</td>\n",
       "      <td>111.53</td>\n",
       "      <td>99.8</td>\n",
       "    </tr>\n",
       "    <tr>\n",
       "      <th>3</th>\n",
       "      <td>91.3</td>\n",
       "      <td>83.1</td>\n",
       "      <td>84.6</td>\n",
       "      <td>73.93</td>\n",
       "      <td>78.5</td>\n",
       "    </tr>\n",
       "    <tr>\n",
       "      <th>4</th>\n",
       "      <td>98.1</td>\n",
       "      <td>102.6</td>\n",
       "      <td>88.8</td>\n",
       "      <td>76.54</td>\n",
       "      <td>98.9</td>\n",
       "    </tr>\n",
       "  </tbody>\n",
       "</table>\n",
       "</div>"
      ],
      "text/plain": [
       "   Permits  LabourInput  ProductionCost  PriceIndex  ProductionVolume\n",
       "0     72.4         87.3            88.3       74.05              97.8\n",
       "1    116.2         98.8            91.1       90.28             101.0\n",
       "2    115.7         98.0            97.8      111.53              99.8\n",
       "3     91.3         83.1            84.6       73.93              78.5\n",
       "4     98.1        102.6            88.8       76.54              98.9"
      ]
     },
     "execution_count": 43,
     "metadata": {},
     "output_type": "execute_result"
    }
   ],
   "source": [
    "# Drop categorical features\n",
    "df_constats_regression = df_constats.reindex(columns=['Permits', 'LabourInput', 'ProductionCost', 'PriceIndex', 'ProductionVolume'])\n",
    "df_constats_regression.head()"
   ]
  },
  {
   "cell_type": "code",
   "execution_count": 44,
   "metadata": {},
   "outputs": [
    {
     "name": "stdout",
     "output_type": "stream",
     "text": [
      "Predictions: [101.71651881 105.58606224], Actual Values: [104.1 102.8]\n"
     ]
    }
   ],
   "source": [
    "# Create X and y arrays\n",
    "X = df_constats_regression.drop(\"ProductionVolume\", axis=1).values\n",
    "y = df_constats_regression[\"ProductionVolume\"].values\n",
    "\n",
    "X_train, X_test, y_train, y_test = train_test_split(X, y, test_size=0.3, random_state=42)\n",
    "\n",
    "# Instantiate the model\n",
    "reg = LinearRegression()\n",
    "\n",
    "# Fit the model to the data\n",
    "reg.fit(X_train, y_train)\n",
    "\n",
    "# Make predictions\n",
    "y_pred = reg.predict(X_test)\n",
    "print(\"Predictions: {}, Actual Values: {}\".format(y_pred[:2], y_test[:2]))"
   ]
  },
  {
   "cell_type": "code",
   "execution_count": 54,
   "metadata": {},
   "outputs": [
    {
     "data": {
      "image/png": "[encoded data removed]",
      "text/plain": [
       "<Figure size 640x480 with 1 Axes>"
      ]
     },
     "metadata": {},
     "output_type": "display_data"
    }
   ],
   "source": [
    "# To evaluate model performance, plotting predicted model values against actual values\n",
    "plt.scatter(y, y_pred)\n",
    "plt.plot([y.min(), y.max()], [y.min(), y.max()], color='red', linestyle='--')\n",
    "plt.xlabel('Actual Values')\n",
    "plt.ylabel('Predicted Values')\n",
    "plt.title('Linear Regression - Model Performance')\n",
    "plt.show()\n"
   ]
  },
  {
   "cell_type": "code",
   "execution_count": 45,
   "metadata": {},
   "outputs": [
    {
     "name": "stdout",
     "output_type": "stream",
     "text": [
      "R^2: 0.7913852324981547\n",
      "RMSE: 7.66688092037817\n"
     ]
    }
   ],
   "source": [
    "# Compute R-squared\n",
    "r_squared = reg.score(X_test, y_test)\n",
    "\n",
    "# Compute RMSE\n",
    "rmse = mean_squared_error(y_test, y_pred, squared=False)\n",
    "\n",
    "# Print these metrics\n",
    "print(\"R^2: {}\".format(r_squared))\n",
    "print(\"RMSE: {}\".format(rmse))"
   ]
  },
  {
   "cell_type": "code",
   "execution_count": 46,
   "metadata": {},
   "outputs": [
    {
     "name": "stdout",
     "output_type": "stream",
     "text": [
      "[0.85161175 0.69517351 0.79694911 0.77945212 0.79638133 0.72426914]\n",
      "0.7739728263322462\n"
     ]
    }
   ],
   "source": [
    "# Perform cross validation scoring\n",
    "kf = KFold(n_splits=6, shuffle=True, random_state=42)\n",
    "reg= LinearRegression()\n",
    "cv_results = cross_val_score(reg, X, y, cv=kf)\n",
    "print(cv_results)\n",
    "print(np.mean(cv_results))"
   ]
  },
  {
   "cell_type": "code",
   "execution_count": 52,
   "metadata": {},
   "outputs": [
    {
     "name": "stdout",
     "output_type": "stream",
     "text": [
      "[ 0.7513317   0.44172416  0.8731742   0.85965139  0.88640888 -0.93380186\n",
      "  0.69396138  0.88795834  0.68129413  0.86970431  0.85548621  0.67768056\n",
      "  0.87581199  0.35301752  0.55974947  0.88024131  0.15509402  0.74937268\n",
      "  0.47322471  0.81094013  0.64458842  0.96286367  0.24310685  0.65965243\n",
      "  0.85474222  0.64758045  0.89822058  0.84845799 -0.22758935  0.94011987]\n",
      "0.6291256120301156\n"
     ]
    }
   ],
   "source": [
    "# Perform cross validation \n",
    "# Demonstrating that running more K-folds can lead to longer processing times (but not much in this instance)\n",
    "kf = KFold(n_splits=30, shuffle=True, random_state=42)\n",
    "reg= LinearRegression()\n",
    "cv_results = cross_val_score(reg, X, y, cv=kf)\n",
    "print(cv_results)\n",
    "print(np.mean(cv_results))"
   ]
  },
  {
   "cell_type": "code",
   "execution_count": 60,
   "metadata": {},
   "outputs": [
    {
     "name": "stdout",
     "output_type": "stream",
     "text": [
      "{'copy_X': True, 'fit_intercept': True, 'n_jobs': None, 'positive': False}\n"
     ]
    }
   ],
   "source": [
    "# Using Grid search cross validation to tune hyperparameters\n",
    "# list hyperparameters\n",
    "print (reg.get_params())"
   ]
  },
  {
   "cell_type": "code",
   "execution_count": 66,
   "metadata": {},
   "outputs": [
    {
     "name": "stdout",
     "output_type": "stream",
     "text": [
      "{'copy_X': True, 'fit_intercept': True, 'positive': False}\n",
      "GridSearchCV Best Score: 0.77\n"
     ]
    }
   ],
   "source": [
    "# Determine best parameters and r square score\n",
    "param_grid = {'fit_intercept': [True, False], 'positive': [True, False], 'copy_X': [True, False]}\n",
    "\n",
    "grid_search = GridSearchCV(estimator=reg, param_grid=param_grid)\n",
    "\n",
    "grid_search.fit(X_train, y_train)\n",
    "\n",
    "print(grid_search.best_params_)\n",
    "\n",
    "# Print the best score from GridSearchCV fit\n",
    "bestScore = grid_search.best_score_\n",
    "print(\"GridSearchCV Best Score: {:.2f}\".format(bestScore))\n"
   ]
  },
  {
   "attachments": {},
   "cell_type": "markdown",
   "metadata": {},
   "source": [
    "2.) Lasso Regression"
   ]
  },
  {
   "cell_type": "code",
   "execution_count": 68,
   "metadata": {},
   "outputs": [
    {
     "data": {
      "text/plain": [
       "<function matplotlib.pyplot.show(close=None, block=None)>"
      ]
     },
     "execution_count": 68,
     "metadata": {},
     "output_type": "execute_result"
    },
    {
     "data": {
      "image/png": "[encoded data removed]",
      "text/plain": [
       "<Figure size 640x480 with 1 Axes>"
      ]
     },
     "metadata": {},
     "output_type": "display_data"
    }
   ],
   "source": [
    "# Perform lasso regression for feature selection\n",
    "# Store all feature names\n",
    "names = df_constats_regression.drop(\"ProductionVolume\", axis=1).columns\n",
    "lasso = Lasso(alpha=0.1)\n",
    "# Fit lasso\n",
    "lasso_coef = lasso.fit(X, y).coef_\n",
    "plt.bar(names, lasso_coef)\n",
    "plt.xticks(rotation=45)\n",
    "plt.show"
   ]
  },
  {
   "cell_type": "code",
   "execution_count": 69,
   "metadata": {},
   "outputs": [
    {
     "name": "stdout",
     "output_type": "stream",
     "text": [
      "Tuned lasso paramaters: {'alpha': 0.8947378947368421}\n",
      "Tuned lasso score: 0.7716186502632002\n"
     ]
    }
   ],
   "source": [
    "# using GridSearchCV from SCIKIT learn\n",
    "\n",
    "kf = KFold(n_splits=5, random_state=42, shuffle=True)\n",
    "\n",
    "# Set up the parameter grid\n",
    "param_grid = {\"alpha\": np.linspace(0.00001, 1, 20)}\n",
    "\n",
    "# Instantiate lasso_cv\n",
    "lasso_cv = GridSearchCV(lasso, param_grid, cv=kf)\n",
    "\n",
    "# Fit to the training data\n",
    "lasso_cv.fit(X_train, y_train)\n",
    "print(\"Tuned lasso paramaters: {}\".format(lasso_cv.best_params_))\n",
    "print(\"Tuned lasso score: {}\".format(lasso_cv.best_score_))"
   ]
  }
 ],
 "metadata": {
  "kernelspec": {
   "display_name": "Python 3 (ipykernel)",
   "language": "python",
   "name": "python3"
  },
  "language_info": {
   "codemirror_mode": {
    "name": "ipython",
    "version": 3
   },
   "file_extension": ".py",
   "mimetype": "text/x-python",
   "name": "python",
   "nbconvert_exporter": "python",
   "pygments_lexer": "ipython3",
   "version": "3.10.9"
  }
 },
 "nbformat": 4,
 "nbformat_minor": 2
}

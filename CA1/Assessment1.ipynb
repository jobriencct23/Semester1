{
 "cells": [
  {
   "cell_type": "code",
   "execution_count": 1,
   "id": "f048e9fb",
   "metadata": {},
   "outputs": [],
   "source": [
    "# Import modules to be utilised later, see programming paradigm section of assessment for usage\n",
    "# Commit testing 290403\n",
    "import pandas as pd\n",
    "import numpy as np\n",
    "import datetime\n",
    "import seaborn as sns\n",
    "import matplotlib.pyplot as plt\n",
    "from collections import OrderedDict\n",
    "import math\n",
    "from scipy.stats import poisson\n",
    "from scipy.stats import norm\n",
    "from sklearn import metrics\n",
    "from sklearn.tree import DecisionTreeClassifier\n",
    "from sklearn.metrics import accuracy_score\n",
    "from sklearn.metrics import classification_report, confusion_matrix\n",
    "from sklearn.preprocessing import StandardScaler\n",
    "from sklearn.model_selection import train_test_split\n",
    "from sklearn.model_selection import GridSearchCV\n",
    "from sklearn.neighbors import KNeighborsClassifier\n",
    "from statsmodels.formula.api import ols\n",
    "# use magic command to ensure plots can be displayed inline\n",
    "%matplotlib inline"
   ]
  },
  {
   "cell_type": "markdown",
   "id": "d6ae80f8",
   "metadata": {},
   "source": [
    "# Data Understanding / Preparation"
   ]
  },
  {
   "cell_type": "markdown",
   "id": "d8dc3e86",
   "metadata": {},
   "source": [
    "# Section 1. Preparation for BASE"
   ]
  },
  {
   "cell_type": "code",
   "execution_count": 2,
   "id": "65667b3a",
   "metadata": {},
   "outputs": [
    {
     "name": "stdout",
     "output_type": "stream",
     "text": [
      "<_io.TextIOWrapper name='DCC_DUBLINK_BASE.csv' mode='r' encoding='cp1252'>\n"
     ]
    }
   ],
   "source": [
    "# Determine file encoding format to ensure we can read this date into a dataframe\n",
    "with open('DCC_DUBLINK_BASE.csv') as file:\n",
    "    print(file)"
   ]
  },
  {
   "cell_type": "code",
   "execution_count": 3,
   "id": "c8e64987",
   "metadata": {},
   "outputs": [
    {
     "data": {
      "text/plain": [
       "(72160, 10)"
      ]
     },
     "execution_count": 3,
     "metadata": {},
     "output_type": "execute_result"
    }
   ],
   "source": [
    "# observing this datafile we view observations and features\n",
    "df = pd.read_csv (\"DCC_DUBLINK_BASE.csv\", encoding='cp1252', skiprows=[1])\n",
    "df.shape\n"
   ]
  },
  {
   "cell_type": "code",
   "execution_count": 4,
   "id": "1f6c259b",
   "metadata": {},
   "outputs": [
    {
     "name": "stdout",
     "output_type": "stream",
     "text": [
      "['REG_REF' 'APPDATE' 'PROPOSAL' 'REGDATE' 'LOCATION' 'APPTYPE' 'DECISION'\n",
      " 'FGDATE' 'DECDATE' 'STAGE']\n"
     ]
    }
   ],
   "source": [
    "# list all the features of the datset\n",
    "print (df.columns.values)"
   ]
  },
  {
   "cell_type": "code",
   "execution_count": 5,
   "id": "17807830",
   "metadata": {},
   "outputs": [
    {
     "data": {
      "text/html": [
       "<div>\n",
       "<style scoped>\n",
       "    .dataframe tbody tr th:only-of-type {\n",
       "        vertical-align: middle;\n",
       "    }\n",
       "\n",
       "    .dataframe tbody tr th {\n",
       "        vertical-align: top;\n",
       "    }\n",
       "\n",
       "    .dataframe thead th {\n",
       "        text-align: right;\n",
       "    }\n",
       "</style>\n",
       "<table border=\"1\" class=\"dataframe\">\n",
       "  <thead>\n",
       "    <tr style=\"text-align: right;\">\n",
       "      <th></th>\n",
       "      <th>REG_REF</th>\n",
       "      <th>APPDATE</th>\n",
       "      <th>LOCATION</th>\n",
       "      <th>DECISION</th>\n",
       "      <th>DECDATE</th>\n",
       "    </tr>\n",
       "  </thead>\n",
       "  <tbody>\n",
       "    <tr>\n",
       "      <th>0</th>\n",
       "      <td>1090/08</td>\n",
       "      <td>14-01-2008</td>\n",
       "      <td>28  Eglinton Park  Dublin 4</td>\n",
       "      <td>GRANT PERMISSION</td>\n",
       "      <td>04-03-2008</td>\n",
       "    </tr>\n",
       "    <tr>\n",
       "      <th>1</th>\n",
       "      <td>1679/07</td>\n",
       "      <td>13-02-2007</td>\n",
       "      <td>412  North Circular Road  Dublin 7</td>\n",
       "      <td>GRANT PERMISSION</td>\n",
       "      <td>05-04-2007</td>\n",
       "    </tr>\n",
       "    <tr>\n",
       "      <th>2</th>\n",
       "      <td>1700/06</td>\n",
       "      <td>23-02-2006</td>\n",
       "      <td>4  Prince Arthur Terrace  Rathmines  Dublin 6</td>\n",
       "      <td>GRANT PERMISSION</td>\n",
       "      <td>21-06-2006</td>\n",
       "    </tr>\n",
       "    <tr>\n",
       "      <th>3</th>\n",
       "      <td>1717/07</td>\n",
       "      <td>15-02-2007</td>\n",
       "      <td>129 - 131  Tritonville Road inclusive of plot ...</td>\n",
       "      <td>GRANT PERMISSION</td>\n",
       "      <td>11-04-2007</td>\n",
       "    </tr>\n",
       "    <tr>\n",
       "      <th>4</th>\n",
       "      <td>2202/03</td>\n",
       "      <td>16-05-2003</td>\n",
       "      <td>Side Of  8  Brookwood Glen  Killester  Dublin 5</td>\n",
       "      <td>REFUSE PERMISSION</td>\n",
       "      <td>08-07-2003</td>\n",
       "    </tr>\n",
       "  </tbody>\n",
       "</table>\n",
       "</div>"
      ],
      "text/plain": [
       "   REG_REF     APPDATE                                           LOCATION  \\\n",
       "0  1090/08  14-01-2008                        28  Eglinton Park  Dublin 4   \n",
       "1  1679/07  13-02-2007                 412  North Circular Road  Dublin 7   \n",
       "2  1700/06  23-02-2006      4  Prince Arthur Terrace  Rathmines  Dublin 6   \n",
       "3  1717/07  15-02-2007  129 - 131  Tritonville Road inclusive of plot ...   \n",
       "4  2202/03  16-05-2003    Side Of  8  Brookwood Glen  Killester  Dublin 5   \n",
       "\n",
       "            DECISION     DECDATE  \n",
       "0   GRANT PERMISSION  04-03-2008  \n",
       "1   GRANT PERMISSION  05-04-2007  \n",
       "2   GRANT PERMISSION  21-06-2006  \n",
       "3   GRANT PERMISSION  11-04-2007  \n",
       "4  REFUSE PERMISSION  08-07-2003  "
      ]
     },
     "execution_count": 5,
     "metadata": {},
     "output_type": "execute_result"
    }
   ],
   "source": [
    "# Drop features we are not interested in for this exercise; See assessment document for justification number 1 and justification number 2\n",
    "df = df.drop(['PROPOSAL', 'REGDATE', 'FGDATE', 'APPTYPE', 'STAGE'], axis = 1)\n",
    "df.head()"
   ]
  },
  {
   "cell_type": "code",
   "execution_count": 6,
   "id": "b7dcd119",
   "metadata": {},
   "outputs": [
    {
     "name": "stderr",
     "output_type": "stream",
     "text": [
      "C:\\Users\\johno\\AppData\\Local\\Temp\\ipykernel_9512\\1268045210.py:6: UserWarning: Parsing dates in DD/MM/YYYY format when dayfirst=False (the default) was specified. This may lead to inconsistently parsed dates! Specify a format to ensure consistent parsing.\n",
      "  df[col] = np.where(df[col].str.contains('/'), pd.to_datetime(df[col]).dt.strftime('%d/%m/%Y'), pd.to_datetime(df[col], dayfirst=True).dt.strftime('%d-%m-%Y'))\n",
      "C:\\Users\\johno\\AppData\\Local\\Temp\\ipykernel_9512\\1268045210.py:6: UserWarning: Parsing dates in DD/MM/YYYY format when dayfirst=False (the default) was specified. This may lead to inconsistently parsed dates! Specify a format to ensure consistent parsing.\n",
      "  df[col] = np.where(df[col].str.contains('/'), pd.to_datetime(df[col]).dt.strftime('%d/%m/%Y'), pd.to_datetime(df[col], dayfirst=True).dt.strftime('%d-%m-%Y'))\n"
     ]
    },
    {
     "data": {
      "text/html": [
       "<div>\n",
       "<style scoped>\n",
       "    .dataframe tbody tr th:only-of-type {\n",
       "        vertical-align: middle;\n",
       "    }\n",
       "\n",
       "    .dataframe tbody tr th {\n",
       "        vertical-align: top;\n",
       "    }\n",
       "\n",
       "    .dataframe thead th {\n",
       "        text-align: right;\n",
       "    }\n",
       "</style>\n",
       "<table border=\"1\" class=\"dataframe\">\n",
       "  <thead>\n",
       "    <tr style=\"text-align: right;\">\n",
       "      <th></th>\n",
       "      <th>REG_REF</th>\n",
       "      <th>APPDATE</th>\n",
       "      <th>LOCATION</th>\n",
       "      <th>DECISION</th>\n",
       "      <th>DECDATE</th>\n",
       "      <th>LEADTIME</th>\n",
       "    </tr>\n",
       "  </thead>\n",
       "  <tbody>\n",
       "    <tr>\n",
       "      <th>0</th>\n",
       "      <td>1090/08</td>\n",
       "      <td>2008-01-14</td>\n",
       "      <td>28  Eglinton Park  Dublin 4</td>\n",
       "      <td>GRANT PERMISSION</td>\n",
       "      <td>2008-03-04</td>\n",
       "      <td>50.0</td>\n",
       "    </tr>\n",
       "    <tr>\n",
       "      <th>1</th>\n",
       "      <td>1679/07</td>\n",
       "      <td>2007-02-13</td>\n",
       "      <td>412  North Circular Road  Dublin 7</td>\n",
       "      <td>GRANT PERMISSION</td>\n",
       "      <td>2007-04-05</td>\n",
       "      <td>51.0</td>\n",
       "    </tr>\n",
       "    <tr>\n",
       "      <th>2</th>\n",
       "      <td>1700/06</td>\n",
       "      <td>2006-02-23</td>\n",
       "      <td>4  Prince Arthur Terrace  Rathmines  Dublin 6</td>\n",
       "      <td>GRANT PERMISSION</td>\n",
       "      <td>2006-06-21</td>\n",
       "      <td>118.0</td>\n",
       "    </tr>\n",
       "    <tr>\n",
       "      <th>3</th>\n",
       "      <td>1717/07</td>\n",
       "      <td>2007-02-15</td>\n",
       "      <td>129 - 131  Tritonville Road inclusive of plot ...</td>\n",
       "      <td>GRANT PERMISSION</td>\n",
       "      <td>2007-04-11</td>\n",
       "      <td>55.0</td>\n",
       "    </tr>\n",
       "    <tr>\n",
       "      <th>4</th>\n",
       "      <td>2202/03</td>\n",
       "      <td>2003-05-16</td>\n",
       "      <td>Side Of  8  Brookwood Glen  Killester  Dublin 5</td>\n",
       "      <td>REFUSE PERMISSION</td>\n",
       "      <td>2003-07-08</td>\n",
       "      <td>53.0</td>\n",
       "    </tr>\n",
       "  </tbody>\n",
       "</table>\n",
       "</div>"
      ],
      "text/plain": [
       "   REG_REF    APPDATE                                           LOCATION  \\\n",
       "0  1090/08 2008-01-14                        28  Eglinton Park  Dublin 4   \n",
       "1  1679/07 2007-02-13                 412  North Circular Road  Dublin 7   \n",
       "2  1700/06 2006-02-23      4  Prince Arthur Terrace  Rathmines  Dublin 6   \n",
       "3  1717/07 2007-02-15  129 - 131  Tritonville Road inclusive of plot ...   \n",
       "4  2202/03 2003-05-16    Side Of  8  Brookwood Glen  Killester  Dublin 5   \n",
       "\n",
       "            DECISION    DECDATE  LEADTIME  \n",
       "0   GRANT PERMISSION 2008-03-04      50.0  \n",
       "1   GRANT PERMISSION 2007-04-05      51.0  \n",
       "2   GRANT PERMISSION 2006-06-21     118.0  \n",
       "3   GRANT PERMISSION 2007-04-11      55.0  \n",
       "4  REFUSE PERMISSION 2003-07-08      53.0  "
      ]
     },
     "execution_count": 6,
     "metadata": {},
     "output_type": "execute_result"
    }
   ],
   "source": [
    "# Resolve malformed date entries see assessment document for justification number 3\n",
    "ImpDates = ['APPDATE', 'DECDATE']\n",
    "# Loop through the list\n",
    "for col in ImpDates:\n",
    "# Finding a specific character or date format then convert to correct format \n",
    "    df[col] = np.where(df[col].str.contains('/'), pd.to_datetime(df[col]).dt.strftime('%d/%m/%Y'), pd.to_datetime(df[col], dayfirst=True).dt.strftime('%d-%m-%Y'))\n",
    "# Then convert back to a datetime format for the next calculation needed \n",
    "df['APPDATE'] = pd.to_datetime(df['APPDATE'], format=\"%d-%m-%Y\")\n",
    "df['DECDATE'] = pd.to_datetime(df['DECDATE'], format=\"%d-%m-%Y\")\n",
    "# Create a new feature by calculating the number of days elapsed between application date and decision date\n",
    "df['LEADTIME'] = (df['DECDATE'] - df['APPDATE']).dt.days\n",
    "df.head()"
   ]
  },
  {
   "cell_type": "code",
   "execution_count": 7,
   "id": "c56fed53",
   "metadata": {},
   "outputs": [
    {
     "data": {
      "text/html": [
       "<div>\n",
       "<style scoped>\n",
       "    .dataframe tbody tr th:only-of-type {\n",
       "        vertical-align: middle;\n",
       "    }\n",
       "\n",
       "    .dataframe tbody tr th {\n",
       "        vertical-align: top;\n",
       "    }\n",
       "\n",
       "    .dataframe thead th {\n",
       "        text-align: right;\n",
       "    }\n",
       "</style>\n",
       "<table border=\"1\" class=\"dataframe\">\n",
       "  <thead>\n",
       "    <tr style=\"text-align: right;\">\n",
       "      <th></th>\n",
       "      <th>REG_REF</th>\n",
       "      <th>APPDATE</th>\n",
       "      <th>LOCATION</th>\n",
       "      <th>DECISION</th>\n",
       "      <th>DECDATE</th>\n",
       "      <th>LEADTIME</th>\n",
       "    </tr>\n",
       "  </thead>\n",
       "  <tbody>\n",
       "    <tr>\n",
       "      <th>0</th>\n",
       "      <td>1090/08</td>\n",
       "      <td>2008-01-14</td>\n",
       "      <td>D4</td>\n",
       "      <td>GRANT PERMISSION</td>\n",
       "      <td>2008-03-04</td>\n",
       "      <td>50.0</td>\n",
       "    </tr>\n",
       "    <tr>\n",
       "      <th>1</th>\n",
       "      <td>1679/07</td>\n",
       "      <td>2007-02-13</td>\n",
       "      <td>D7</td>\n",
       "      <td>GRANT PERMISSION</td>\n",
       "      <td>2007-04-05</td>\n",
       "      <td>51.0</td>\n",
       "    </tr>\n",
       "    <tr>\n",
       "      <th>2</th>\n",
       "      <td>1700/06</td>\n",
       "      <td>2006-02-23</td>\n",
       "      <td>D6</td>\n",
       "      <td>GRANT PERMISSION</td>\n",
       "      <td>2006-06-21</td>\n",
       "      <td>118.0</td>\n",
       "    </tr>\n",
       "    <tr>\n",
       "      <th>3</th>\n",
       "      <td>1717/07</td>\n",
       "      <td>2007-02-15</td>\n",
       "      <td>D4</td>\n",
       "      <td>GRANT PERMISSION</td>\n",
       "      <td>2007-04-11</td>\n",
       "      <td>55.0</td>\n",
       "    </tr>\n",
       "    <tr>\n",
       "      <th>4</th>\n",
       "      <td>2202/03</td>\n",
       "      <td>2003-05-16</td>\n",
       "      <td>D5</td>\n",
       "      <td>REFUSE PERMISSION</td>\n",
       "      <td>2003-07-08</td>\n",
       "      <td>53.0</td>\n",
       "    </tr>\n",
       "  </tbody>\n",
       "</table>\n",
       "</div>"
      ],
      "text/plain": [
       "   REG_REF    APPDATE LOCATION           DECISION    DECDATE  LEADTIME\n",
       "0  1090/08 2008-01-14       D4   GRANT PERMISSION 2008-03-04      50.0\n",
       "1  1679/07 2007-02-13       D7   GRANT PERMISSION 2007-04-05      51.0\n",
       "2  1700/06 2006-02-23       D6   GRANT PERMISSION 2006-06-21     118.0\n",
       "3  1717/07 2007-02-15       D4   GRANT PERMISSION 2007-04-11      55.0\n",
       "4  2202/03 2003-05-16       D5  REFUSE PERMISSION 2003-07-08      53.0"
      ]
     },
     "execution_count": 7,
     "metadata": {},
     "output_type": "execute_result"
    }
   ],
   "source": [
    "# Replace non standardised location entries with corresponding Dublin city postcodes. \n",
    "# See assessment document for justification number 4\n",
    "\n",
    "df['LOCATION'] = df['LOCATION'].astype(str)\n",
    "\n",
    "# Create an ordered dictionary to hold the list of Dublin post codes with abbreviated versions\n",
    "# If we don't use an ordered dictionary and this order of codes, the wrong values are entered for postcodes\n",
    "# Abbreviated versions will help with clarity in visualisations\n",
    "CodeReplace = OrderedDict([\n",
    "    ('D10', 'Dublin 10'),\n",
    "    ('D11', 'Dublin 11'),\n",
    "    ('D12', 'Dublin12'),\n",
    "    ('D13', 'Dublin 13'),\n",
    "    ('D14', 'Dublin 14'),\n",
    "    ('D15', 'Dublin 15'),\n",
    "    ('D16', 'Dublin 16'),\n",
    "    ('D17', 'Dublin 17'),\n",
    "    ('D18', 'Dublin 18'),\n",
    "    ('D20', 'Dublin 20'),\n",
    "    ('D22', 'Dublin 22'),\n",
    "    ('D24', 'Dublin 24'),  \n",
    "    ('D1', 'Dublin 1'),\n",
    "    ('D2', 'Dublin 2'),\n",
    "    ('D3', 'Dublin 3'),\n",
    "    ('D4', 'Dublin 4'),\n",
    "    ('D5', 'Dublin 5'),\n",
    "    ('D6w', 'Dublin 6w'),\n",
    "    ('D6', 'Dublin 6'),\n",
    "    ('D7', 'Dublin 7'),\n",
    "    ('D8', 'Dublin 8'),\n",
    "    ('D9', 'Dublin 9'),\n",
    "    ('NA', 'Dublin')\n",
    "    \n",
    "\n",
    "])\n",
    "\n",
    "# Use a loop structure to search the LOCATION feature for instances of any non abbreviated postcode values \n",
    "for index, row in df.iterrows():\n",
    "    Locationfound = False\n",
    "    for key, value in CodeReplace.items():\n",
    "# If there is a value match summarize the entire contents of the cell with the corresponding key\n",
    "        if value in row['LOCATION']:\n",
    "            df.at[index, 'LOCATION'] = key\n",
    "            Locationfound = True\n",
    "            break\n",
    "# If an address is not found assume malformed entry and drop the resulting row as we cannot determine location patterns without \n",
    "    if not Locationfound:\n",
    "        df.drop(index, inplace=True)      \n",
    "df.head()"
   ]
  },
  {
   "cell_type": "code",
   "execution_count": 8,
   "id": "e64c7f1c",
   "metadata": {},
   "outputs": [
    {
     "name": "stdout",
     "output_type": "stream",
     "text": [
      "['GRANT PERMISSION', 'REFUSE PERMISSION', 'APPLICATION DECLARED INVALID', 'WITHDRAWN ARTICLE 33 (NO SUB)', 'APPLICATION WITHDRAWN', 'SPLIT DECISION(PERMISSION & REFUSAL)', 'ADDITIONAL INFORMATION', 'GRANT PERMISSION ON FOOT OF OUTLINE', 'GRANT OUTLINE PERMISSION', 'WITHDRAWN ARTICLE 33 (SUBSECTION 4)', nan, 'CLARIFICATION OF ADDITIONAL INFORMATION', 'REFUSE OUTLINE PERMISSION', 'REFUSE RETENTION PERMISSION', 'SPLIT DECSION(PERMISSION & OUTLINE PERM)', 'DECISION DELETED BY HIGH COURT', 'REVISED DRAWINGS ARTICLE 35', 'Grant Social Housing Exemption Cert', 'SPLIT DECISION( GRANT OP REFUSE OP)', 'GRANT RETENTION PERMISSION', 'GRANT PERMISSION AND RETENTION PERMISSION', 'REQUEST AI EXT OF TIME', 'Invalid Application (site notice)', 'SPLIT DECISION(RETENTION PERMISSION)', 'WITHDRAWN AT ABP STAGE']\n"
     ]
    }
   ],
   "source": [
    "# List all possible values of DECISION feature\n",
    "decision_df=df.DECISION.unique().tolist()\n",
    "print(decision_df)"
   ]
  },
  {
   "cell_type": "code",
   "execution_count": 9,
   "id": "d7b06200",
   "metadata": {},
   "outputs": [
    {
     "data": {
      "text/html": [
       "<div>\n",
       "<style scoped>\n",
       "    .dataframe tbody tr th:only-of-type {\n",
       "        vertical-align: middle;\n",
       "    }\n",
       "\n",
       "    .dataframe tbody tr th {\n",
       "        vertical-align: top;\n",
       "    }\n",
       "\n",
       "    .dataframe thead th {\n",
       "        text-align: right;\n",
       "    }\n",
       "</style>\n",
       "<table border=\"1\" class=\"dataframe\">\n",
       "  <thead>\n",
       "    <tr style=\"text-align: right;\">\n",
       "      <th></th>\n",
       "      <th>REG_REF</th>\n",
       "      <th>APPDATE</th>\n",
       "      <th>LOCATION</th>\n",
       "      <th>DECISION</th>\n",
       "      <th>DECDATE</th>\n",
       "      <th>LEADTIME</th>\n",
       "    </tr>\n",
       "  </thead>\n",
       "  <tbody>\n",
       "    <tr>\n",
       "      <th>0</th>\n",
       "      <td>1090/08</td>\n",
       "      <td>2008-01-14</td>\n",
       "      <td>D4</td>\n",
       "      <td>successful</td>\n",
       "      <td>2008-03-04</td>\n",
       "      <td>50.0</td>\n",
       "    </tr>\n",
       "    <tr>\n",
       "      <th>1</th>\n",
       "      <td>1679/07</td>\n",
       "      <td>2007-02-13</td>\n",
       "      <td>D7</td>\n",
       "      <td>successful</td>\n",
       "      <td>2007-04-05</td>\n",
       "      <td>51.0</td>\n",
       "    </tr>\n",
       "    <tr>\n",
       "      <th>2</th>\n",
       "      <td>1700/06</td>\n",
       "      <td>2006-02-23</td>\n",
       "      <td>D6</td>\n",
       "      <td>successful</td>\n",
       "      <td>2006-06-21</td>\n",
       "      <td>118.0</td>\n",
       "    </tr>\n",
       "    <tr>\n",
       "      <th>3</th>\n",
       "      <td>1717/07</td>\n",
       "      <td>2007-02-15</td>\n",
       "      <td>D4</td>\n",
       "      <td>successful</td>\n",
       "      <td>2007-04-11</td>\n",
       "      <td>55.0</td>\n",
       "    </tr>\n",
       "    <tr>\n",
       "      <th>4</th>\n",
       "      <td>2202/03</td>\n",
       "      <td>2003-05-16</td>\n",
       "      <td>D5</td>\n",
       "      <td>unsuccessful</td>\n",
       "      <td>2003-07-08</td>\n",
       "      <td>53.0</td>\n",
       "    </tr>\n",
       "  </tbody>\n",
       "</table>\n",
       "</div>"
      ],
      "text/plain": [
       "   REG_REF    APPDATE LOCATION      DECISION    DECDATE  LEADTIME\n",
       "0  1090/08 2008-01-14       D4    successful 2008-03-04      50.0\n",
       "1  1679/07 2007-02-13       D7    successful 2007-04-05      51.0\n",
       "2  1700/06 2006-02-23       D6    successful 2006-06-21     118.0\n",
       "3  1717/07 2007-02-15       D4    successful 2007-04-11      55.0\n",
       "4  2202/03 2003-05-16       D5  unsuccessful 2003-07-08      53.0"
      ]
     },
     "execution_count": 9,
     "metadata": {},
     "output_type": "execute_result"
    }
   ],
   "source": [
    "# Create a dictionary to hold successful DECISION types See Justification number 5\n",
    "successfulApps = {\n",
    "\n",
    "'GRANT PERMISSION':'successful',\n",
    "'SPLIT DECISION(PERMISSION & REFUSAL)':'successful',\n",
    "'GRANT PERMISSION ON FOOT OF OUTLINE':'successful',\n",
    "'GRANT OUTLINE PERMISSION':'successful',\n",
    "'CLARIFICATION OF ADDITIONAL INFORMATION':'successful',\n",
    "'SPLIT DECSION(PERMISSION & OUTLINE PERM)':'successful',\n",
    "'Grant Social Housing Exemption Cert':'successful',\n",
    "'SPLIT DECSION(PERMISSION & OUTLINE PERM)':'successful',\n",
    "'GRANT RETENTION PERMISSION':'successful',\n",
    "'GRANT PERMISSION AND RETENTION PERMISSION':'successful',\n",
    "'SPLIT DECISION(RETENTION PERMISSION)':'successful'\n",
    "\n",
    "}\n",
    "\n",
    "# all other entries outide the dictionary are marked unsuccessful\n",
    "df['DECISION'] = df['DECISION'].map(successfulApps).fillna('unsuccessful')\n",
    "\n",
    "df.head()"
   ]
  },
  {
   "cell_type": "markdown",
   "id": "e252988d",
   "metadata": {},
   "source": [
    "# Section 2. Preparation for APPEAL"
   ]
  },
  {
   "cell_type": "code",
   "execution_count": 10,
   "id": "42c10baf",
   "metadata": {},
   "outputs": [
    {
     "name": "stdout",
     "output_type": "stream",
     "text": [
      "<_io.TextIOWrapper name='DCC_DUBLINK_APPEAL.csv' mode='r' encoding='cp1252'>\n"
     ]
    }
   ],
   "source": [
    "# Determine file encoding format\n",
    "with open('DCC_DUBLINK_APPEAL.csv') as file:\n",
    "    print(file)"
   ]
  },
  {
   "cell_type": "code",
   "execution_count": 11,
   "id": "4baab304",
   "metadata": {},
   "outputs": [
    {
     "data": {
      "text/html": [
       "<div>\n",
       "<style scoped>\n",
       "    .dataframe tbody tr th:only-of-type {\n",
       "        vertical-align: middle;\n",
       "    }\n",
       "\n",
       "    .dataframe tbody tr th {\n",
       "        vertical-align: top;\n",
       "    }\n",
       "\n",
       "    .dataframe thead th {\n",
       "        text-align: right;\n",
       "    }\n",
       "</style>\n",
       "<table border=\"1\" class=\"dataframe\">\n",
       "  <thead>\n",
       "    <tr style=\"text-align: right;\">\n",
       "      <th></th>\n",
       "      <th>REG_REF</th>\n",
       "      <th>APPEAL</th>\n",
       "    </tr>\n",
       "  </thead>\n",
       "  <tbody>\n",
       "    <tr>\n",
       "      <th>0</th>\n",
       "      <td>2202/03</td>\n",
       "      <td>Written Evidence</td>\n",
       "    </tr>\n",
       "    <tr>\n",
       "      <th>1</th>\n",
       "      <td>3115/10</td>\n",
       "      <td>Written Evidence</td>\n",
       "    </tr>\n",
       "    <tr>\n",
       "      <th>2</th>\n",
       "      <td>1903/05</td>\n",
       "      <td>Written Evidence</td>\n",
       "    </tr>\n",
       "    <tr>\n",
       "      <th>3</th>\n",
       "      <td>1355/02</td>\n",
       "      <td>Written Evidence</td>\n",
       "    </tr>\n",
       "    <tr>\n",
       "      <th>4</th>\n",
       "      <td>3564/02</td>\n",
       "      <td>Written Evidence</td>\n",
       "    </tr>\n",
       "  </tbody>\n",
       "</table>\n",
       "</div>"
      ],
      "text/plain": [
       "   REG_REF            APPEAL\n",
       "0  2202/03  Written Evidence\n",
       "1  3115/10  Written Evidence\n",
       "2  1903/05  Written Evidence\n",
       "3  1355/02  Written Evidence\n",
       "4  3564/02  Written Evidence"
      ]
     },
     "execution_count": 11,
     "metadata": {},
     "output_type": "execute_result"
    }
   ],
   "source": [
    "# Manipulate the data frame to include only those features we need See assessment document for justification number 6\n",
    "df_appeals = pd.read_csv (\"DCC_DUBLINK_APPEAL.csv\", encoding='cp1252', skiprows=[1])\n",
    "df_appeals = df_appeals.drop(['APPEAL_NOTIFIED_DATE', 'APPEAL_DEC_DATE', 'APPEAL_DECISION'], axis = 1)\n",
    "df_appeals = df_appeals.rename (columns= {'apnid': 'REG_REF', 'APPEAL_TYPE': 'APPEAL'})\n",
    "df_appeals.head()"
   ]
  },
  {
   "cell_type": "code",
   "execution_count": 12,
   "id": "8b47079f",
   "metadata": {},
   "outputs": [
    {
     "data": {
      "text/html": [
       "<div>\n",
       "<style scoped>\n",
       "    .dataframe tbody tr th:only-of-type {\n",
       "        vertical-align: middle;\n",
       "    }\n",
       "\n",
       "    .dataframe tbody tr th {\n",
       "        vertical-align: top;\n",
       "    }\n",
       "\n",
       "    .dataframe thead th {\n",
       "        text-align: right;\n",
       "    }\n",
       "</style>\n",
       "<table border=\"1\" class=\"dataframe\">\n",
       "  <thead>\n",
       "    <tr style=\"text-align: right;\">\n",
       "      <th></th>\n",
       "      <th>LOCATION</th>\n",
       "      <th>YEAR</th>\n",
       "      <th>LEADTIME</th>\n",
       "      <th>APPEAL</th>\n",
       "      <th>DECISION</th>\n",
       "    </tr>\n",
       "  </thead>\n",
       "  <tbody>\n",
       "    <tr>\n",
       "      <th>0</th>\n",
       "      <td>D4</td>\n",
       "      <td>2008</td>\n",
       "      <td>50</td>\n",
       "      <td>No Appeal</td>\n",
       "      <td>successful</td>\n",
       "    </tr>\n",
       "    <tr>\n",
       "      <th>1</th>\n",
       "      <td>D7</td>\n",
       "      <td>2007</td>\n",
       "      <td>51</td>\n",
       "      <td>No Appeal</td>\n",
       "      <td>successful</td>\n",
       "    </tr>\n",
       "    <tr>\n",
       "      <th>2</th>\n",
       "      <td>D6</td>\n",
       "      <td>2006</td>\n",
       "      <td>118</td>\n",
       "      <td>No Appeal</td>\n",
       "      <td>successful</td>\n",
       "    </tr>\n",
       "    <tr>\n",
       "      <th>3</th>\n",
       "      <td>D4</td>\n",
       "      <td>2007</td>\n",
       "      <td>55</td>\n",
       "      <td>No Appeal</td>\n",
       "      <td>successful</td>\n",
       "    </tr>\n",
       "    <tr>\n",
       "      <th>4</th>\n",
       "      <td>D5</td>\n",
       "      <td>2003</td>\n",
       "      <td>53</td>\n",
       "      <td>Written Evidence</td>\n",
       "      <td>unsuccessful</td>\n",
       "    </tr>\n",
       "  </tbody>\n",
       "</table>\n",
       "</div>"
      ],
      "text/plain": [
       "  LOCATION  YEAR  LEADTIME            APPEAL      DECISION\n",
       "0       D4  2008        50         No Appeal    successful\n",
       "1       D7  2007        51         No Appeal    successful\n",
       "2       D6  2006       118         No Appeal    successful\n",
       "3       D4  2007        55         No Appeal    successful\n",
       "4       D5  2003        53  Written Evidence  unsuccessful"
      ]
     },
     "execution_count": 12,
     "metadata": {},
     "output_type": "execute_result"
    }
   ],
   "source": [
    "# Utilise the reference ID to link appeals to the correct application number\n",
    "merged_df = pd.merge(df, df_appeals, on='REG_REF', how='left')\n",
    "# Set NaN entries to no appeal\n",
    "merged_df['APPEAL'] = merged_df['APPEAL'].fillna('No Appeal')\n",
    "# Create a feature to hold the initial application year\n",
    "merged_df['YEAR'] = merged_df['APPDATE'].dt.year\n",
    "merged_df['YEAR'] = merged_df['YEAR'].apply(int)\n",
    "merged_df['LEADTIME'] = merged_df['LEADTIME'].fillna('0')\n",
    "merged_df['LEADTIME'] = merged_df['LEADTIME'].apply(int)\n",
    "# Drop reg_ref as no longer needed after succesful merge, we have used the reference for a merge, and dates to get lead times\n",
    "merged_df = merged_df.drop(['REG_REF', 'APPDATE', 'DECDATE'], axis = 1)\n",
    "# reorder columns for review\n",
    "merged_df = merged_df[['LOCATION', 'YEAR', 'LEADTIME', 'APPEAL', 'DECISION']]\n",
    "merged_df = merged_df.reindex(columns=['LOCATION', 'YEAR', 'LEADTIME', 'APPEAL', 'DECISION'])\n",
    "# print the resulting dataframe\n",
    "merged_df.head()"
   ]
  },
  {
   "cell_type": "code",
   "execution_count": 13,
   "id": "e2261e95",
   "metadata": {},
   "outputs": [
    {
     "name": "stdout",
     "output_type": "stream",
     "text": [
      "No Appeal           64341\n",
      "Written Evidence     7467\n",
      "Leave to Appeal        42\n",
      "Informal Hearing       25\n",
      "Public Enquiry         16\n",
      "Informal                1\n",
      "Written                 1\n",
      "Name: APPEAL, dtype: int64\n"
     ]
    }
   ],
   "source": [
    "# Show appeal feature list of possible values and count\n",
    "print(merged_df['APPEAL'].value_counts())"
   ]
  },
  {
   "cell_type": "code",
   "execution_count": 14,
   "id": "795766b3",
   "metadata": {},
   "outputs": [
    {
     "name": "stdout",
     "output_type": "stream",
     "text": [
      "No Appeal    64341\n",
      "Appeal        7552\n",
      "Name: APPEAL, dtype: int64\n"
     ]
    }
   ],
   "source": [
    "# Change the appeal types to appeal or no appeal in an effort to simplify the data for consumption in a  future model\n",
    "merged_df.loc[merged_df['APPEAL'] != 'No Appeal', 'APPEAL'] = 'Appeal'\n",
    "print(merged_df['APPEAL'].value_counts())"
   ]
  },
  {
   "cell_type": "code",
   "execution_count": 15,
   "id": "be88f9f2",
   "metadata": {},
   "outputs": [
    {
     "data": {
      "text/html": [
       "<div>\n",
       "<style scoped>\n",
       "    .dataframe tbody tr th:only-of-type {\n",
       "        vertical-align: middle;\n",
       "    }\n",
       "\n",
       "    .dataframe tbody tr th {\n",
       "        vertical-align: top;\n",
       "    }\n",
       "\n",
       "    .dataframe thead th {\n",
       "        text-align: right;\n",
       "    }\n",
       "</style>\n",
       "<table border=\"1\" class=\"dataframe\">\n",
       "  <thead>\n",
       "    <tr style=\"text-align: right;\">\n",
       "      <th></th>\n",
       "      <th>LOCATION</th>\n",
       "      <th>YEAR</th>\n",
       "      <th>LEADTIME</th>\n",
       "      <th>APPEAL</th>\n",
       "      <th>DECISION</th>\n",
       "    </tr>\n",
       "  </thead>\n",
       "  <tbody>\n",
       "    <tr>\n",
       "      <th>0</th>\n",
       "      <td>D4</td>\n",
       "      <td>2008</td>\n",
       "      <td>50</td>\n",
       "      <td>No Appeal</td>\n",
       "      <td>successful</td>\n",
       "    </tr>\n",
       "    <tr>\n",
       "      <th>1</th>\n",
       "      <td>D7</td>\n",
       "      <td>2007</td>\n",
       "      <td>51</td>\n",
       "      <td>No Appeal</td>\n",
       "      <td>successful</td>\n",
       "    </tr>\n",
       "    <tr>\n",
       "      <th>2</th>\n",
       "      <td>D6</td>\n",
       "      <td>2006</td>\n",
       "      <td>118</td>\n",
       "      <td>No Appeal</td>\n",
       "      <td>successful</td>\n",
       "    </tr>\n",
       "    <tr>\n",
       "      <th>3</th>\n",
       "      <td>D4</td>\n",
       "      <td>2007</td>\n",
       "      <td>55</td>\n",
       "      <td>No Appeal</td>\n",
       "      <td>successful</td>\n",
       "    </tr>\n",
       "    <tr>\n",
       "      <th>4</th>\n",
       "      <td>D5</td>\n",
       "      <td>2003</td>\n",
       "      <td>53</td>\n",
       "      <td>Appeal</td>\n",
       "      <td>unsuccessful</td>\n",
       "    </tr>\n",
       "  </tbody>\n",
       "</table>\n",
       "</div>"
      ],
      "text/plain": [
       "  LOCATION  YEAR  LEADTIME     APPEAL      DECISION\n",
       "0       D4  2008        50  No Appeal    successful\n",
       "1       D7  2007        51  No Appeal    successful\n",
       "2       D6  2006       118  No Appeal    successful\n",
       "3       D4  2007        55  No Appeal    successful\n",
       "4       D5  2003        53     Appeal  unsuccessful"
      ]
     },
     "execution_count": 15,
     "metadata": {},
     "output_type": "execute_result"
    }
   ],
   "source": [
    "# Remove malformed negative lead times as they result from incorrectly entered date information\n",
    "merged_df = merged_df[merged_df['LEADTIME'] >= 0].dropna()\n",
    "merged_df.head()"
   ]
  },
  {
   "cell_type": "markdown",
   "id": "fb97f1fa",
   "metadata": {},
   "source": [
    "# Data Understanding / EDA"
   ]
  },
  {
   "cell_type": "markdown",
   "id": "a4914fee",
   "metadata": {},
   "source": [
    "# Section 1. Visualisations"
   ]
  },
  {
   "cell_type": "code",
   "execution_count": 16,
   "id": "b112dc12",
   "metadata": {},
   "outputs": [
    {
     "name": "stderr",
     "output_type": "stream",
     "text": [
      "C:\\ProgramData\\Anaconda3\\lib\\site-packages\\seaborn\\_decorators.py:36: FutureWarning: Pass the following variable as a keyword arg: x. From version 0.12, the only valid positional argument will be `data`, and passing other arguments without an explicit keyword will result in an error or misinterpretation.\n",
      "  warnings.warn(\n"
     ]
    },
    {
     "data": {
      "text/plain": [
       "<bound method FacetGrid.set_xticklabels of <seaborn.axisgrid.FacetGrid object at 0x000001AFADF00FA0>>"
      ]
     },
     "execution_count": 16,
     "metadata": {},
     "output_type": "execute_result"
    },
    {
     "data": {
      "image/png": "[encoded data removed]",
      "text/plain": [
       "<Figure size 720x360 with 1 Axes>"
      ]
     },
     "metadata": {
      "needs_background": "light"
     },
     "output_type": "display_data"
    }
   ],
   "source": [
    "# Display distribution of planning applications across Dublin post codes for all dataset supplied years using a histogram\n",
    "AppLocations = sns.catplot(\"LOCATION\", data=merged_df, height=5, aspect=2, kind=\"count\")\n",
    "AppLocations.set_xticklabels"
   ]
  },
  {
   "cell_type": "code",
   "execution_count": 17,
   "id": "e91b3af6",
   "metadata": {},
   "outputs": [
    {
     "data": {
      "image/png": "[encoded data removed]",
      "text/plain": [
       "<Figure size 864x432 with 1 Axes>"
      ]
     },
     "metadata": {
      "needs_background": "light"
     },
     "output_type": "display_data"
    }
   ],
   "source": [
    "# Using a line plot to show leadtime over years\n",
    "fig, ax = plt.subplots(figsize=(12, 6))\n",
    "sns.lineplot(x=\"YEAR\", y=\"LEADTIME\", hue=\"DECISION\", data=merged_df, ax=ax)\n",
    "ax.set_title(\"Progression of leadtime for planning decisions\")\n",
    "ax.set_xticks(range(2003, 2024))\n",
    "\n",
    "plt.show()"
   ]
  },
  {
   "cell_type": "markdown",
   "id": "aa4679e1",
   "metadata": {},
   "source": [
    "# Section 2. Descriptive Statistics"
   ]
  },
  {
   "cell_type": "code",
   "execution_count": 18,
   "id": "e3280982",
   "metadata": {},
   "outputs": [
    {
     "name": "stdout",
     "output_type": "stream",
     "text": [
      "0    successful\n",
      "dtype: object\n"
     ]
    }
   ],
   "source": [
    "# Determine the mode for the Decision feature\n",
    "mode = merged_df['DECISION'].mode()\n",
    "print(mode)"
   ]
  },
  {
   "cell_type": "code",
   "execution_count": 19,
   "id": "c52e8fa6",
   "metadata": {},
   "outputs": [
    {
     "name": "stdout",
     "output_type": "stream",
     "text": [
      "               mean  median\n",
      "LOCATION                   \n",
      "D1        62.087957    53.0\n",
      "D10       52.339071    52.0\n",
      "D11       54.942284    51.0\n",
      "D13       54.762311    52.0\n",
      "D14       18.800000    15.0\n",
      "D15       76.548872    52.0\n",
      "D17       58.489347    53.0\n",
      "D18        0.000000     0.0\n",
      "D2        69.848063    54.0\n",
      "D20       57.552486    52.0\n",
      "D22       36.142857    50.0\n",
      "D3        56.776953    52.0\n",
      "D4        58.461805    53.0\n",
      "D5        52.411360    52.0\n",
      "D6        55.610966    52.0\n",
      "D6w       51.056618    51.0\n",
      "D7        60.290548    51.0\n",
      "D8        61.390839    53.0\n",
      "D9        54.546540    52.0\n",
      "NA        58.107392    53.0\n"
     ]
    }
   ],
   "source": [
    "# Group by location and compute mean and median\n",
    "print(merged_df.groupby('LOCATION')['LEADTIME'].agg([np.mean, np.median]))"
   ]
  },
  {
   "cell_type": "code",
   "execution_count": 20,
   "id": "a360efd4",
   "metadata": {
    "scrolled": true
   },
   "outputs": [
    {
     "name": "stdout",
     "output_type": "stream",
     "text": [
      "mean      58.300443\n",
      "median    52.000000\n",
      "Name: LEADTIME, dtype: float64\n"
     ]
    }
   ],
   "source": [
    "# Overall values for mean and median irrespective of location\n",
    "print(merged_df['LEADTIME'].agg([np.mean, np.median]))"
   ]
  },
  {
   "cell_type": "code",
   "execution_count": 21,
   "id": "b4520625",
   "metadata": {},
   "outputs": [
    {
     "name": "stdout",
     "output_type": "stream",
     "text": [
      "Minimum LEADTIME value: 0\n",
      "Maximum LEADTIME value: 1652\n"
     ]
    }
   ],
   "source": [
    "# Find the minimum and maximum values of the LEADTIME column\n",
    "minlead = merged_df['LEADTIME'].min()\n",
    "maxlead = merged_df['LEADTIME'].max()\n",
    "\n",
    "# Print the results for both to discover outliers\n",
    "print(f\"Minimum LEADTIME value: {minlead}\")\n",
    "print(f\"Maximum LEADTIME value: {maxlead}\")"
   ]
  },
  {
   "cell_type": "code",
   "execution_count": 22,
   "id": "3fddfdf0",
   "metadata": {},
   "outputs": [
    {
     "data": {
      "image/png": "[encoded data removed]",
      "text/plain": [
       "<Figure size 432x288 with 1 Axes>"
      ]
     },
     "metadata": {
      "needs_background": "light"
     },
     "output_type": "display_data"
    }
   ],
   "source": [
    "# Plot a histogram to show data skew\n",
    "# Filter to one location D1 for illustration purposes\n",
    "dubone_df = merged_df[merged_df['LOCATION'] == 'D1']\n",
    "\n",
    "\n",
    "# Calculate the mean and median lead time so we can display it on the histogram\n",
    "mean_lead = np.mean(dubone_df['LEADTIME'])\n",
    "median_lead = np.median(dubone_df['LEADTIME'])\n",
    "\n",
    "# plot the histogram\n",
    "dubone_df['LEADTIME'].hist(bins = 20)\n",
    "\n",
    "plt.axvline(x=mean_lead, color='red', linestyle='--', label=f'Mean: {mean_lead:.2f}')\n",
    "plt.axvline(x=median_lead, color='green', linestyle='--', label=f'Median: {median_lead:.2f}')\n",
    "\n",
    "plt.title('Histogram of Lead Times D1')\n",
    "plt.show()"
   ]
  },
  {
   "cell_type": "code",
   "execution_count": 23,
   "id": "fa7f07da",
   "metadata": {},
   "outputs": [
    {
     "data": {
      "image/png": "[encoded data removed]",
      "text/plain": [
       "<Figure size 432x288 with 1 Axes>"
      ]
     },
     "metadata": {
      "needs_background": "light"
     },
     "output_type": "display_data"
    }
   ],
   "source": [
    "# Filter out all leadtime values over 100 days\n",
    "# Filter out all leadtime values over 100 for location D1\n",
    "filtered_df = merged_df[(merged_df['LOCATION'] == 'D1') & (merged_df['LEADTIME'] <= 100)]\n",
    "\n",
    "# Calculate the mean and median lead time so we can display it on the histogram\n",
    "mean_lead = np.mean(filtered_df['LEADTIME'])\n",
    "median_lead = np.median(filtered_df['LEADTIME'])\n",
    "\n",
    "# plot the histogram\n",
    "filtered_df['LEADTIME'].hist(bins = 10)\n",
    "\n",
    "plt.axvline(x=mean_lead, color='red', linestyle='--', label=f'Mean: {mean_lead:.2f}')\n",
    "plt.axvline(x=median_lead, color='green', linestyle='--', label=f'Median: {median_lead:.2f}')\n",
    "\n",
    "plt.title('Histogram of Lead Times D1 <= 100')\n",
    "plt.show()\n"
   ]
  },
  {
   "cell_type": "markdown",
   "id": "c05fa82a",
   "metadata": {},
   "source": [
    "# Section 3. Poisson Distribution"
   ]
  },
  {
   "cell_type": "code",
   "execution_count": 24,
   "id": "89137cce",
   "metadata": {},
   "outputs": [
    {
     "name": "stdout",
     "output_type": "stream",
     "text": [
      "Average Count per Week: 8\n"
     ]
    }
   ],
   "source": [
    "# Count by year for all D1 applications\n",
    "YearAvg = dubone_df.groupby('YEAR')['YEAR'].count()\n",
    "# Determine the average count of applications per week\n",
    "weekAvg = YearAvg.mean() / 52\n",
    "weekAvgRounded = math.ceil(weekAvg)\n",
    "print(\"Average Count per Week:\", weekAvgRounded)"
   ]
  },
  {
   "cell_type": "code",
   "execution_count": 25,
   "id": "8f96d01d",
   "metadata": {},
   "outputs": [
    {
     "name": "stdout",
     "output_type": "stream",
     "text": [
      "0.07098326865041356\n"
     ]
    }
   ],
   "source": [
    "# Probability of 10 applications in a week for D1\n",
    "prob10 = poisson.pmf(10, 7)\n",
    "\n",
    "print(prob10)"
   ]
  },
  {
   "cell_type": "code",
   "execution_count": 26,
   "id": "a89ea4db",
   "metadata": {},
   "outputs": [
    {
     "name": "stdout",
     "output_type": "stream",
     "text": [
      "0.07098326865041356\n"
     ]
    }
   ],
   "source": [
    "# Probability of 3 applications in a week for D1\n",
    "prob3 = poisson.pmf(3, 7)\n",
    "\n",
    "print(prob10)"
   ]
  },
  {
   "cell_type": "code",
   "execution_count": 27,
   "id": "12122b82",
   "metadata": {},
   "outputs": [
    {
     "name": "stdout",
     "output_type": "stream",
     "text": [
      "0.005717202492495965\n"
     ]
    }
   ],
   "source": [
    "# Probability of > 15 applications in a week for D1\n",
    "probOver15 = 1 - poisson.cdf(14, 7)\n",
    "\n",
    "print(probOver15)"
   ]
  },
  {
   "cell_type": "markdown",
   "id": "b9c5771a",
   "metadata": {},
   "source": [
    "# Section 4. Normal Distribution"
   ]
  },
  {
   "cell_type": "code",
   "execution_count": 28,
   "id": "48ba07af",
   "metadata": {},
   "outputs": [
    {
     "name": "stdout",
     "output_type": "stream",
     "text": [
      "Mean of LEADTIME: 62.09\n",
      "Standard deviation of LEADTIME: 73.12\n"
     ]
    }
   ],
   "source": [
    "# Calculate the mean and standard deviation of the LEADTIME column for D1\n",
    "D1mean = dubone_df['LEADTIME'].mean()\n",
    "D1std = dubone_df['LEADTIME'].std()\n",
    "\n",
    "# Print the results for STD deviation and mean for D1 location applications\n",
    "print(f\"Mean of LEADTIME: {D1mean:.2f}\")\n",
    "print(f\"Standard deviation of LEADTIME: {D1std:.2f}\")"
   ]
  },
  {
   "cell_type": "code",
   "execution_count": 29,
   "id": "49d1119b",
   "metadata": {},
   "outputs": [
    {
     "data": {
      "image/png": "[encoded data removed]",
      "text/plain": [
       "<Figure size 432x288 with 1 Axes>"
      ]
     },
     "metadata": {
      "needs_background": "light"
     },
     "output_type": "display_data"
    }
   ],
   "source": [
    "# Demonstrate the distribution shape for application leadtimes D1\n",
    "simulatedApps1 = norm.rvs(D1mean, D1std, size=36)\n",
    "\n",
    "# Create histogram and show distribution\n",
    "plt.hist(simulatedApps1)\n",
    "plt.show()"
   ]
  },
  {
   "cell_type": "code",
   "execution_count": 30,
   "id": "1b9ed1ea",
   "metadata": {
    "scrolled": true
   },
   "outputs": [
    {
     "data": {
      "image/png": "[encoded data removed]",
      "text/plain": [
       "<Figure size 432x288 with 1 Axes>"
      ]
     },
     "metadata": {
      "needs_background": "light"
     },
     "output_type": "display_data"
    }
   ],
   "source": [
    "# Demonstrate the distribution shape for application leadtimes with a large sampling size\n",
    "simulatedApps2 = norm.rvs(D1mean, D1std, size=1000)\n",
    "\n",
    "# Create histogram and show distribution\n",
    "plt.hist(simulatedApps2)\n",
    "plt.show()"
   ]
  },
  {
   "cell_type": "code",
   "execution_count": 31,
   "id": "c2b93348",
   "metadata": {},
   "outputs": [
    {
     "data": {
      "image/png": "[encoded data removed]",
      "text/plain": [
       "<Figure size 432x288 with 1 Axes>"
      ]
     },
     "metadata": {
      "needs_background": "light"
     },
     "output_type": "display_data"
    }
   ],
   "source": [
    "# use only data from D1 for year and application lead times highlighting outliers\n",
    "D1Year = dubone_df['YEAR']\n",
    "D1Time = dubone_df['LEADTIME']\n",
    "\n",
    "# Create the  plot\n",
    "plt.scatter(D1Time, D1Year)\n",
    "\n",
    "# Add labels and title\n",
    "plt.xlabel('Lead Time')\n",
    "plt.ylabel('Year')\n",
    "plt.title('Distribution of Lead Time by Year (highlighting outliers)')\n",
    "plt.show()"
   ]
  },
  {
   "cell_type": "markdown",
   "id": "b6e7cbc1",
   "metadata": {},
   "source": [
    "# Data Modelling\n"
   ]
  },
  {
   "cell_type": "markdown",
   "id": "e0da1c4d",
   "metadata": {},
   "source": [
    "# Section 1. Classification with Decision Tree"
   ]
  },
  {
   "cell_type": "code",
   "execution_count": 32,
   "id": "53750605",
   "metadata": {},
   "outputs": [
    {
     "name": "stdout",
     "output_type": "stream",
     "text": [
      "[[2010   49]\n",
      " [2003   54]\n",
      " [2003   47]\n",
      " ...\n",
      " [2023    0]\n",
      " [2023    0]\n",
      " [2023    0]] ['successful' 'successful' 'successful' ... 'unsuccessful' 'unsuccessful'\n",
      " 'unsuccessful']\n"
     ]
    }
   ],
   "source": [
    "# Use year and leadtime features and put in X\n",
    "X = dubone_df.iloc[:, [1, 2]].values\n",
    "\n",
    "# Store the Decision feature in y\n",
    "y = dubone_df.iloc[:, -1].values\n",
    "\n",
    "# Display X and Y\n",
    "print(X, y)"
   ]
  },
  {
   "cell_type": "code",
   "execution_count": 33,
   "id": "1d866690",
   "metadata": {},
   "outputs": [
    {
     "data": {
      "text/plain": [
       "((8254, 2), (8254,), (6603, 2), (1651, 2), (6603,), (1651,))"
      ]
     },
     "execution_count": 33,
     "metadata": {},
     "output_type": "execute_result"
    }
   ],
   "source": [
    "# Split the data set into Training and Testing parts\n",
    "X_train, X_test, y_train, y_test = train_test_split(X, y, test_size = 0.2, random_state = 1)\n",
    "\n",
    "# Display the Number of rows and columns before (X, y) and after Splitting (X_train, X_test, y_train, y_test)\n",
    "X.shape, y.shape, X_train.shape, X_test.shape, y_train.shape, y_test.shape"
   ]
  },
  {
   "cell_type": "code",
   "execution_count": 34,
   "id": "eca08cef",
   "metadata": {},
   "outputs": [
    {
     "data": {
      "text/plain": [
       "(array([[-0.69328089, -0.09435759],\n",
       "        [ 1.3800403 ,  0.60120098],\n",
       "        [-0.69328089,  0.56028577],\n",
       "        ...,\n",
       "        [-1.17173962, -0.14891121],\n",
       "        [ 0.42312283,  0.02838804],\n",
       "        [-1.33122587, -0.63989373]]),\n",
       " array([[ 1.69901279, -0.09435759],\n",
       "        [ 1.22055406,  0.45117854],\n",
       "        [ 0.42312283, -0.1352728 ],\n",
       "        ...,\n",
       "        [-1.01225338, -0.74900095],\n",
       "        [-1.33122587,  2.66059988],\n",
       "        [-0.69328089, -0.73536255]]))"
      ]
     },
     "execution_count": 34,
     "metadata": {},
     "output_type": "execute_result"
    }
   ],
   "source": [
    "# Create and initialise an object by calling a method 'StandardScaler()'\n",
    "sc = StandardScaler()\n",
    "\n",
    "# Convert the X_train and X_test into standised format\n",
    "X_train = sc.fit_transform(X_train)\n",
    "X_test = sc.transform(X_test)\n",
    "\n",
    "# Display the transformed values\n",
    "X_train, X_test"
   ]
  },
  {
   "cell_type": "code",
   "execution_count": 35,
   "id": "c3270a99",
   "metadata": {},
   "outputs": [
    {
     "name": "stdout",
     "output_type": "stream",
     "text": [
      "['successful' 'successful' 'successful' 'successful' 'unsuccessful']\n"
     ]
    }
   ],
   "source": [
    "# Implement decision tree\n",
    "# criterion setting max_depth only\n",
    "\n",
    "dt = DecisionTreeClassifier(max_depth=6)\n",
    "\n",
    "# Fit dt to the training set\n",
    "dt.fit(X_train, y_train)\n",
    "\n",
    "# Predict test set labels\n",
    "y_pred = dt.predict(X_test)\n",
    "print(y_pred[0:5])"
   ]
  },
  {
   "cell_type": "code",
   "execution_count": 36,
   "id": "b08f5bb7",
   "metadata": {},
   "outputs": [
    {
     "name": "stdout",
     "output_type": "stream",
     "text": [
      "Test set accuracy: 0.87\n"
     ]
    }
   ],
   "source": [
    "# Predict test set labels\n",
    "y_pred = dt.predict(X_test)\n",
    "\n",
    "# Compute test set accuracy  \n",
    "acc = accuracy_score(y_test, y_pred)\n",
    "print(\"Test set accuracy: {:.2f}\".format(acc))"
   ]
  },
  {
   "cell_type": "code",
   "execution_count": 37,
   "id": "f3481ac0",
   "metadata": {},
   "outputs": [
    {
     "name": "stdout",
     "output_type": "stream",
     "text": [
      "              precision    recall  f1-score   support\n",
      "\n",
      "  successful       0.83      0.99      0.90      1007\n",
      "unsuccessful       0.97      0.68      0.80       644\n",
      "\n",
      "    accuracy                           0.87      1651\n",
      "   macro avg       0.90      0.84      0.85      1651\n",
      "weighted avg       0.89      0.87      0.86      1651\n",
      "\n"
     ]
    },
    {
     "data": {
      "image/png": "[encoded data removed]",
      "text/plain": [
       "<Figure size 432x288 with 2 Axes>"
      ]
     },
     "metadata": {},
     "output_type": "display_data"
    }
   ],
   "source": [
    "# Calculate cm by calling a method named as 'confusion_matrix'\n",
    "cm = confusion_matrix(y_test, y_pred)\n",
    "\n",
    "# Call a method heatmap() to plot confusion matrix\n",
    "sns.set(font_scale=1.0)\n",
    "sns.heatmap(cm, annot = False)\n",
    "\n",
    "# print the classification_report based on y_test and y_predict\n",
    "print(classification_report(y_test, y_pred))"
   ]
  },
  {
   "cell_type": "code",
   "execution_count": 38,
   "id": "c2ec8d4a",
   "metadata": {},
   "outputs": [
    {
     "name": "stdout",
     "output_type": "stream",
     "text": [
      "{'ccp_alpha': 0.0, 'class_weight': None, 'criterion': 'gini', 'max_depth': 6, 'max_features': None, 'max_leaf_nodes': None, 'min_impurity_decrease': 0.0, 'min_impurity_split': None, 'min_samples_leaf': 1, 'min_samples_split': 2, 'min_weight_fraction_leaf': 0.0, 'random_state': None, 'splitter': 'best'}\n"
     ]
    }
   ],
   "source": [
    "# Using Grid search cross validation to tune hyperparameters\n",
    "# list hyperparameters\n",
    "print (dt.get_params())"
   ]
  },
  {
   "cell_type": "code",
   "execution_count": 39,
   "id": "3a4c121d",
   "metadata": {},
   "outputs": [
    {
     "data": {
      "text/plain": [
       "GridSearchCV(cv=10, estimator=DecisionTreeClassifier(max_depth=6), n_jobs=-1,\n",
       "             param_grid={'max_depth': [3, 4, 5, 6, 7, 8],\n",
       "                         'max_features': [0.2, 0.4, 0.6, 0.8],\n",
       "                         'min_samples_leaf': [0.04, 0.06, 0.08, 0.09]},\n",
       "             scoring='accuracy')"
      ]
     },
     "execution_count": 39,
     "metadata": {},
     "output_type": "execute_result"
    }
   ],
   "source": [
    "# using GridSearchCV from SCIKIT learn\n",
    "params_dt = {\n",
    "    'max_depth': [3, 4, 5, 6, 7, 8],\n",
    "    'min_samples_leaf': [0.04, 0.06, 0.08, 0.09],\n",
    "    'max_features': [0.2, 0.4, 0.6, 0.8]\n",
    "}\n",
    "\n",
    "# CV grid search object \n",
    "grid_dt = GridSearchCV(estimator=dt, param_grid=params_dt, scoring='accuracy', cv=10, n_jobs=-1)\n",
    "\n",
    "# Fit to training data\n",
    "grid_dt.fit(X_train, y_train)"
   ]
  },
  {
   "cell_type": "code",
   "execution_count": 40,
   "id": "031ea3b4",
   "metadata": {},
   "outputs": [
    {
     "name": "stdout",
     "output_type": "stream",
     "text": [
      "Best hyperparameters:\n",
      " {'max_depth': 3, 'max_features': 0.4, 'min_samples_leaf': 0.08}\n"
     ]
    }
   ],
   "source": [
    "# Extract the best hyperparameters\n",
    "best_hyperparams = grid_dt.best_params_\n",
    "print('Best hyperparameters:\\n', best_hyperparams)"
   ]
  },
  {
   "cell_type": "code",
   "execution_count": 41,
   "id": "5dc0dea8",
   "metadata": {},
   "outputs": [
    {
     "name": "stdout",
     "output_type": "stream",
     "text": [
      "GridSearchCV Best Score: 0.86\n"
     ]
    }
   ],
   "source": [
    "# Print the best score from GridSearchCV fit\n",
    "bestScore = grid_dt.best_score_\n",
    "print(\"GridSearchCV Best Score: {:.2f}\".format(bestScore))"
   ]
  },
  {
   "cell_type": "markdown",
   "id": "bb2eca9e",
   "metadata": {},
   "source": [
    "# Section 2. Classification with K-NN"
   ]
  },
  {
   "cell_type": "code",
   "execution_count": 42,
   "id": "2b65f71f",
   "metadata": {},
   "outputs": [],
   "source": [
    "# Train and test the model on 10 different K values\n",
    "\n",
    "neighbors = np.arange(1, 20)\n",
    "train_accuracy = np.zeros(len(neighbors))\n",
    "test_accuracy = np.zeros(len(neighbors))"
   ]
  },
  {
   "cell_type": "code",
   "execution_count": 43,
   "id": "34847947",
   "metadata": {},
   "outputs": [],
   "source": [
    "for i,k in enumerate(neighbors):               \n",
    "    knn = KNeighborsClassifier(n_neighbors = k)\n",
    "\n",
    "    #Fit the model\n",
    "    knn.fit(X_train, y_train)\n",
    "\n",
    "    #Compute accuracy on the training set\n",
    "    train_accuracy[i] = knn.score(X_train, y_train) \n",
    "\n",
    "    #Compute accuracy on the test set\n",
    "    test_accuracy[i] = knn.score(X_test, y_test)      "
   ]
  },
  {
   "cell_type": "code",
   "execution_count": 44,
   "id": "c66b596a",
   "metadata": {},
   "outputs": [
    {
     "name": "stdout",
     "output_type": "stream",
     "text": [
      "[0.76801938 0.8413083  0.81465778 0.84918231 0.83949122 0.85766202\n",
      " 0.85463356 0.86493035 0.85766202 0.86795881 0.86735312 0.86735312\n",
      " 0.86795881 0.86795881 0.86795881 0.8691702  0.86977589 0.86856451\n",
      " 0.86795881]\n"
     ]
    }
   ],
   "source": [
    "# Display the test accuracy\n",
    "print(test_accuracy)"
   ]
  },
  {
   "cell_type": "code",
   "execution_count": 45,
   "id": "f1c6a59e",
   "metadata": {},
   "outputs": [
    {
     "name": "stdout",
     "output_type": "stream",
     "text": [
      "Minimum error:- 0.13022410660205935 at K = 16\n"
     ]
    },
    {
     "data": {
      "image/png": "[encoded data removed]",
      "text/plain": [
       "<Figure size 720x432 with 1 Axes>"
      ]
     },
     "metadata": {},
     "output_type": "display_data"
    }
   ],
   "source": [
    "# Determine optimal K value by determing the minimum error rate and plotting a visualisation\n",
    "# Code sample utilised from:  https://towardsdatascience.com/how-to-find-the-optimal-value-of-k-in-knn-35d936e554eb\n",
    "error_rate = []\n",
    "for i in range(1,20):\n",
    " knn = KNeighborsClassifier(n_neighbors=i)\n",
    " knn.fit(X_train,y_train)\n",
    " pred_i = knn.predict(X_test)\n",
    " error_rate.append(np.mean(pred_i != y_test))\n",
    "\n",
    "plt.figure(figsize=(10,6))\n",
    "plt.plot(range(1,20),error_rate,color='blue', linestyle='dashed', \n",
    "         marker='o',markerfacecolor='red', markersize=10)\n",
    "plt.title('Error Rate vs. K Value')\n",
    "plt.xlabel('K')\n",
    "plt.ylabel('Error Rate')\n",
    "print(\"Minimum error:-\",min(error_rate),\"at K =\",error_rate.index(min(error_rate)))"
   ]
  },
  {
   "cell_type": "code",
   "execution_count": 46,
   "id": "50bdbada",
   "metadata": {
    "scrolled": true
   },
   "outputs": [
    {
     "data": {
      "image/png": "[encoded data removed]",
      "text/plain": [
       "<Figure size 1440x432 with 1 Axes>"
      ]
     },
     "metadata": {},
     "output_type": "display_data"
    }
   ],
   "source": [
    "# Declare the size of the array\n",
    "plt.figure(figsize = (20, 6))\n",
    "plt.title('KNN accuracy with varying number of neighbors', fontsize = 20)\n",
    "plt.plot(neighbors, test_accuracy, label = 'Testing Accuracy')\n",
    "plt.plot(neighbors, train_accuracy, label = 'Training accuracy')\n",
    "plt.legend(prop = {'size': 20})\n",
    "plt.xlabel('Number of neighbors', fontsize = 20)\n",
    "plt.ylabel('Accuracy', fontsize = 20)\n",
    "plt.xticks(fontsize = 20)\n",
    "plt.yticks(fontsize = 20)\n",
    "plt.show()"
   ]
  },
  {
   "cell_type": "code",
   "execution_count": 47,
   "id": "2fda9c84",
   "metadata": {},
   "outputs": [],
   "source": [
    "# Declare and initialise an object 'KNeighborsClassifier' with 16 neighbors\n",
    "knn = KNeighborsClassifier(n_neighbors = 16)\n",
    "\n",
    "# Fit the model\n",
    "knn.fit(X_train, y_train)\n",
    "\n",
    "# Compute accuracy on the training set\n",
    "train_accuracy = knn.score(X_train, y_train)\n",
    "\n",
    "# Compute accuracy on the test set\n",
    "test_accuracy = knn.score(X_test, y_test)"
   ]
  },
  {
   "cell_type": "code",
   "execution_count": 48,
   "id": "f28d1bb8",
   "metadata": {},
   "outputs": [
    {
     "name": "stdout",
     "output_type": "stream",
     "text": [
      "0.8691701998788613\n"
     ]
    }
   ],
   "source": [
    "# Display the test accuracy\n",
    "print(test_accuracy)"
   ]
  },
  {
   "cell_type": "code",
   "execution_count": 49,
   "id": "bddc4b13",
   "metadata": {},
   "outputs": [
    {
     "name": "stdout",
     "output_type": "stream",
     "text": [
      "              precision    recall  f1-score   support\n",
      "\n",
      "  successful       0.83      0.99      0.90      1007\n",
      "unsuccessful       0.98      0.68      0.80       644\n",
      "\n",
      "    accuracy                           0.87      1651\n",
      "   macro avg       0.90      0.84      0.85      1651\n",
      "weighted avg       0.89      0.87      0.86      1651\n",
      "\n"
     ]
    },
    {
     "data": {
      "image/png": "[encoded data removed]",
      "text/plain": [
       "<Figure size 432x288 with 2 Axes>"
      ]
     },
     "metadata": {},
     "output_type": "display_data"
    }
   ],
   "source": [
    "prediction = knn.predict(X_test)\n",
    "\n",
    "# Display the confusion matrix\n",
    "kcm = confusion_matrix(y_test, prediction)\n",
    "\n",
    "confusion_matrix(y_test, prediction)\n",
    "\n",
    "# Call a method heatmap() to plot confusion matrix\n",
    "sns.heatmap(kcm, annot = False)\n",
    "\n",
    "print(classification_report(y_test, prediction))"
   ]
  },
  {
   "cell_type": "code",
   "execution_count": 50,
   "id": "ce15a412",
   "metadata": {},
   "outputs": [
    {
     "data": {
      "text/plain": [
       "successful      0.611946\n",
       "unsuccessful    0.388054\n",
       "Name: DECISION, dtype: float64"
      ]
     },
     "execution_count": 50,
     "metadata": {},
     "output_type": "execute_result"
    }
   ],
   "source": [
    "# Check the dataframe for imbalanced data to just accuracy rate as predictor of \n",
    "dubone_df[\"DECISION\"].value_counts(normalize=True)"
   ]
  },
  {
   "cell_type": "markdown",
   "id": "69beeb04",
   "metadata": {},
   "source": [
    "# Section 3. Regression with Simple Linear Regression"
   ]
  },
  {
   "cell_type": "code",
   "execution_count": 51,
   "id": "4b4875f4",
   "metadata": {},
   "outputs": [
    {
     "name": "stdout",
     "output_type": "stream",
     "text": [
      "    YEAR  total_decisions  successful_decisions\n",
      "0   2003             5130                  2941\n",
      "1   2004             5098                  3167\n",
      "2   2005             5354                  3298\n",
      "3   2006             5774                  3609\n",
      "4   2007             5760                  3652\n",
      "5   2008             4534                  3001\n",
      "6   2009             2740                  1869\n",
      "7   2010             2460                  1705\n",
      "8   2011             2011                  1422\n",
      "9   2012             1927                  1345\n",
      "10  2013             2079                  1559\n",
      "11  2014             2320                  1694\n",
      "12  2015             2732                  1987\n",
      "13  2016             2967                  2144\n",
      "14  2017             3263                  2367\n",
      "15  2018             3424                  2459\n",
      "16  2019             3564                  2375\n",
      "17  2020             3011                  2010\n",
      "18  2021             3407                  2217\n",
      "19  2022             3659                  1917\n",
      "20  2023              620                    41\n"
     ]
    }
   ],
   "source": [
    "# Group by year and count the number of decisions and successful decisions, then sum the number of successful applications\n",
    "grouped_df = merged_df.groupby('YEAR')['DECISION'].agg(['count', lambda x: (x=='successful').sum()])\n",
    "\n",
    "# Rename the columns and reset the index\n",
    "grouped_df = grouped_df.rename(columns={'count': 'total_decisions', '<lambda_0>': 'successful_decisions'}).reset_index()\n",
    "\n",
    "# Create a new dataframe with the relevant columns from the grouped dataframe\n",
    "new_df = pd.DataFrame({'YEAR': grouped_df['YEAR'], 'total_decisions': grouped_df['total_decisions'], 'successful_decisions': grouped_df['successful_decisions']})\n",
    "\n",
    "# Print the new dataframe\n",
    "print(new_df)\n"
   ]
  },
  {
   "cell_type": "code",
   "execution_count": 52,
   "id": "a080a72e",
   "metadata": {},
   "outputs": [
    {
     "name": "stdout",
     "output_type": "stream",
     "text": [
      "0.9723358085442476\n"
     ]
    }
   ],
   "source": [
    "# Find the correlation number between the total number of applications and the resultant number of successful decisions\n",
    "print(new_df['total_decisions'].corr(new_df['successful_decisions']))"
   ]
  },
  {
   "cell_type": "code",
   "execution_count": 53,
   "id": "18c92dab",
   "metadata": {},
   "outputs": [
    {
     "data": {
      "image/png": "[encoded data removed]",
      "text/plain": [
       "<Figure size 432x288 with 1 Axes>"
      ]
     },
     "metadata": {},
     "output_type": "display_data"
    }
   ],
   "source": [
    "# Plot linear regression alongside data points and highlight the confidence interval\n",
    "sns.regplot(x=\"total_decisions\", y=\"successful_decisions\", data=new_df)\n",
    "plt.show()"
   ]
  },
  {
   "cell_type": "code",
   "execution_count": 54,
   "id": "86649079",
   "metadata": {},
   "outputs": [
    {
     "name": "stdout",
     "output_type": "stream",
     "text": [
      "Intercept          187.766134\n",
      "total_decisions      0.596318\n",
      "dtype: float64\n"
     ]
    }
   ],
   "source": [
    "# Fit the model and show the coefficients of intercept and slope\n",
    "model_applications = ols(\"successful_decisions ~ total_decisions\", data=new_df).fit()\n",
    "print(model_applications.params)"
   ]
  },
  {
   "cell_type": "code",
   "execution_count": 55,
   "id": "431524f6",
   "metadata": {},
   "outputs": [
    {
     "name": "stdout",
     "output_type": "stream",
     "text": [
      "     total_decisions  successful_decisions\n",
      "0               5500           3467.515438\n",
      "1               5501           3468.111756\n",
      "2               5502           3468.708074\n",
      "3               5503           3469.304392\n",
      "4               5504           3469.900710\n",
      "..               ...                   ...\n",
      "495             5995           3762.692876\n",
      "496             5996           3763.289194\n",
      "497             5997           3763.885512\n",
      "498             5998           3764.481830\n",
      "499             5999           3765.078148\n",
      "\n",
      "[500 rows x 2 columns]\n"
     ]
    }
   ],
   "source": [
    "# Make predictions for a sample array of values\n",
    "explanatory_data = pd.DataFrame({\"total_decisions\": np.arange(5500, 6000)}\n",
    ")\n",
    "prediction_data = explanatory_data.assign(\n",
    "    successful_decisions=model_applications.predict(explanatory_data)\n",
    ")\n",
    "print(prediction_data)"
   ]
  },
  {
   "cell_type": "code",
   "execution_count": 56,
   "id": "1de80211",
   "metadata": {},
   "outputs": [
    {
     "name": "stdout",
     "output_type": "stream",
     "text": [
      "0.9454369245773957\n"
     ]
    }
   ],
   "source": [
    "# Evaluate model performance using the coefficient of determination\n",
    "print (model_applications.rsquared)"
   ]
  },
  {
   "cell_type": "code",
   "execution_count": 57,
   "id": "09aea652",
   "metadata": {},
   "outputs": [
    {
     "name": "stdout",
     "output_type": "stream",
     "text": [
      "rse:  205.5923080472769\n"
     ]
    }
   ],
   "source": [
    "# Evaluate model performance using the residual standard error\n",
    "# First the MSE is calculated\n",
    "mse = model_applications.mse_resid\n",
    "# Then the square root of the MSE is taken to get the RSE\n",
    "rse = np.sqrt(mse)\n",
    "print(\"rse: \", rse)"
   ]
  }
 ],
 "metadata": {
  "kernelspec": {
   "display_name": "Python 3 (ipykernel)",
   "language": "python",
   "name": "python3"
  },
  "language_info": {
   "codemirror_mode": {
    "name": "ipython",
    "version": 3
   },
   "file_extension": ".py",
   "mimetype": "text/x-python",
   "name": "python",
   "nbconvert_exporter": "python",
   "pygments_lexer": "ipython3",
   "version": "3.10.9"
  }
 },
 "nbformat": 4,
 "nbformat_minor": 5
}
